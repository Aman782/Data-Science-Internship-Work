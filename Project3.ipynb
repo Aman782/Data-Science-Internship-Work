{
 "cells": [
  {
   "cell_type": "code",
   "execution_count": 1,
   "id": "492ec683-6a78-4465-ad89-cd94d648b822",
   "metadata": {},
   "outputs": [],
   "source": [
    "import numpy as np\n",
    "import pandas as pd\n",
    "import matplotlib.pyplot as plt\n",
    "from sklearn.model_selection import train_test_split\n",
    "from sklearn.linear_model import LinearRegression, LogisticRegression\n",
    "from sklearn.tree import DecisionTreeClassifier\n",
    "from sklearn.ensemble import RandomForestClassifier\n",
    "from sklearn import metrics\n",
    "import warnings\n",
    "warnings.filterwarnings(\"ignore\")"
   ]
  },
  {
   "cell_type": "code",
   "execution_count": 2,
   "id": "dfb48148-452a-4761-b55d-7aff752b1d91",
   "metadata": {},
   "outputs": [],
   "source": [
    "df = pd.read_csv('smoking.csv')"
   ]
  },
  {
   "cell_type": "code",
   "execution_count": 3,
   "id": "fee776f1-4751-4568-b4b6-ce6b11f446d2",
   "metadata": {},
   "outputs": [
    {
     "data": {
      "text/html": [
       "<div>\n",
       "<style scoped>\n",
       "    .dataframe tbody tr th:only-of-type {\n",
       "        vertical-align: middle;\n",
       "    }\n",
       "\n",
       "    .dataframe tbody tr th {\n",
       "        vertical-align: top;\n",
       "    }\n",
       "\n",
       "    .dataframe thead th {\n",
       "        text-align: right;\n",
       "    }\n",
       "</style>\n",
       "<table border=\"1\" class=\"dataframe\">\n",
       "  <thead>\n",
       "    <tr style=\"text-align: right;\">\n",
       "      <th></th>\n",
       "      <th>ID</th>\n",
       "      <th>gender</th>\n",
       "      <th>age</th>\n",
       "      <th>height(cm)</th>\n",
       "      <th>weight(kg)</th>\n",
       "      <th>waist(cm)</th>\n",
       "      <th>eyesight(left)</th>\n",
       "      <th>eyesight(right)</th>\n",
       "      <th>hearing(left)</th>\n",
       "      <th>hearing(right)</th>\n",
       "      <th>...</th>\n",
       "      <th>hemoglobin</th>\n",
       "      <th>Urine protein</th>\n",
       "      <th>serum creatinine</th>\n",
       "      <th>AST</th>\n",
       "      <th>ALT</th>\n",
       "      <th>Gtp</th>\n",
       "      <th>oral</th>\n",
       "      <th>dental caries</th>\n",
       "      <th>tartar</th>\n",
       "      <th>smoking</th>\n",
       "    </tr>\n",
       "  </thead>\n",
       "  <tbody>\n",
       "    <tr>\n",
       "      <th>0</th>\n",
       "      <td>0</td>\n",
       "      <td>F</td>\n",
       "      <td>40</td>\n",
       "      <td>155</td>\n",
       "      <td>60</td>\n",
       "      <td>81.3</td>\n",
       "      <td>1.2</td>\n",
       "      <td>1.0</td>\n",
       "      <td>1.0</td>\n",
       "      <td>1.0</td>\n",
       "      <td>...</td>\n",
       "      <td>12.9</td>\n",
       "      <td>1.0</td>\n",
       "      <td>0.7</td>\n",
       "      <td>18.0</td>\n",
       "      <td>19.0</td>\n",
       "      <td>27.0</td>\n",
       "      <td>Y</td>\n",
       "      <td>0</td>\n",
       "      <td>Y</td>\n",
       "      <td>0</td>\n",
       "    </tr>\n",
       "    <tr>\n",
       "      <th>1</th>\n",
       "      <td>1</td>\n",
       "      <td>F</td>\n",
       "      <td>40</td>\n",
       "      <td>160</td>\n",
       "      <td>60</td>\n",
       "      <td>81.0</td>\n",
       "      <td>0.8</td>\n",
       "      <td>0.6</td>\n",
       "      <td>1.0</td>\n",
       "      <td>1.0</td>\n",
       "      <td>...</td>\n",
       "      <td>12.7</td>\n",
       "      <td>1.0</td>\n",
       "      <td>0.6</td>\n",
       "      <td>22.0</td>\n",
       "      <td>19.0</td>\n",
       "      <td>18.0</td>\n",
       "      <td>Y</td>\n",
       "      <td>0</td>\n",
       "      <td>Y</td>\n",
       "      <td>0</td>\n",
       "    </tr>\n",
       "    <tr>\n",
       "      <th>2</th>\n",
       "      <td>2</td>\n",
       "      <td>M</td>\n",
       "      <td>55</td>\n",
       "      <td>170</td>\n",
       "      <td>60</td>\n",
       "      <td>80.0</td>\n",
       "      <td>0.8</td>\n",
       "      <td>0.8</td>\n",
       "      <td>1.0</td>\n",
       "      <td>1.0</td>\n",
       "      <td>...</td>\n",
       "      <td>15.8</td>\n",
       "      <td>1.0</td>\n",
       "      <td>1.0</td>\n",
       "      <td>21.0</td>\n",
       "      <td>16.0</td>\n",
       "      <td>22.0</td>\n",
       "      <td>Y</td>\n",
       "      <td>0</td>\n",
       "      <td>N</td>\n",
       "      <td>1</td>\n",
       "    </tr>\n",
       "    <tr>\n",
       "      <th>3</th>\n",
       "      <td>3</td>\n",
       "      <td>M</td>\n",
       "      <td>40</td>\n",
       "      <td>165</td>\n",
       "      <td>70</td>\n",
       "      <td>88.0</td>\n",
       "      <td>1.5</td>\n",
       "      <td>1.5</td>\n",
       "      <td>1.0</td>\n",
       "      <td>1.0</td>\n",
       "      <td>...</td>\n",
       "      <td>14.7</td>\n",
       "      <td>1.0</td>\n",
       "      <td>1.0</td>\n",
       "      <td>19.0</td>\n",
       "      <td>26.0</td>\n",
       "      <td>18.0</td>\n",
       "      <td>Y</td>\n",
       "      <td>0</td>\n",
       "      <td>Y</td>\n",
       "      <td>0</td>\n",
       "    </tr>\n",
       "    <tr>\n",
       "      <th>4</th>\n",
       "      <td>4</td>\n",
       "      <td>F</td>\n",
       "      <td>40</td>\n",
       "      <td>155</td>\n",
       "      <td>60</td>\n",
       "      <td>86.0</td>\n",
       "      <td>1.0</td>\n",
       "      <td>1.0</td>\n",
       "      <td>1.0</td>\n",
       "      <td>1.0</td>\n",
       "      <td>...</td>\n",
       "      <td>12.5</td>\n",
       "      <td>1.0</td>\n",
       "      <td>0.6</td>\n",
       "      <td>16.0</td>\n",
       "      <td>14.0</td>\n",
       "      <td>22.0</td>\n",
       "      <td>Y</td>\n",
       "      <td>0</td>\n",
       "      <td>N</td>\n",
       "      <td>0</td>\n",
       "    </tr>\n",
       "  </tbody>\n",
       "</table>\n",
       "<p>5 rows × 27 columns</p>\n",
       "</div>"
      ],
      "text/plain": [
       "   ID gender  age  height(cm)  weight(kg)  waist(cm)  eyesight(left)  \\\n",
       "0   0      F   40         155          60       81.3             1.2   \n",
       "1   1      F   40         160          60       81.0             0.8   \n",
       "2   2      M   55         170          60       80.0             0.8   \n",
       "3   3      M   40         165          70       88.0             1.5   \n",
       "4   4      F   40         155          60       86.0             1.0   \n",
       "\n",
       "   eyesight(right)  hearing(left)  hearing(right)  ...  hemoglobin  \\\n",
       "0              1.0            1.0             1.0  ...        12.9   \n",
       "1              0.6            1.0             1.0  ...        12.7   \n",
       "2              0.8            1.0             1.0  ...        15.8   \n",
       "3              1.5            1.0             1.0  ...        14.7   \n",
       "4              1.0            1.0             1.0  ...        12.5   \n",
       "\n",
       "   Urine protein  serum creatinine   AST   ALT   Gtp  oral  dental caries  \\\n",
       "0            1.0               0.7  18.0  19.0  27.0     Y              0   \n",
       "1            1.0               0.6  22.0  19.0  18.0     Y              0   \n",
       "2            1.0               1.0  21.0  16.0  22.0     Y              0   \n",
       "3            1.0               1.0  19.0  26.0  18.0     Y              0   \n",
       "4            1.0               0.6  16.0  14.0  22.0     Y              0   \n",
       "\n",
       "   tartar  smoking  \n",
       "0       Y        0  \n",
       "1       Y        0  \n",
       "2       N        1  \n",
       "3       Y        0  \n",
       "4       N        0  \n",
       "\n",
       "[5 rows x 27 columns]"
      ]
     },
     "execution_count": 3,
     "metadata": {},
     "output_type": "execute_result"
    }
   ],
   "source": [
    "df.head()"
   ]
  },
  {
   "cell_type": "code",
   "execution_count": 4,
   "id": "5f9a83f7-f798-41d5-b8cd-d6e152aaa378",
   "metadata": {},
   "outputs": [
    {
     "data": {
      "text/plain": [
       "Index(['ID', 'gender', 'age', 'height(cm)', 'weight(kg)', 'waist(cm)',\n",
       "       'eyesight(left)', 'eyesight(right)', 'hearing(left)', 'hearing(right)',\n",
       "       'systolic', 'relaxation', 'fasting blood sugar', 'Cholesterol',\n",
       "       'triglyceride', 'HDL', 'LDL', 'hemoglobin', 'Urine protein',\n",
       "       'serum creatinine', 'AST', 'ALT', 'Gtp', 'oral', 'dental caries',\n",
       "       'tartar', 'smoking'],\n",
       "      dtype='object')"
      ]
     },
     "execution_count": 4,
     "metadata": {},
     "output_type": "execute_result"
    }
   ],
   "source": [
    "df.columns"
   ]
  },
  {
   "cell_type": "code",
   "execution_count": 5,
   "id": "bacb4946-7123-4f6f-9611-2b2eaff163e0",
   "metadata": {},
   "outputs": [
    {
     "name": "stdout",
     "output_type": "stream",
     "text": [
      "<class 'pandas.core.frame.DataFrame'>\n",
      "RangeIndex: 55692 entries, 0 to 55691\n",
      "Data columns (total 27 columns):\n",
      " #   Column               Non-Null Count  Dtype  \n",
      "---  ------               --------------  -----  \n",
      " 0   ID                   55692 non-null  int64  \n",
      " 1   gender               55692 non-null  object \n",
      " 2   age                  55692 non-null  int64  \n",
      " 3   height(cm)           55692 non-null  int64  \n",
      " 4   weight(kg)           55692 non-null  int64  \n",
      " 5   waist(cm)            55692 non-null  float64\n",
      " 6   eyesight(left)       55692 non-null  float64\n",
      " 7   eyesight(right)      55692 non-null  float64\n",
      " 8   hearing(left)        55692 non-null  float64\n",
      " 9   hearing(right)       55692 non-null  float64\n",
      " 10  systolic             55692 non-null  float64\n",
      " 11  relaxation           55692 non-null  float64\n",
      " 12  fasting blood sugar  55692 non-null  float64\n",
      " 13  Cholesterol          55692 non-null  float64\n",
      " 14  triglyceride         55692 non-null  float64\n",
      " 15  HDL                  55692 non-null  float64\n",
      " 16  LDL                  55692 non-null  float64\n",
      " 17  hemoglobin           55692 non-null  float64\n",
      " 18  Urine protein        55692 non-null  float64\n",
      " 19  serum creatinine     55692 non-null  float64\n",
      " 20  AST                  55692 non-null  float64\n",
      " 21  ALT                  55692 non-null  float64\n",
      " 22  Gtp                  55692 non-null  float64\n",
      " 23  oral                 55692 non-null  object \n",
      " 24  dental caries        55692 non-null  int64  \n",
      " 25  tartar               55692 non-null  object \n",
      " 26  smoking              55692 non-null  int64  \n",
      "dtypes: float64(18), int64(6), object(3)\n",
      "memory usage: 11.5+ MB\n"
     ]
    }
   ],
   "source": [
    "df.info()"
   ]
  },
  {
   "cell_type": "code",
   "execution_count": 6,
   "id": "978adf73-04d2-4e1f-8012-fb62283fc880",
   "metadata": {},
   "outputs": [
    {
     "data": {
      "text/html": [
       "<div>\n",
       "<style scoped>\n",
       "    .dataframe tbody tr th:only-of-type {\n",
       "        vertical-align: middle;\n",
       "    }\n",
       "\n",
       "    .dataframe tbody tr th {\n",
       "        vertical-align: top;\n",
       "    }\n",
       "\n",
       "    .dataframe thead th {\n",
       "        text-align: right;\n",
       "    }\n",
       "</style>\n",
       "<table border=\"1\" class=\"dataframe\">\n",
       "  <thead>\n",
       "    <tr style=\"text-align: right;\">\n",
       "      <th></th>\n",
       "      <th>ID</th>\n",
       "      <th>age</th>\n",
       "      <th>height(cm)</th>\n",
       "      <th>weight(kg)</th>\n",
       "      <th>waist(cm)</th>\n",
       "      <th>eyesight(left)</th>\n",
       "      <th>eyesight(right)</th>\n",
       "      <th>hearing(left)</th>\n",
       "      <th>hearing(right)</th>\n",
       "      <th>systolic</th>\n",
       "      <th>...</th>\n",
       "      <th>HDL</th>\n",
       "      <th>LDL</th>\n",
       "      <th>hemoglobin</th>\n",
       "      <th>Urine protein</th>\n",
       "      <th>serum creatinine</th>\n",
       "      <th>AST</th>\n",
       "      <th>ALT</th>\n",
       "      <th>Gtp</th>\n",
       "      <th>dental caries</th>\n",
       "      <th>smoking</th>\n",
       "    </tr>\n",
       "  </thead>\n",
       "  <tbody>\n",
       "    <tr>\n",
       "      <th>count</th>\n",
       "      <td>55692.000000</td>\n",
       "      <td>55692.000000</td>\n",
       "      <td>55692.000000</td>\n",
       "      <td>55692.000000</td>\n",
       "      <td>55692.000000</td>\n",
       "      <td>55692.000000</td>\n",
       "      <td>55692.000000</td>\n",
       "      <td>55692.000000</td>\n",
       "      <td>55692.000000</td>\n",
       "      <td>55692.000000</td>\n",
       "      <td>...</td>\n",
       "      <td>55692.000000</td>\n",
       "      <td>55692.000000</td>\n",
       "      <td>55692.000000</td>\n",
       "      <td>55692.000000</td>\n",
       "      <td>55692.000000</td>\n",
       "      <td>55692.000000</td>\n",
       "      <td>55692.000000</td>\n",
       "      <td>55692.000000</td>\n",
       "      <td>55692.000000</td>\n",
       "      <td>55692.000000</td>\n",
       "    </tr>\n",
       "    <tr>\n",
       "      <th>mean</th>\n",
       "      <td>27845.500000</td>\n",
       "      <td>44.182917</td>\n",
       "      <td>164.649321</td>\n",
       "      <td>65.864936</td>\n",
       "      <td>82.046418</td>\n",
       "      <td>1.012623</td>\n",
       "      <td>1.007443</td>\n",
       "      <td>1.025587</td>\n",
       "      <td>1.026144</td>\n",
       "      <td>121.494218</td>\n",
       "      <td>...</td>\n",
       "      <td>57.290347</td>\n",
       "      <td>114.964501</td>\n",
       "      <td>14.622592</td>\n",
       "      <td>1.087212</td>\n",
       "      <td>0.885738</td>\n",
       "      <td>26.182935</td>\n",
       "      <td>27.036037</td>\n",
       "      <td>39.952201</td>\n",
       "      <td>0.213334</td>\n",
       "      <td>0.367288</td>\n",
       "    </tr>\n",
       "    <tr>\n",
       "      <th>std</th>\n",
       "      <td>16077.039933</td>\n",
       "      <td>12.071418</td>\n",
       "      <td>9.194597</td>\n",
       "      <td>12.820306</td>\n",
       "      <td>9.274223</td>\n",
       "      <td>0.486873</td>\n",
       "      <td>0.485964</td>\n",
       "      <td>0.157902</td>\n",
       "      <td>0.159564</td>\n",
       "      <td>13.675989</td>\n",
       "      <td>...</td>\n",
       "      <td>14.738963</td>\n",
       "      <td>40.926476</td>\n",
       "      <td>1.564498</td>\n",
       "      <td>0.404882</td>\n",
       "      <td>0.221524</td>\n",
       "      <td>19.355460</td>\n",
       "      <td>30.947853</td>\n",
       "      <td>50.290539</td>\n",
       "      <td>0.409665</td>\n",
       "      <td>0.482070</td>\n",
       "    </tr>\n",
       "    <tr>\n",
       "      <th>min</th>\n",
       "      <td>0.000000</td>\n",
       "      <td>20.000000</td>\n",
       "      <td>130.000000</td>\n",
       "      <td>30.000000</td>\n",
       "      <td>51.000000</td>\n",
       "      <td>0.100000</td>\n",
       "      <td>0.100000</td>\n",
       "      <td>1.000000</td>\n",
       "      <td>1.000000</td>\n",
       "      <td>71.000000</td>\n",
       "      <td>...</td>\n",
       "      <td>4.000000</td>\n",
       "      <td>1.000000</td>\n",
       "      <td>4.900000</td>\n",
       "      <td>1.000000</td>\n",
       "      <td>0.100000</td>\n",
       "      <td>6.000000</td>\n",
       "      <td>1.000000</td>\n",
       "      <td>1.000000</td>\n",
       "      <td>0.000000</td>\n",
       "      <td>0.000000</td>\n",
       "    </tr>\n",
       "    <tr>\n",
       "      <th>25%</th>\n",
       "      <td>13922.750000</td>\n",
       "      <td>40.000000</td>\n",
       "      <td>160.000000</td>\n",
       "      <td>55.000000</td>\n",
       "      <td>76.000000</td>\n",
       "      <td>0.800000</td>\n",
       "      <td>0.800000</td>\n",
       "      <td>1.000000</td>\n",
       "      <td>1.000000</td>\n",
       "      <td>112.000000</td>\n",
       "      <td>...</td>\n",
       "      <td>47.000000</td>\n",
       "      <td>92.000000</td>\n",
       "      <td>13.600000</td>\n",
       "      <td>1.000000</td>\n",
       "      <td>0.800000</td>\n",
       "      <td>19.000000</td>\n",
       "      <td>15.000000</td>\n",
       "      <td>17.000000</td>\n",
       "      <td>0.000000</td>\n",
       "      <td>0.000000</td>\n",
       "    </tr>\n",
       "    <tr>\n",
       "      <th>50%</th>\n",
       "      <td>27845.500000</td>\n",
       "      <td>40.000000</td>\n",
       "      <td>165.000000</td>\n",
       "      <td>65.000000</td>\n",
       "      <td>82.000000</td>\n",
       "      <td>1.000000</td>\n",
       "      <td>1.000000</td>\n",
       "      <td>1.000000</td>\n",
       "      <td>1.000000</td>\n",
       "      <td>120.000000</td>\n",
       "      <td>...</td>\n",
       "      <td>55.000000</td>\n",
       "      <td>113.000000</td>\n",
       "      <td>14.800000</td>\n",
       "      <td>1.000000</td>\n",
       "      <td>0.900000</td>\n",
       "      <td>23.000000</td>\n",
       "      <td>21.000000</td>\n",
       "      <td>25.000000</td>\n",
       "      <td>0.000000</td>\n",
       "      <td>0.000000</td>\n",
       "    </tr>\n",
       "    <tr>\n",
       "      <th>75%</th>\n",
       "      <td>41768.250000</td>\n",
       "      <td>55.000000</td>\n",
       "      <td>170.000000</td>\n",
       "      <td>75.000000</td>\n",
       "      <td>88.000000</td>\n",
       "      <td>1.200000</td>\n",
       "      <td>1.200000</td>\n",
       "      <td>1.000000</td>\n",
       "      <td>1.000000</td>\n",
       "      <td>130.000000</td>\n",
       "      <td>...</td>\n",
       "      <td>66.000000</td>\n",
       "      <td>136.000000</td>\n",
       "      <td>15.800000</td>\n",
       "      <td>1.000000</td>\n",
       "      <td>1.000000</td>\n",
       "      <td>28.000000</td>\n",
       "      <td>31.000000</td>\n",
       "      <td>43.000000</td>\n",
       "      <td>0.000000</td>\n",
       "      <td>1.000000</td>\n",
       "    </tr>\n",
       "    <tr>\n",
       "      <th>max</th>\n",
       "      <td>55691.000000</td>\n",
       "      <td>85.000000</td>\n",
       "      <td>190.000000</td>\n",
       "      <td>135.000000</td>\n",
       "      <td>129.000000</td>\n",
       "      <td>9.900000</td>\n",
       "      <td>9.900000</td>\n",
       "      <td>2.000000</td>\n",
       "      <td>2.000000</td>\n",
       "      <td>240.000000</td>\n",
       "      <td>...</td>\n",
       "      <td>618.000000</td>\n",
       "      <td>1860.000000</td>\n",
       "      <td>21.100000</td>\n",
       "      <td>6.000000</td>\n",
       "      <td>11.600000</td>\n",
       "      <td>1311.000000</td>\n",
       "      <td>2914.000000</td>\n",
       "      <td>999.000000</td>\n",
       "      <td>1.000000</td>\n",
       "      <td>1.000000</td>\n",
       "    </tr>\n",
       "  </tbody>\n",
       "</table>\n",
       "<p>8 rows × 24 columns</p>\n",
       "</div>"
      ],
      "text/plain": [
       "                 ID           age    height(cm)    weight(kg)     waist(cm)  \\\n",
       "count  55692.000000  55692.000000  55692.000000  55692.000000  55692.000000   \n",
       "mean   27845.500000     44.182917    164.649321     65.864936     82.046418   \n",
       "std    16077.039933     12.071418      9.194597     12.820306      9.274223   \n",
       "min        0.000000     20.000000    130.000000     30.000000     51.000000   \n",
       "25%    13922.750000     40.000000    160.000000     55.000000     76.000000   \n",
       "50%    27845.500000     40.000000    165.000000     65.000000     82.000000   \n",
       "75%    41768.250000     55.000000    170.000000     75.000000     88.000000   \n",
       "max    55691.000000     85.000000    190.000000    135.000000    129.000000   \n",
       "\n",
       "       eyesight(left)  eyesight(right)  hearing(left)  hearing(right)  \\\n",
       "count    55692.000000     55692.000000   55692.000000    55692.000000   \n",
       "mean         1.012623         1.007443       1.025587        1.026144   \n",
       "std          0.486873         0.485964       0.157902        0.159564   \n",
       "min          0.100000         0.100000       1.000000        1.000000   \n",
       "25%          0.800000         0.800000       1.000000        1.000000   \n",
       "50%          1.000000         1.000000       1.000000        1.000000   \n",
       "75%          1.200000         1.200000       1.000000        1.000000   \n",
       "max          9.900000         9.900000       2.000000        2.000000   \n",
       "\n",
       "           systolic  ...           HDL           LDL    hemoglobin  \\\n",
       "count  55692.000000  ...  55692.000000  55692.000000  55692.000000   \n",
       "mean     121.494218  ...     57.290347    114.964501     14.622592   \n",
       "std       13.675989  ...     14.738963     40.926476      1.564498   \n",
       "min       71.000000  ...      4.000000      1.000000      4.900000   \n",
       "25%      112.000000  ...     47.000000     92.000000     13.600000   \n",
       "50%      120.000000  ...     55.000000    113.000000     14.800000   \n",
       "75%      130.000000  ...     66.000000    136.000000     15.800000   \n",
       "max      240.000000  ...    618.000000   1860.000000     21.100000   \n",
       "\n",
       "       Urine protein  serum creatinine           AST           ALT  \\\n",
       "count   55692.000000      55692.000000  55692.000000  55692.000000   \n",
       "mean        1.087212          0.885738     26.182935     27.036037   \n",
       "std         0.404882          0.221524     19.355460     30.947853   \n",
       "min         1.000000          0.100000      6.000000      1.000000   \n",
       "25%         1.000000          0.800000     19.000000     15.000000   \n",
       "50%         1.000000          0.900000     23.000000     21.000000   \n",
       "75%         1.000000          1.000000     28.000000     31.000000   \n",
       "max         6.000000         11.600000   1311.000000   2914.000000   \n",
       "\n",
       "                Gtp  dental caries       smoking  \n",
       "count  55692.000000   55692.000000  55692.000000  \n",
       "mean      39.952201       0.213334      0.367288  \n",
       "std       50.290539       0.409665      0.482070  \n",
       "min        1.000000       0.000000      0.000000  \n",
       "25%       17.000000       0.000000      0.000000  \n",
       "50%       25.000000       0.000000      0.000000  \n",
       "75%       43.000000       0.000000      1.000000  \n",
       "max      999.000000       1.000000      1.000000  \n",
       "\n",
       "[8 rows x 24 columns]"
      ]
     },
     "execution_count": 6,
     "metadata": {},
     "output_type": "execute_result"
    }
   ],
   "source": [
    "df.describe()"
   ]
  },
  {
   "cell_type": "code",
   "execution_count": 7,
   "id": "72ee1646-9feb-4d85-b0d0-d16ac7ce3eab",
   "metadata": {},
   "outputs": [],
   "source": [
    "df.drop(columns=\"ID\", inplace=True)"
   ]
  },
  {
   "cell_type": "code",
   "execution_count": 8,
   "id": "14d1d681-7ddd-4e52-baa2-2d677d42d57e",
   "metadata": {},
   "outputs": [
    {
     "name": "stdout",
     "output_type": "stream",
     "text": [
      "Index(['waist(cm)', 'eyesight(left)', 'eyesight(right)', 'hearing(left)',\n",
      "       'hearing(right)', 'systolic', 'relaxation', 'fasting blood sugar',\n",
      "       'Cholesterol', 'triglyceride', 'HDL', 'LDL', 'hemoglobin',\n",
      "       'Urine protein', 'serum creatinine', 'AST', 'ALT', 'Gtp'],\n",
      "      dtype='object')\n"
     ]
    },
    {
     "data": {
      "text/plain": [
       "18"
      ]
     },
     "execution_count": 8,
     "metadata": {},
     "output_type": "execute_result"
    }
   ],
   "source": [
    "print(df.select_dtypes(float).columns)\n",
    "len(df.select_dtypes(float).columns)"
   ]
  },
  {
   "cell_type": "code",
   "execution_count": 9,
   "id": "397cdf85-c612-4eb9-920d-332a55f4ef1f",
   "metadata": {},
   "outputs": [
    {
     "data": {
      "text/plain": [
       "11140"
      ]
     },
     "execution_count": 9,
     "metadata": {},
     "output_type": "execute_result"
    }
   ],
   "source": [
    "df.duplicated().sum()"
   ]
  },
  {
   "cell_type": "code",
   "execution_count": 10,
   "id": "0416aa93-b2c5-4ec8-a8b1-5bdd48f8a5e4",
   "metadata": {},
   "outputs": [],
   "source": [
    "df.drop_duplicates(inplace=True)"
   ]
  },
  {
   "cell_type": "code",
   "execution_count": 11,
   "id": "02f79ecb-cddd-4de1-9932-13c5ddcd50d8",
   "metadata": {},
   "outputs": [
    {
     "data": {
      "text/plain": [
       "0"
      ]
     },
     "execution_count": 11,
     "metadata": {},
     "output_type": "execute_result"
    }
   ],
   "source": [
    "df.duplicated().sum()"
   ]
  },
  {
   "cell_type": "code",
   "execution_count": 12,
   "id": "93ce1b28-3535-4504-9781-83a67f487ea4",
   "metadata": {},
   "outputs": [],
   "source": [
    "df.drop(columns=\"oral\", inplace=True)"
   ]
  },
  {
   "cell_type": "code",
   "execution_count": 13,
   "id": "474f71fb-09f3-49ce-809a-3cc5185f5f87",
   "metadata": {},
   "outputs": [
    {
     "data": {
      "text/plain": [
       "count    44552.000000\n",
       "mean         1.025611\n",
       "std          0.157972\n",
       "min          1.000000\n",
       "25%          1.000000\n",
       "50%          1.000000\n",
       "75%          1.000000\n",
       "max          2.000000\n",
       "Name: hearing(left), dtype: float64"
      ]
     },
     "execution_count": 13,
     "metadata": {},
     "output_type": "execute_result"
    }
   ],
   "source": [
    "df['hearing(left)'].describe()"
   ]
  },
  {
   "cell_type": "code",
   "execution_count": 14,
   "id": "5edaf016-c8a0-4dfa-b8ec-e55e6df050cc",
   "metadata": {},
   "outputs": [
    {
     "name": "stdout",
     "output_type": "stream",
     "text": [
      "Index(['age', 'height(cm)', 'weight(kg)', 'dental caries', 'smoking'], dtype='object')\n"
     ]
    },
    {
     "data": {
      "text/plain": [
       "5"
      ]
     },
     "execution_count": 14,
     "metadata": {},
     "output_type": "execute_result"
    }
   ],
   "source": [
    "print(df.select_dtypes(int).columns)\n",
    "len(df.select_dtypes(int).columns)"
   ]
  },
  {
   "cell_type": "code",
   "execution_count": 15,
   "id": "03a423f5-4924-4152-94cb-6ae925a9d164",
   "metadata": {},
   "outputs": [
    {
     "name": "stdout",
     "output_type": "stream",
     "text": [
      "Index(['gender', 'tartar'], dtype='object')\n"
     ]
    },
    {
     "data": {
      "text/plain": [
       "2"
      ]
     },
     "execution_count": 15,
     "metadata": {},
     "output_type": "execute_result"
    }
   ],
   "source": [
    "print(df.select_dtypes(object).columns)\n",
    "len(df.select_dtypes(object).columns)"
   ]
  },
  {
   "cell_type": "markdown",
   "id": "69c44d47-c78e-460c-be9b-39f2b6e6aab9",
   "metadata": {},
   "source": [
    "# Removing the outliers from data"
   ]
  },
  {
   "cell_type": "code",
   "execution_count": 16,
   "id": "a1a9b6ed-f578-4882-be64-bcdd0befb8ee",
   "metadata": {},
   "outputs": [
    {
     "data": {
      "text/html": [
       "<div>\n",
       "<style scoped>\n",
       "    .dataframe tbody tr th:only-of-type {\n",
       "        vertical-align: middle;\n",
       "    }\n",
       "\n",
       "    .dataframe tbody tr th {\n",
       "        vertical-align: top;\n",
       "    }\n",
       "\n",
       "    .dataframe thead th {\n",
       "        text-align: right;\n",
       "    }\n",
       "</style>\n",
       "<table border=\"1\" class=\"dataframe\">\n",
       "  <thead>\n",
       "    <tr style=\"text-align: right;\">\n",
       "      <th></th>\n",
       "      <th>age</th>\n",
       "      <th>height(cm)</th>\n",
       "      <th>weight(kg)</th>\n",
       "      <th>waist(cm)</th>\n",
       "      <th>eyesight(left)</th>\n",
       "      <th>eyesight(right)</th>\n",
       "      <th>hearing(left)</th>\n",
       "      <th>hearing(right)</th>\n",
       "      <th>systolic</th>\n",
       "      <th>relaxation</th>\n",
       "      <th>...</th>\n",
       "      <th>HDL</th>\n",
       "      <th>LDL</th>\n",
       "      <th>hemoglobin</th>\n",
       "      <th>Urine protein</th>\n",
       "      <th>serum creatinine</th>\n",
       "      <th>AST</th>\n",
       "      <th>ALT</th>\n",
       "      <th>Gtp</th>\n",
       "      <th>dental caries</th>\n",
       "      <th>smoking</th>\n",
       "    </tr>\n",
       "  </thead>\n",
       "  <tbody>\n",
       "    <tr>\n",
       "      <th>count</th>\n",
       "      <td>44552.000000</td>\n",
       "      <td>44552.000000</td>\n",
       "      <td>44552.000000</td>\n",
       "      <td>44552.000000</td>\n",
       "      <td>44552.000000</td>\n",
       "      <td>44552.000000</td>\n",
       "      <td>44552.000000</td>\n",
       "      <td>44552.000000</td>\n",
       "      <td>44552.000000</td>\n",
       "      <td>44552.000000</td>\n",
       "      <td>...</td>\n",
       "      <td>44552.000000</td>\n",
       "      <td>44552.000000</td>\n",
       "      <td>44552.000000</td>\n",
       "      <td>44552.000000</td>\n",
       "      <td>44552.000000</td>\n",
       "      <td>44552.000000</td>\n",
       "      <td>44552.000000</td>\n",
       "      <td>44552.000000</td>\n",
       "      <td>44552.000000</td>\n",
       "      <td>44552.000000</td>\n",
       "    </tr>\n",
       "    <tr>\n",
       "      <th>mean</th>\n",
       "      <td>44.210698</td>\n",
       "      <td>164.657030</td>\n",
       "      <td>65.883462</td>\n",
       "      <td>82.077186</td>\n",
       "      <td>1.011730</td>\n",
       "      <td>1.008130</td>\n",
       "      <td>1.025611</td>\n",
       "      <td>1.026037</td>\n",
       "      <td>121.529179</td>\n",
       "      <td>76.043320</td>\n",
       "      <td>...</td>\n",
       "      <td>57.288382</td>\n",
       "      <td>115.037978</td>\n",
       "      <td>14.622235</td>\n",
       "      <td>1.087022</td>\n",
       "      <td>0.886104</td>\n",
       "      <td>26.213795</td>\n",
       "      <td>27.085002</td>\n",
       "      <td>40.066103</td>\n",
       "      <td>0.213526</td>\n",
       "      <td>0.367032</td>\n",
       "    </tr>\n",
       "    <tr>\n",
       "      <th>std</th>\n",
       "      <td>12.089196</td>\n",
       "      <td>9.198674</td>\n",
       "      <td>12.823819</td>\n",
       "      <td>9.278384</td>\n",
       "      <td>0.488136</td>\n",
       "      <td>0.488767</td>\n",
       "      <td>0.157972</td>\n",
       "      <td>0.159247</td>\n",
       "      <td>13.688876</td>\n",
       "      <td>9.695356</td>\n",
       "      <td>...</td>\n",
       "      <td>14.795399</td>\n",
       "      <td>40.938284</td>\n",
       "      <td>1.564866</td>\n",
       "      <td>0.404948</td>\n",
       "      <td>0.226090</td>\n",
       "      <td>19.087304</td>\n",
       "      <td>31.755110</td>\n",
       "      <td>50.723940</td>\n",
       "      <td>0.409800</td>\n",
       "      <td>0.482001</td>\n",
       "    </tr>\n",
       "    <tr>\n",
       "      <th>min</th>\n",
       "      <td>20.000000</td>\n",
       "      <td>130.000000</td>\n",
       "      <td>30.000000</td>\n",
       "      <td>51.000000</td>\n",
       "      <td>0.100000</td>\n",
       "      <td>0.100000</td>\n",
       "      <td>1.000000</td>\n",
       "      <td>1.000000</td>\n",
       "      <td>71.000000</td>\n",
       "      <td>40.000000</td>\n",
       "      <td>...</td>\n",
       "      <td>4.000000</td>\n",
       "      <td>1.000000</td>\n",
       "      <td>4.900000</td>\n",
       "      <td>1.000000</td>\n",
       "      <td>0.100000</td>\n",
       "      <td>6.000000</td>\n",
       "      <td>1.000000</td>\n",
       "      <td>1.000000</td>\n",
       "      <td>0.000000</td>\n",
       "      <td>0.000000</td>\n",
       "    </tr>\n",
       "    <tr>\n",
       "      <th>25%</th>\n",
       "      <td>40.000000</td>\n",
       "      <td>160.000000</td>\n",
       "      <td>55.000000</td>\n",
       "      <td>76.000000</td>\n",
       "      <td>0.800000</td>\n",
       "      <td>0.800000</td>\n",
       "      <td>1.000000</td>\n",
       "      <td>1.000000</td>\n",
       "      <td>112.000000</td>\n",
       "      <td>70.000000</td>\n",
       "      <td>...</td>\n",
       "      <td>47.000000</td>\n",
       "      <td>92.000000</td>\n",
       "      <td>13.600000</td>\n",
       "      <td>1.000000</td>\n",
       "      <td>0.800000</td>\n",
       "      <td>19.000000</td>\n",
       "      <td>15.000000</td>\n",
       "      <td>17.000000</td>\n",
       "      <td>0.000000</td>\n",
       "      <td>0.000000</td>\n",
       "    </tr>\n",
       "    <tr>\n",
       "      <th>50%</th>\n",
       "      <td>40.000000</td>\n",
       "      <td>165.000000</td>\n",
       "      <td>65.000000</td>\n",
       "      <td>82.000000</td>\n",
       "      <td>1.000000</td>\n",
       "      <td>1.000000</td>\n",
       "      <td>1.000000</td>\n",
       "      <td>1.000000</td>\n",
       "      <td>120.000000</td>\n",
       "      <td>76.000000</td>\n",
       "      <td>...</td>\n",
       "      <td>55.000000</td>\n",
       "      <td>113.000000</td>\n",
       "      <td>14.800000</td>\n",
       "      <td>1.000000</td>\n",
       "      <td>0.900000</td>\n",
       "      <td>23.000000</td>\n",
       "      <td>21.000000</td>\n",
       "      <td>26.000000</td>\n",
       "      <td>0.000000</td>\n",
       "      <td>0.000000</td>\n",
       "    </tr>\n",
       "    <tr>\n",
       "      <th>75%</th>\n",
       "      <td>55.000000</td>\n",
       "      <td>170.000000</td>\n",
       "      <td>75.000000</td>\n",
       "      <td>88.000000</td>\n",
       "      <td>1.200000</td>\n",
       "      <td>1.200000</td>\n",
       "      <td>1.000000</td>\n",
       "      <td>1.000000</td>\n",
       "      <td>130.000000</td>\n",
       "      <td>82.000000</td>\n",
       "      <td>...</td>\n",
       "      <td>66.000000</td>\n",
       "      <td>136.000000</td>\n",
       "      <td>15.700000</td>\n",
       "      <td>1.000000</td>\n",
       "      <td>1.000000</td>\n",
       "      <td>29.000000</td>\n",
       "      <td>31.000000</td>\n",
       "      <td>44.000000</td>\n",
       "      <td>0.000000</td>\n",
       "      <td>1.000000</td>\n",
       "    </tr>\n",
       "    <tr>\n",
       "      <th>max</th>\n",
       "      <td>85.000000</td>\n",
       "      <td>190.000000</td>\n",
       "      <td>135.000000</td>\n",
       "      <td>129.000000</td>\n",
       "      <td>9.900000</td>\n",
       "      <td>9.900000</td>\n",
       "      <td>2.000000</td>\n",
       "      <td>2.000000</td>\n",
       "      <td>240.000000</td>\n",
       "      <td>146.000000</td>\n",
       "      <td>...</td>\n",
       "      <td>618.000000</td>\n",
       "      <td>1860.000000</td>\n",
       "      <td>21.100000</td>\n",
       "      <td>6.000000</td>\n",
       "      <td>11.600000</td>\n",
       "      <td>1311.000000</td>\n",
       "      <td>2914.000000</td>\n",
       "      <td>999.000000</td>\n",
       "      <td>1.000000</td>\n",
       "      <td>1.000000</td>\n",
       "    </tr>\n",
       "  </tbody>\n",
       "</table>\n",
       "<p>8 rows × 23 columns</p>\n",
       "</div>"
      ],
      "text/plain": [
       "                age    height(cm)    weight(kg)     waist(cm)  eyesight(left)  \\\n",
       "count  44552.000000  44552.000000  44552.000000  44552.000000    44552.000000   \n",
       "mean      44.210698    164.657030     65.883462     82.077186        1.011730   \n",
       "std       12.089196      9.198674     12.823819      9.278384        0.488136   \n",
       "min       20.000000    130.000000     30.000000     51.000000        0.100000   \n",
       "25%       40.000000    160.000000     55.000000     76.000000        0.800000   \n",
       "50%       40.000000    165.000000     65.000000     82.000000        1.000000   \n",
       "75%       55.000000    170.000000     75.000000     88.000000        1.200000   \n",
       "max       85.000000    190.000000    135.000000    129.000000        9.900000   \n",
       "\n",
       "       eyesight(right)  hearing(left)  hearing(right)      systolic  \\\n",
       "count     44552.000000   44552.000000    44552.000000  44552.000000   \n",
       "mean          1.008130       1.025611        1.026037    121.529179   \n",
       "std           0.488767       0.157972        0.159247     13.688876   \n",
       "min           0.100000       1.000000        1.000000     71.000000   \n",
       "25%           0.800000       1.000000        1.000000    112.000000   \n",
       "50%           1.000000       1.000000        1.000000    120.000000   \n",
       "75%           1.200000       1.000000        1.000000    130.000000   \n",
       "max           9.900000       2.000000        2.000000    240.000000   \n",
       "\n",
       "         relaxation  ...           HDL           LDL    hemoglobin  \\\n",
       "count  44552.000000  ...  44552.000000  44552.000000  44552.000000   \n",
       "mean      76.043320  ...     57.288382    115.037978     14.622235   \n",
       "std        9.695356  ...     14.795399     40.938284      1.564866   \n",
       "min       40.000000  ...      4.000000      1.000000      4.900000   \n",
       "25%       70.000000  ...     47.000000     92.000000     13.600000   \n",
       "50%       76.000000  ...     55.000000    113.000000     14.800000   \n",
       "75%       82.000000  ...     66.000000    136.000000     15.700000   \n",
       "max      146.000000  ...    618.000000   1860.000000     21.100000   \n",
       "\n",
       "       Urine protein  serum creatinine           AST           ALT  \\\n",
       "count   44552.000000      44552.000000  44552.000000  44552.000000   \n",
       "mean        1.087022          0.886104     26.213795     27.085002   \n",
       "std         0.404948          0.226090     19.087304     31.755110   \n",
       "min         1.000000          0.100000      6.000000      1.000000   \n",
       "25%         1.000000          0.800000     19.000000     15.000000   \n",
       "50%         1.000000          0.900000     23.000000     21.000000   \n",
       "75%         1.000000          1.000000     29.000000     31.000000   \n",
       "max         6.000000         11.600000   1311.000000   2914.000000   \n",
       "\n",
       "                Gtp  dental caries       smoking  \n",
       "count  44552.000000   44552.000000  44552.000000  \n",
       "mean      40.066103       0.213526      0.367032  \n",
       "std       50.723940       0.409800      0.482001  \n",
       "min        1.000000       0.000000      0.000000  \n",
       "25%       17.000000       0.000000      0.000000  \n",
       "50%       26.000000       0.000000      0.000000  \n",
       "75%       44.000000       0.000000      1.000000  \n",
       "max      999.000000       1.000000      1.000000  \n",
       "\n",
       "[8 rows x 23 columns]"
      ]
     },
     "execution_count": 16,
     "metadata": {},
     "output_type": "execute_result"
    }
   ],
   "source": [
    "df.describe()"
   ]
  },
  {
   "cell_type": "code",
   "execution_count": 17,
   "id": "abf35c6a-80fb-436b-9b0d-98ea7e0e58f2",
   "metadata": {},
   "outputs": [],
   "source": [
    "def cal_lf_uf(q1, q3):\n",
    "    IQR = q3-q1\n",
    "    lf = q1-(1.5*IQR)\n",
    "    uf = q3+(1.5*IQR)\n",
    "    print(\"lf-->\", lf, \"uf-->\", uf)\n",
    "    return [lf, uf]"
   ]
  },
  {
   "cell_type": "code",
   "execution_count": 18,
   "id": "66b23cfa-182d-45fc-a1e5-8c741f4782b3",
   "metadata": {},
   "outputs": [],
   "source": [
    "# [lf, uf] = cal_lf_uf(13922.750000, 41768.250000)"
   ]
  },
  {
   "cell_type": "code",
   "execution_count": 19,
   "id": "a7d5d459-72eb-4401-9028-7c2259eba8f0",
   "metadata": {},
   "outputs": [],
   "source": [
    "# plt.boxplot(df['ID'])\n",
    "# plt.show()"
   ]
  },
  {
   "cell_type": "code",
   "execution_count": 20,
   "id": "f995403f-3d3a-4981-8e3a-09fc1a5f251d",
   "metadata": {},
   "outputs": [
    {
     "name": "stdout",
     "output_type": "stream",
     "text": [
      "lf--> 17.5 uf--> 77.5\n"
     ]
    }
   ],
   "source": [
    "[lf, uf] = cal_lf_uf(40.000000, 55.000000)"
   ]
  },
  {
   "cell_type": "code",
   "execution_count": 21,
   "id": "ff3805e5-681c-4a7d-8862-05adb34606a8",
   "metadata": {},
   "outputs": [
    {
     "data": {
      "image/png": "[encoded data removed]",
      "text/plain": [
       "<Figure size 640x480 with 1 Axes>"
      ]
     },
     "metadata": {},
     "output_type": "display_data"
    }
   ],
   "source": [
    "plt.boxplot(df['age'])\n",
    "plt.show()"
   ]
  },
  {
   "cell_type": "code",
   "execution_count": 22,
   "id": "b23fe05d-6522-4975-8eb3-0c285b1b5171",
   "metadata": {},
   "outputs": [],
   "source": [
    "df['age'] = np.where(df['age']>uf, uf, df['age'])\n",
    "df['age'] = np.where(df['age']<lf, lf, df['age'])"
   ]
  },
  {
   "cell_type": "code",
   "execution_count": 23,
   "id": "a0d64e73-1f78-4f80-b0d0-ae3e3a337afb",
   "metadata": {
    "scrolled": true
   },
   "outputs": [
    {
     "data": {
      "image/png": "[encoded data removed]",
      "text/plain": [
       "<Figure size 640x480 with 1 Axes>"
      ]
     },
     "metadata": {},
     "output_type": "display_data"
    }
   ],
   "source": [
    "plt.boxplot(df['age'])\n",
    "plt.show()"
   ]
  },
  {
   "cell_type": "code",
   "execution_count": 24,
   "id": "f33a2c13-dc36-4dc2-8bef-fd268d75ac0c",
   "metadata": {},
   "outputs": [
    {
     "name": "stdout",
     "output_type": "stream",
     "text": [
      "lf--> 145.0 uf--> 185.0\n"
     ]
    }
   ],
   "source": [
    "[lf, uf] = cal_lf_uf(160.000000, 170.000000)"
   ]
  },
  {
   "cell_type": "code",
   "execution_count": 25,
   "id": "70a90863-8913-4e06-b849-91b2a7846f26",
   "metadata": {},
   "outputs": [
    {
     "data": {
      "image/png": "[encoded data removed]",
      "text/plain": [
       "<Figure size 640x480 with 1 Axes>"
      ]
     },
     "metadata": {},
     "output_type": "display_data"
    }
   ],
   "source": [
    "plt.boxplot(df['height(cm)'])\n",
    "plt.show()"
   ]
  },
  {
   "cell_type": "code",
   "execution_count": 26,
   "id": "7afb5510-238b-47a4-8748-282484ab20de",
   "metadata": {},
   "outputs": [],
   "source": [
    "df['height(cm)'] = np.where(df['height(cm)']>uf, uf, df['height(cm)'])\n",
    "df['height(cm)'] = np.where(df['height(cm)']<lf, lf, df['height(cm)'])"
   ]
  },
  {
   "cell_type": "code",
   "execution_count": 27,
   "id": "cb470515-5abe-4d5d-8367-7ec694dba18b",
   "metadata": {},
   "outputs": [
    {
     "data": {
      "image/png": "[encoded data removed]",
      "text/plain": [
       "<Figure size 640x480 with 1 Axes>"
      ]
     },
     "metadata": {},
     "output_type": "display_data"
    }
   ],
   "source": [
    "plt.boxplot(df['height(cm)'])\n",
    "plt.show()"
   ]
  },
  {
   "cell_type": "code",
   "execution_count": 28,
   "id": "994882b8-7b54-400d-ac32-2cec19dd9286",
   "metadata": {
    "scrolled": true
   },
   "outputs": [
    {
     "data": {
      "text/html": [
       "<div>\n",
       "<style scoped>\n",
       "    .dataframe tbody tr th:only-of-type {\n",
       "        vertical-align: middle;\n",
       "    }\n",
       "\n",
       "    .dataframe tbody tr th {\n",
       "        vertical-align: top;\n",
       "    }\n",
       "\n",
       "    .dataframe thead th {\n",
       "        text-align: right;\n",
       "    }\n",
       "</style>\n",
       "<table border=\"1\" class=\"dataframe\">\n",
       "  <thead>\n",
       "    <tr style=\"text-align: right;\">\n",
       "      <th></th>\n",
       "      <th>age</th>\n",
       "      <th>height(cm)</th>\n",
       "      <th>weight(kg)</th>\n",
       "      <th>waist(cm)</th>\n",
       "      <th>eyesight(left)</th>\n",
       "      <th>eyesight(right)</th>\n",
       "      <th>hearing(left)</th>\n",
       "      <th>hearing(right)</th>\n",
       "      <th>systolic</th>\n",
       "      <th>relaxation</th>\n",
       "      <th>...</th>\n",
       "      <th>HDL</th>\n",
       "      <th>LDL</th>\n",
       "      <th>hemoglobin</th>\n",
       "      <th>Urine protein</th>\n",
       "      <th>serum creatinine</th>\n",
       "      <th>AST</th>\n",
       "      <th>ALT</th>\n",
       "      <th>Gtp</th>\n",
       "      <th>dental caries</th>\n",
       "      <th>smoking</th>\n",
       "    </tr>\n",
       "  </thead>\n",
       "  <tbody>\n",
       "    <tr>\n",
       "      <th>count</th>\n",
       "      <td>44552.000000</td>\n",
       "      <td>44552.000000</td>\n",
       "      <td>44552.000000</td>\n",
       "      <td>44552.000000</td>\n",
       "      <td>44552.000000</td>\n",
       "      <td>44552.000000</td>\n",
       "      <td>44552.000000</td>\n",
       "      <td>44552.000000</td>\n",
       "      <td>44552.000000</td>\n",
       "      <td>44552.000000</td>\n",
       "      <td>...</td>\n",
       "      <td>44552.000000</td>\n",
       "      <td>44552.000000</td>\n",
       "      <td>44552.000000</td>\n",
       "      <td>44552.000000</td>\n",
       "      <td>44552.000000</td>\n",
       "      <td>44552.000000</td>\n",
       "      <td>44552.000000</td>\n",
       "      <td>44552.000000</td>\n",
       "      <td>44552.000000</td>\n",
       "      <td>44552.000000</td>\n",
       "    </tr>\n",
       "    <tr>\n",
       "      <th>mean</th>\n",
       "      <td>44.195378</td>\n",
       "      <td>164.674089</td>\n",
       "      <td>65.883462</td>\n",
       "      <td>82.077186</td>\n",
       "      <td>1.011730</td>\n",
       "      <td>1.008130</td>\n",
       "      <td>1.025611</td>\n",
       "      <td>1.026037</td>\n",
       "      <td>121.529179</td>\n",
       "      <td>76.043320</td>\n",
       "      <td>...</td>\n",
       "      <td>57.288382</td>\n",
       "      <td>115.037978</td>\n",
       "      <td>14.622235</td>\n",
       "      <td>1.087022</td>\n",
       "      <td>0.886104</td>\n",
       "      <td>26.213795</td>\n",
       "      <td>27.085002</td>\n",
       "      <td>40.066103</td>\n",
       "      <td>0.213526</td>\n",
       "      <td>0.367032</td>\n",
       "    </tr>\n",
       "    <tr>\n",
       "      <th>std</th>\n",
       "      <td>12.044849</td>\n",
       "      <td>9.140976</td>\n",
       "      <td>12.823819</td>\n",
       "      <td>9.278384</td>\n",
       "      <td>0.488136</td>\n",
       "      <td>0.488767</td>\n",
       "      <td>0.157972</td>\n",
       "      <td>0.159247</td>\n",
       "      <td>13.688876</td>\n",
       "      <td>9.695356</td>\n",
       "      <td>...</td>\n",
       "      <td>14.795399</td>\n",
       "      <td>40.938284</td>\n",
       "      <td>1.564866</td>\n",
       "      <td>0.404948</td>\n",
       "      <td>0.226090</td>\n",
       "      <td>19.087304</td>\n",
       "      <td>31.755110</td>\n",
       "      <td>50.723940</td>\n",
       "      <td>0.409800</td>\n",
       "      <td>0.482001</td>\n",
       "    </tr>\n",
       "    <tr>\n",
       "      <th>min</th>\n",
       "      <td>20.000000</td>\n",
       "      <td>145.000000</td>\n",
       "      <td>30.000000</td>\n",
       "      <td>51.000000</td>\n",
       "      <td>0.100000</td>\n",
       "      <td>0.100000</td>\n",
       "      <td>1.000000</td>\n",
       "      <td>1.000000</td>\n",
       "      <td>71.000000</td>\n",
       "      <td>40.000000</td>\n",
       "      <td>...</td>\n",
       "      <td>4.000000</td>\n",
       "      <td>1.000000</td>\n",
       "      <td>4.900000</td>\n",
       "      <td>1.000000</td>\n",
       "      <td>0.100000</td>\n",
       "      <td>6.000000</td>\n",
       "      <td>1.000000</td>\n",
       "      <td>1.000000</td>\n",
       "      <td>0.000000</td>\n",
       "      <td>0.000000</td>\n",
       "    </tr>\n",
       "    <tr>\n",
       "      <th>25%</th>\n",
       "      <td>40.000000</td>\n",
       "      <td>160.000000</td>\n",
       "      <td>55.000000</td>\n",
       "      <td>76.000000</td>\n",
       "      <td>0.800000</td>\n",
       "      <td>0.800000</td>\n",
       "      <td>1.000000</td>\n",
       "      <td>1.000000</td>\n",
       "      <td>112.000000</td>\n",
       "      <td>70.000000</td>\n",
       "      <td>...</td>\n",
       "      <td>47.000000</td>\n",
       "      <td>92.000000</td>\n",
       "      <td>13.600000</td>\n",
       "      <td>1.000000</td>\n",
       "      <td>0.800000</td>\n",
       "      <td>19.000000</td>\n",
       "      <td>15.000000</td>\n",
       "      <td>17.000000</td>\n",
       "      <td>0.000000</td>\n",
       "      <td>0.000000</td>\n",
       "    </tr>\n",
       "    <tr>\n",
       "      <th>50%</th>\n",
       "      <td>40.000000</td>\n",
       "      <td>165.000000</td>\n",
       "      <td>65.000000</td>\n",
       "      <td>82.000000</td>\n",
       "      <td>1.000000</td>\n",
       "      <td>1.000000</td>\n",
       "      <td>1.000000</td>\n",
       "      <td>1.000000</td>\n",
       "      <td>120.000000</td>\n",
       "      <td>76.000000</td>\n",
       "      <td>...</td>\n",
       "      <td>55.000000</td>\n",
       "      <td>113.000000</td>\n",
       "      <td>14.800000</td>\n",
       "      <td>1.000000</td>\n",
       "      <td>0.900000</td>\n",
       "      <td>23.000000</td>\n",
       "      <td>21.000000</td>\n",
       "      <td>26.000000</td>\n",
       "      <td>0.000000</td>\n",
       "      <td>0.000000</td>\n",
       "    </tr>\n",
       "    <tr>\n",
       "      <th>75%</th>\n",
       "      <td>55.000000</td>\n",
       "      <td>170.000000</td>\n",
       "      <td>75.000000</td>\n",
       "      <td>88.000000</td>\n",
       "      <td>1.200000</td>\n",
       "      <td>1.200000</td>\n",
       "      <td>1.000000</td>\n",
       "      <td>1.000000</td>\n",
       "      <td>130.000000</td>\n",
       "      <td>82.000000</td>\n",
       "      <td>...</td>\n",
       "      <td>66.000000</td>\n",
       "      <td>136.000000</td>\n",
       "      <td>15.700000</td>\n",
       "      <td>1.000000</td>\n",
       "      <td>1.000000</td>\n",
       "      <td>29.000000</td>\n",
       "      <td>31.000000</td>\n",
       "      <td>44.000000</td>\n",
       "      <td>0.000000</td>\n",
       "      <td>1.000000</td>\n",
       "    </tr>\n",
       "    <tr>\n",
       "      <th>max</th>\n",
       "      <td>77.500000</td>\n",
       "      <td>185.000000</td>\n",
       "      <td>135.000000</td>\n",
       "      <td>129.000000</td>\n",
       "      <td>9.900000</td>\n",
       "      <td>9.900000</td>\n",
       "      <td>2.000000</td>\n",
       "      <td>2.000000</td>\n",
       "      <td>240.000000</td>\n",
       "      <td>146.000000</td>\n",
       "      <td>...</td>\n",
       "      <td>618.000000</td>\n",
       "      <td>1860.000000</td>\n",
       "      <td>21.100000</td>\n",
       "      <td>6.000000</td>\n",
       "      <td>11.600000</td>\n",
       "      <td>1311.000000</td>\n",
       "      <td>2914.000000</td>\n",
       "      <td>999.000000</td>\n",
       "      <td>1.000000</td>\n",
       "      <td>1.000000</td>\n",
       "    </tr>\n",
       "  </tbody>\n",
       "</table>\n",
       "<p>8 rows × 23 columns</p>\n",
       "</div>"
      ],
      "text/plain": [
       "                age    height(cm)    weight(kg)     waist(cm)  eyesight(left)  \\\n",
       "count  44552.000000  44552.000000  44552.000000  44552.000000    44552.000000   \n",
       "mean      44.195378    164.674089     65.883462     82.077186        1.011730   \n",
       "std       12.044849      9.140976     12.823819      9.278384        0.488136   \n",
       "min       20.000000    145.000000     30.000000     51.000000        0.100000   \n",
       "25%       40.000000    160.000000     55.000000     76.000000        0.800000   \n",
       "50%       40.000000    165.000000     65.000000     82.000000        1.000000   \n",
       "75%       55.000000    170.000000     75.000000     88.000000        1.200000   \n",
       "max       77.500000    185.000000    135.000000    129.000000        9.900000   \n",
       "\n",
       "       eyesight(right)  hearing(left)  hearing(right)      systolic  \\\n",
       "count     44552.000000   44552.000000    44552.000000  44552.000000   \n",
       "mean          1.008130       1.025611        1.026037    121.529179   \n",
       "std           0.488767       0.157972        0.159247     13.688876   \n",
       "min           0.100000       1.000000        1.000000     71.000000   \n",
       "25%           0.800000       1.000000        1.000000    112.000000   \n",
       "50%           1.000000       1.000000        1.000000    120.000000   \n",
       "75%           1.200000       1.000000        1.000000    130.000000   \n",
       "max           9.900000       2.000000        2.000000    240.000000   \n",
       "\n",
       "         relaxation  ...           HDL           LDL    hemoglobin  \\\n",
       "count  44552.000000  ...  44552.000000  44552.000000  44552.000000   \n",
       "mean      76.043320  ...     57.288382    115.037978     14.622235   \n",
       "std        9.695356  ...     14.795399     40.938284      1.564866   \n",
       "min       40.000000  ...      4.000000      1.000000      4.900000   \n",
       "25%       70.000000  ...     47.000000     92.000000     13.600000   \n",
       "50%       76.000000  ...     55.000000    113.000000     14.800000   \n",
       "75%       82.000000  ...     66.000000    136.000000     15.700000   \n",
       "max      146.000000  ...    618.000000   1860.000000     21.100000   \n",
       "\n",
       "       Urine protein  serum creatinine           AST           ALT  \\\n",
       "count   44552.000000      44552.000000  44552.000000  44552.000000   \n",
       "mean        1.087022          0.886104     26.213795     27.085002   \n",
       "std         0.404948          0.226090     19.087304     31.755110   \n",
       "min         1.000000          0.100000      6.000000      1.000000   \n",
       "25%         1.000000          0.800000     19.000000     15.000000   \n",
       "50%         1.000000          0.900000     23.000000     21.000000   \n",
       "75%         1.000000          1.000000     29.000000     31.000000   \n",
       "max         6.000000         11.600000   1311.000000   2914.000000   \n",
       "\n",
       "                Gtp  dental caries       smoking  \n",
       "count  44552.000000   44552.000000  44552.000000  \n",
       "mean      40.066103       0.213526      0.367032  \n",
       "std       50.723940       0.409800      0.482001  \n",
       "min        1.000000       0.000000      0.000000  \n",
       "25%       17.000000       0.000000      0.000000  \n",
       "50%       26.000000       0.000000      0.000000  \n",
       "75%       44.000000       0.000000      1.000000  \n",
       "max      999.000000       1.000000      1.000000  \n",
       "\n",
       "[8 rows x 23 columns]"
      ]
     },
     "execution_count": 28,
     "metadata": {},
     "output_type": "execute_result"
    }
   ],
   "source": [
    "df.describe()"
   ]
  },
  {
   "cell_type": "code",
   "execution_count": 29,
   "id": "96be4335-3f7c-487a-8c87-707e0cbcbcaa",
   "metadata": {},
   "outputs": [
    {
     "name": "stdout",
     "output_type": "stream",
     "text": [
      "lf--> 25.0 uf--> 105.0\n"
     ]
    }
   ],
   "source": [
    "[lf, uf] = cal_lf_uf(55.000000, 75.000000)"
   ]
  },
  {
   "cell_type": "code",
   "execution_count": 30,
   "id": "7182493a-e508-4469-989a-da482e7bee40",
   "metadata": {},
   "outputs": [
    {
     "data": {
      "image/png": "[encoded data removed]",
      "text/plain": [
       "<Figure size 640x480 with 1 Axes>"
      ]
     },
     "metadata": {},
     "output_type": "display_data"
    }
   ],
   "source": [
    "plt.boxplot(df['weight(kg)'])\n",
    "plt.show()"
   ]
  },
  {
   "cell_type": "code",
   "execution_count": 31,
   "id": "0263d4af-20e8-4a60-beed-a7e80f7b7b5c",
   "metadata": {},
   "outputs": [],
   "source": [
    "df['weight(kg)'] = np.where(df['weight(kg)']>uf, uf, df['weight(kg)'])\n",
    "df['weight(kg)'] = np.where(df['weight(kg)']<lf, lf, df['weight(kg)'])"
   ]
  },
  {
   "cell_type": "code",
   "execution_count": 32,
   "id": "5f22485a-250d-4d70-bc5d-c055ad30eab0",
   "metadata": {},
   "outputs": [
    {
     "data": {
      "image/png": "[encoded data removed]",
      "text/plain": [
       "<Figure size 640x480 with 1 Axes>"
      ]
     },
     "metadata": {},
     "output_type": "display_data"
    }
   ],
   "source": [
    "plt.boxplot(df['weight(kg)'])\n",
    "plt.show()"
   ]
  },
  {
   "cell_type": "code",
   "execution_count": 33,
   "id": "c21848c2-0906-4640-a824-d5c33f535eb0",
   "metadata": {},
   "outputs": [
    {
     "name": "stdout",
     "output_type": "stream",
     "text": [
      "lf--> 58.0 uf--> 106.0\n"
     ]
    }
   ],
   "source": [
    "[lf, uf] = cal_lf_uf(76.000000, 88.000000)"
   ]
  },
  {
   "cell_type": "code",
   "execution_count": 34,
   "id": "56ecc67c-8228-4919-bac9-d5a70ce6861c",
   "metadata": {},
   "outputs": [
    {
     "data": {
      "image/png": "[encoded data removed]",
      "text/plain": [
       "<Figure size 640x480 with 1 Axes>"
      ]
     },
     "metadata": {},
     "output_type": "display_data"
    }
   ],
   "source": [
    "plt.boxplot(df['waist(cm)'])\n",
    "plt.show()"
   ]
  },
  {
   "cell_type": "code",
   "execution_count": 35,
   "id": "bdb507db-8149-4626-8a42-91d248e6dde0",
   "metadata": {},
   "outputs": [],
   "source": [
    "df['waist(cm)'] = np.where(df['waist(cm)']>uf, uf, df['waist(cm)'])\n",
    "df['waist(cm)'] = np.where(df['waist(cm)']<lf, lf, df['waist(cm)'])"
   ]
  },
  {
   "cell_type": "code",
   "execution_count": 36,
   "id": "457b29c4-91be-48a3-99a5-d45e4567eb60",
   "metadata": {},
   "outputs": [
    {
     "data": {
      "image/png": "[encoded data removed]",
      "text/plain": [
       "<Figure size 640x480 with 1 Axes>"
      ]
     },
     "metadata": {},
     "output_type": "display_data"
    }
   ],
   "source": [
    "plt.boxplot(df['waist(cm)'])\n",
    "plt.show()"
   ]
  },
  {
   "cell_type": "code",
   "execution_count": 37,
   "id": "deeeca57-f39d-41e4-be0e-65f4f109dc44",
   "metadata": {},
   "outputs": [
    {
     "name": "stdout",
     "output_type": "stream",
     "text": [
      "lf--> 0.20000000000000018 uf--> 1.7999999999999998\n"
     ]
    }
   ],
   "source": [
    "[lf, uf] = cal_lf_uf(0.800000, 1.200000)"
   ]
  },
  {
   "cell_type": "code",
   "execution_count": 38,
   "id": "e0e9538e-6a71-49ad-8e9e-cd60e9a81598",
   "metadata": {},
   "outputs": [],
   "source": [
    "df['eyesight(left)'] = np.where(df['eyesight(left)']>uf, uf, df['eyesight(left)'])\n",
    "df['eyesight(left)'] = np.where(df['eyesight(left)']<lf, lf, df['eyesight(left)'])"
   ]
  },
  {
   "cell_type": "code",
   "execution_count": 39,
   "id": "e3910a3d-b8d6-4542-9273-cf6eace2ad63",
   "metadata": {},
   "outputs": [
    {
     "data": {
      "image/png": "[encoded data removed]",
      "text/plain": [
       "<Figure size 640x480 with 1 Axes>"
      ]
     },
     "metadata": {},
     "output_type": "display_data"
    }
   ],
   "source": [
    "plt.boxplot(df['eyesight(left)'])\n",
    "plt.show()"
   ]
  },
  {
   "cell_type": "code",
   "execution_count": 40,
   "id": "4a1fafd7-30c3-4a42-9c0a-3a6f164bf732",
   "metadata": {},
   "outputs": [
    {
     "name": "stdout",
     "output_type": "stream",
     "text": [
      "lf--> 0.20000000000000018 uf--> 1.7999999999999998\n"
     ]
    }
   ],
   "source": [
    "[lf, uf] = cal_lf_uf(0.800000, 1.200000)"
   ]
  },
  {
   "cell_type": "code",
   "execution_count": 41,
   "id": "8df58226-60e0-4ebd-995a-9b3284675d5b",
   "metadata": {},
   "outputs": [],
   "source": [
    "df['eyesight(right)'] = np.where(df['eyesight(right)']>uf, uf, df['eyesight(right)'])\n",
    "df['eyesight(right)'] = np.where(df['eyesight(right)']<lf, lf, df['eyesight(right)'])"
   ]
  },
  {
   "cell_type": "code",
   "execution_count": 42,
   "id": "09c5d51c-5708-4f8d-be0f-bf40c2f6117d",
   "metadata": {},
   "outputs": [
    {
     "data": {
      "image/png": "[encoded data removed]",
      "text/plain": [
       "<Figure size 640x480 with 1 Axes>"
      ]
     },
     "metadata": {},
     "output_type": "display_data"
    }
   ],
   "source": [
    "plt.boxplot(df['eyesight(right)'])\n",
    "plt.show()"
   ]
  },
  {
   "cell_type": "code",
   "execution_count": 43,
   "id": "4fdcc044-a8d7-4a34-b929-54fa350f977f",
   "metadata": {},
   "outputs": [
    {
     "name": "stdout",
     "output_type": "stream",
     "text": [
      "lf--> 1.0 uf--> 1.0\n"
     ]
    }
   ],
   "source": [
    "[lf, uf] = cal_lf_uf(1.000000, 1.000000)"
   ]
  },
  {
   "cell_type": "code",
   "execution_count": 44,
   "id": "2a437860-eb11-484f-9d91-5ee5dd7f292d",
   "metadata": {},
   "outputs": [
    {
     "data": {
      "text/plain": [
       "count    44552.000000\n",
       "mean         1.025611\n",
       "std          0.157972\n",
       "min          1.000000\n",
       "25%          1.000000\n",
       "50%          1.000000\n",
       "75%          1.000000\n",
       "max          2.000000\n",
       "Name: hearing(left), dtype: float64"
      ]
     },
     "execution_count": 44,
     "metadata": {},
     "output_type": "execute_result"
    }
   ],
   "source": [
    "df['hearing(left)'].describe()"
   ]
  },
  {
   "cell_type": "code",
   "execution_count": 45,
   "id": "ca81959d-0a4d-47ff-b531-d8e2b43158b1",
   "metadata": {},
   "outputs": [
    {
     "data": {
      "text/plain": [
       "array([1., 2.])"
      ]
     },
     "execution_count": 45,
     "metadata": {},
     "output_type": "execute_result"
    }
   ],
   "source": [
    "df['hearing(left)'].unique()"
   ]
  },
  {
   "cell_type": "code",
   "execution_count": 46,
   "id": "ba5a48bb-ff25-4947-9d04-c5098411f794",
   "metadata": {},
   "outputs": [],
   "source": [
    "df['hearing(left)'] = np.where(df['hearing(left)']>uf, uf, df['hearing(left)'])\n",
    "df['hearing(left)'] = np.where(df['hearing(left)']<lf, lf, df['hearing(left)'])"
   ]
  },
  {
   "cell_type": "code",
   "execution_count": 47,
   "id": "661618fc-ce02-4009-bbef-453f96578677",
   "metadata": {},
   "outputs": [
    {
     "data": {
      "image/png": "[encoded data removed]",
      "text/plain": [
       "<Figure size 640x480 with 1 Axes>"
      ]
     },
     "metadata": {},
     "output_type": "display_data"
    }
   ],
   "source": [
    "plt.boxplot(df['hearing(left)'])\n",
    "plt.show()"
   ]
  },
  {
   "cell_type": "code",
   "execution_count": 48,
   "id": "5f323d7f-eda9-460a-9052-5c5aa7591a98",
   "metadata": {},
   "outputs": [
    {
     "name": "stdout",
     "output_type": "stream",
     "text": [
      "lf--> 1.0 uf--> 1.0\n"
     ]
    }
   ],
   "source": [
    "[lf, uf] = cal_lf_uf(1.000000, 1.000000)"
   ]
  },
  {
   "cell_type": "code",
   "execution_count": 49,
   "id": "288ef23c-b022-4c8d-9b45-91295d613cdf",
   "metadata": {},
   "outputs": [],
   "source": [
    "df['hearing(right)'] = np.where(df['hearing(right)']>uf, uf, df['hearing(right)'])\n",
    "df['hearing(right)'] = np.where(df['hearing(right)']<lf, lf, df['hearing(right)'])"
   ]
  },
  {
   "cell_type": "code",
   "execution_count": 50,
   "id": "c05f1ffd-7fc5-4aef-bd61-81e0d1682b15",
   "metadata": {},
   "outputs": [
    {
     "data": {
      "image/png": "[encoded data removed]",
      "text/plain": [
       "<Figure size 640x480 with 1 Axes>"
      ]
     },
     "metadata": {},
     "output_type": "display_data"
    }
   ],
   "source": [
    "plt.boxplot(df['hearing(right)'])\n",
    "plt.show()"
   ]
  },
  {
   "cell_type": "code",
   "execution_count": 51,
   "id": "05641555-6312-4f6d-840e-3cac2f851ca7",
   "metadata": {},
   "outputs": [
    {
     "data": {
      "text/html": [
       "<div>\n",
       "<style scoped>\n",
       "    .dataframe tbody tr th:only-of-type {\n",
       "        vertical-align: middle;\n",
       "    }\n",
       "\n",
       "    .dataframe tbody tr th {\n",
       "        vertical-align: top;\n",
       "    }\n",
       "\n",
       "    .dataframe thead th {\n",
       "        text-align: right;\n",
       "    }\n",
       "</style>\n",
       "<table border=\"1\" class=\"dataframe\">\n",
       "  <thead>\n",
       "    <tr style=\"text-align: right;\">\n",
       "      <th></th>\n",
       "      <th>age</th>\n",
       "      <th>height(cm)</th>\n",
       "      <th>weight(kg)</th>\n",
       "      <th>waist(cm)</th>\n",
       "      <th>eyesight(left)</th>\n",
       "      <th>eyesight(right)</th>\n",
       "      <th>hearing(left)</th>\n",
       "      <th>hearing(right)</th>\n",
       "      <th>systolic</th>\n",
       "      <th>relaxation</th>\n",
       "      <th>...</th>\n",
       "      <th>HDL</th>\n",
       "      <th>LDL</th>\n",
       "      <th>hemoglobin</th>\n",
       "      <th>Urine protein</th>\n",
       "      <th>serum creatinine</th>\n",
       "      <th>AST</th>\n",
       "      <th>ALT</th>\n",
       "      <th>Gtp</th>\n",
       "      <th>dental caries</th>\n",
       "      <th>smoking</th>\n",
       "    </tr>\n",
       "  </thead>\n",
       "  <tbody>\n",
       "    <tr>\n",
       "      <th>count</th>\n",
       "      <td>44552.000000</td>\n",
       "      <td>44552.000000</td>\n",
       "      <td>44552.000000</td>\n",
       "      <td>44552.000000</td>\n",
       "      <td>44552.000000</td>\n",
       "      <td>44552.000000</td>\n",
       "      <td>44552.0</td>\n",
       "      <td>44552.0</td>\n",
       "      <td>44552.000000</td>\n",
       "      <td>44552.000000</td>\n",
       "      <td>...</td>\n",
       "      <td>44552.000000</td>\n",
       "      <td>44552.000000</td>\n",
       "      <td>44552.000000</td>\n",
       "      <td>44552.000000</td>\n",
       "      <td>44552.000000</td>\n",
       "      <td>44552.000000</td>\n",
       "      <td>44552.000000</td>\n",
       "      <td>44552.000000</td>\n",
       "      <td>44552.000000</td>\n",
       "      <td>44552.000000</td>\n",
       "    </tr>\n",
       "    <tr>\n",
       "      <th>mean</th>\n",
       "      <td>44.195378</td>\n",
       "      <td>164.674089</td>\n",
       "      <td>65.851477</td>\n",
       "      <td>82.037576</td>\n",
       "      <td>0.997479</td>\n",
       "      <td>0.993827</td>\n",
       "      <td>1.0</td>\n",
       "      <td>1.0</td>\n",
       "      <td>121.529179</td>\n",
       "      <td>76.043320</td>\n",
       "      <td>...</td>\n",
       "      <td>57.288382</td>\n",
       "      <td>115.037978</td>\n",
       "      <td>14.622235</td>\n",
       "      <td>1.087022</td>\n",
       "      <td>0.886104</td>\n",
       "      <td>26.213795</td>\n",
       "      <td>27.085002</td>\n",
       "      <td>40.066103</td>\n",
       "      <td>0.213526</td>\n",
       "      <td>0.367032</td>\n",
       "    </tr>\n",
       "    <tr>\n",
       "      <th>std</th>\n",
       "      <td>12.044849</td>\n",
       "      <td>9.140976</td>\n",
       "      <td>12.710550</td>\n",
       "      <td>9.150051</td>\n",
       "      <td>0.322699</td>\n",
       "      <td>0.321120</td>\n",
       "      <td>0.0</td>\n",
       "      <td>0.0</td>\n",
       "      <td>13.688876</td>\n",
       "      <td>9.695356</td>\n",
       "      <td>...</td>\n",
       "      <td>14.795399</td>\n",
       "      <td>40.938284</td>\n",
       "      <td>1.564866</td>\n",
       "      <td>0.404948</td>\n",
       "      <td>0.226090</td>\n",
       "      <td>19.087304</td>\n",
       "      <td>31.755110</td>\n",
       "      <td>50.723940</td>\n",
       "      <td>0.409800</td>\n",
       "      <td>0.482001</td>\n",
       "    </tr>\n",
       "    <tr>\n",
       "      <th>min</th>\n",
       "      <td>20.000000</td>\n",
       "      <td>145.000000</td>\n",
       "      <td>30.000000</td>\n",
       "      <td>58.000000</td>\n",
       "      <td>0.200000</td>\n",
       "      <td>0.200000</td>\n",
       "      <td>1.0</td>\n",
       "      <td>1.0</td>\n",
       "      <td>71.000000</td>\n",
       "      <td>40.000000</td>\n",
       "      <td>...</td>\n",
       "      <td>4.000000</td>\n",
       "      <td>1.000000</td>\n",
       "      <td>4.900000</td>\n",
       "      <td>1.000000</td>\n",
       "      <td>0.100000</td>\n",
       "      <td>6.000000</td>\n",
       "      <td>1.000000</td>\n",
       "      <td>1.000000</td>\n",
       "      <td>0.000000</td>\n",
       "      <td>0.000000</td>\n",
       "    </tr>\n",
       "    <tr>\n",
       "      <th>25%</th>\n",
       "      <td>40.000000</td>\n",
       "      <td>160.000000</td>\n",
       "      <td>55.000000</td>\n",
       "      <td>76.000000</td>\n",
       "      <td>0.800000</td>\n",
       "      <td>0.800000</td>\n",
       "      <td>1.0</td>\n",
       "      <td>1.0</td>\n",
       "      <td>112.000000</td>\n",
       "      <td>70.000000</td>\n",
       "      <td>...</td>\n",
       "      <td>47.000000</td>\n",
       "      <td>92.000000</td>\n",
       "      <td>13.600000</td>\n",
       "      <td>1.000000</td>\n",
       "      <td>0.800000</td>\n",
       "      <td>19.000000</td>\n",
       "      <td>15.000000</td>\n",
       "      <td>17.000000</td>\n",
       "      <td>0.000000</td>\n",
       "      <td>0.000000</td>\n",
       "    </tr>\n",
       "    <tr>\n",
       "      <th>50%</th>\n",
       "      <td>40.000000</td>\n",
       "      <td>165.000000</td>\n",
       "      <td>65.000000</td>\n",
       "      <td>82.000000</td>\n",
       "      <td>1.000000</td>\n",
       "      <td>1.000000</td>\n",
       "      <td>1.0</td>\n",
       "      <td>1.0</td>\n",
       "      <td>120.000000</td>\n",
       "      <td>76.000000</td>\n",
       "      <td>...</td>\n",
       "      <td>55.000000</td>\n",
       "      <td>113.000000</td>\n",
       "      <td>14.800000</td>\n",
       "      <td>1.000000</td>\n",
       "      <td>0.900000</td>\n",
       "      <td>23.000000</td>\n",
       "      <td>21.000000</td>\n",
       "      <td>26.000000</td>\n",
       "      <td>0.000000</td>\n",
       "      <td>0.000000</td>\n",
       "    </tr>\n",
       "    <tr>\n",
       "      <th>75%</th>\n",
       "      <td>55.000000</td>\n",
       "      <td>170.000000</td>\n",
       "      <td>75.000000</td>\n",
       "      <td>88.000000</td>\n",
       "      <td>1.200000</td>\n",
       "      <td>1.200000</td>\n",
       "      <td>1.0</td>\n",
       "      <td>1.0</td>\n",
       "      <td>130.000000</td>\n",
       "      <td>82.000000</td>\n",
       "      <td>...</td>\n",
       "      <td>66.000000</td>\n",
       "      <td>136.000000</td>\n",
       "      <td>15.700000</td>\n",
       "      <td>1.000000</td>\n",
       "      <td>1.000000</td>\n",
       "      <td>29.000000</td>\n",
       "      <td>31.000000</td>\n",
       "      <td>44.000000</td>\n",
       "      <td>0.000000</td>\n",
       "      <td>1.000000</td>\n",
       "    </tr>\n",
       "    <tr>\n",
       "      <th>max</th>\n",
       "      <td>77.500000</td>\n",
       "      <td>185.000000</td>\n",
       "      <td>105.000000</td>\n",
       "      <td>106.000000</td>\n",
       "      <td>1.800000</td>\n",
       "      <td>1.800000</td>\n",
       "      <td>1.0</td>\n",
       "      <td>1.0</td>\n",
       "      <td>240.000000</td>\n",
       "      <td>146.000000</td>\n",
       "      <td>...</td>\n",
       "      <td>618.000000</td>\n",
       "      <td>1860.000000</td>\n",
       "      <td>21.100000</td>\n",
       "      <td>6.000000</td>\n",
       "      <td>11.600000</td>\n",
       "      <td>1311.000000</td>\n",
       "      <td>2914.000000</td>\n",
       "      <td>999.000000</td>\n",
       "      <td>1.000000</td>\n",
       "      <td>1.000000</td>\n",
       "    </tr>\n",
       "  </tbody>\n",
       "</table>\n",
       "<p>8 rows × 23 columns</p>\n",
       "</div>"
      ],
      "text/plain": [
       "                age    height(cm)    weight(kg)     waist(cm)  eyesight(left)  \\\n",
       "count  44552.000000  44552.000000  44552.000000  44552.000000    44552.000000   \n",
       "mean      44.195378    164.674089     65.851477     82.037576        0.997479   \n",
       "std       12.044849      9.140976     12.710550      9.150051        0.322699   \n",
       "min       20.000000    145.000000     30.000000     58.000000        0.200000   \n",
       "25%       40.000000    160.000000     55.000000     76.000000        0.800000   \n",
       "50%       40.000000    165.000000     65.000000     82.000000        1.000000   \n",
       "75%       55.000000    170.000000     75.000000     88.000000        1.200000   \n",
       "max       77.500000    185.000000    105.000000    106.000000        1.800000   \n",
       "\n",
       "       eyesight(right)  hearing(left)  hearing(right)      systolic  \\\n",
       "count     44552.000000        44552.0         44552.0  44552.000000   \n",
       "mean          0.993827            1.0             1.0    121.529179   \n",
       "std           0.321120            0.0             0.0     13.688876   \n",
       "min           0.200000            1.0             1.0     71.000000   \n",
       "25%           0.800000            1.0             1.0    112.000000   \n",
       "50%           1.000000            1.0             1.0    120.000000   \n",
       "75%           1.200000            1.0             1.0    130.000000   \n",
       "max           1.800000            1.0             1.0    240.000000   \n",
       "\n",
       "         relaxation  ...           HDL           LDL    hemoglobin  \\\n",
       "count  44552.000000  ...  44552.000000  44552.000000  44552.000000   \n",
       "mean      76.043320  ...     57.288382    115.037978     14.622235   \n",
       "std        9.695356  ...     14.795399     40.938284      1.564866   \n",
       "min       40.000000  ...      4.000000      1.000000      4.900000   \n",
       "25%       70.000000  ...     47.000000     92.000000     13.600000   \n",
       "50%       76.000000  ...     55.000000    113.000000     14.800000   \n",
       "75%       82.000000  ...     66.000000    136.000000     15.700000   \n",
       "max      146.000000  ...    618.000000   1860.000000     21.100000   \n",
       "\n",
       "       Urine protein  serum creatinine           AST           ALT  \\\n",
       "count   44552.000000      44552.000000  44552.000000  44552.000000   \n",
       "mean        1.087022          0.886104     26.213795     27.085002   \n",
       "std         0.404948          0.226090     19.087304     31.755110   \n",
       "min         1.000000          0.100000      6.000000      1.000000   \n",
       "25%         1.000000          0.800000     19.000000     15.000000   \n",
       "50%         1.000000          0.900000     23.000000     21.000000   \n",
       "75%         1.000000          1.000000     29.000000     31.000000   \n",
       "max         6.000000         11.600000   1311.000000   2914.000000   \n",
       "\n",
       "                Gtp  dental caries       smoking  \n",
       "count  44552.000000   44552.000000  44552.000000  \n",
       "mean      40.066103       0.213526      0.367032  \n",
       "std       50.723940       0.409800      0.482001  \n",
       "min        1.000000       0.000000      0.000000  \n",
       "25%       17.000000       0.000000      0.000000  \n",
       "50%       26.000000       0.000000      0.000000  \n",
       "75%       44.000000       0.000000      1.000000  \n",
       "max      999.000000       1.000000      1.000000  \n",
       "\n",
       "[8 rows x 23 columns]"
      ]
     },
     "execution_count": 51,
     "metadata": {},
     "output_type": "execute_result"
    }
   ],
   "source": [
    "df.describe()"
   ]
  },
  {
   "cell_type": "code",
   "execution_count": 52,
   "id": "97cbc749-0955-477b-9707-6a4215ef9c29",
   "metadata": {},
   "outputs": [
    {
     "name": "stdout",
     "output_type": "stream",
     "text": [
      "lf--> 85.0 uf--> 157.0\n"
     ]
    }
   ],
   "source": [
    "[lf, uf] = cal_lf_uf(112.000000, 130.000000)"
   ]
  },
  {
   "cell_type": "code",
   "execution_count": 53,
   "id": "e14e874b-b2a3-4eb5-b804-8e0e41b4f249",
   "metadata": {},
   "outputs": [],
   "source": [
    "df['systolic'] = np.where(df['systolic']>uf, uf, df['systolic'])\n",
    "df['systolic'] = np.where(df['systolic']<lf, lf, df['systolic'])"
   ]
  },
  {
   "cell_type": "code",
   "execution_count": 54,
   "id": "a70e706c-8a2a-4e29-a9e9-19dd8ebfa032",
   "metadata": {},
   "outputs": [
    {
     "data": {
      "image/png": "[encoded data removed]",
      "text/plain": [
       "<Figure size 640x480 with 1 Axes>"
      ]
     },
     "metadata": {},
     "output_type": "display_data"
    }
   ],
   "source": [
    "plt.boxplot(df['systolic'])\n",
    "plt.show()"
   ]
  },
  {
   "cell_type": "code",
   "execution_count": 55,
   "id": "ba903050-9285-4564-986f-22c60c2420ec",
   "metadata": {},
   "outputs": [
    {
     "data": {
      "text/plain": [
       "Index(['age', 'height(cm)', 'weight(kg)', 'waist(cm)', 'eyesight(left)',\n",
       "       'eyesight(right)', 'hearing(left)', 'hearing(right)', 'systolic',\n",
       "       'relaxation', 'fasting blood sugar', 'Cholesterol', 'triglyceride',\n",
       "       'HDL', 'LDL', 'hemoglobin', 'Urine protein', 'serum creatinine', 'AST',\n",
       "       'ALT', 'Gtp'],\n",
       "      dtype='object')"
      ]
     },
     "execution_count": 55,
     "metadata": {},
     "output_type": "execute_result"
    }
   ],
   "source": [
    "df.select_dtypes(float).columns"
   ]
  },
  {
   "cell_type": "code",
   "execution_count": 56,
   "id": "93129501-d3e2-4c0e-a0be-2a3e2f08ac16",
   "metadata": {},
   "outputs": [
    {
     "data": {
      "text/plain": [
       "count    44552.000000\n",
       "mean        76.043320\n",
       "std          9.695356\n",
       "min         40.000000\n",
       "25%         70.000000\n",
       "50%         76.000000\n",
       "75%         82.000000\n",
       "max        146.000000\n",
       "Name: relaxation, dtype: float64"
      ]
     },
     "execution_count": 56,
     "metadata": {},
     "output_type": "execute_result"
    }
   ],
   "source": [
    "df['relaxation'].describe()"
   ]
  },
  {
   "cell_type": "code",
   "execution_count": 57,
   "id": "1be9276e-dd95-47f7-9c92-269208ff99a8",
   "metadata": {},
   "outputs": [
    {
     "name": "stdout",
     "output_type": "stream",
     "text": [
      "lf--> 52.0 uf--> 100.0\n"
     ]
    }
   ],
   "source": [
    "[lf, uf] = cal_lf_uf(70.000000,82.000000) "
   ]
  },
  {
   "cell_type": "code",
   "execution_count": 58,
   "id": "1eb6fa81-4687-4afc-8a72-ebfe2c5ac7e1",
   "metadata": {},
   "outputs": [],
   "source": [
    "df['relaxation'] = np.where(df['relaxation']>uf, uf, df['relaxation'])\n",
    "df['relaxation'] = np.where(df['relaxation']<lf, lf, df['relaxation'])"
   ]
  },
  {
   "cell_type": "code",
   "execution_count": 59,
   "id": "3c578efb-12b3-4454-a895-b925a9b6d9f8",
   "metadata": {},
   "outputs": [
    {
     "data": {
      "image/png": "[encoded data removed]",
      "text/plain": [
       "<Figure size 640x480 with 1 Axes>"
      ]
     },
     "metadata": {},
     "output_type": "display_data"
    }
   ],
   "source": [
    "plt.boxplot(df['relaxation'])\n",
    "plt.show()"
   ]
  },
  {
   "cell_type": "code",
   "execution_count": 60,
   "id": "912600b2-49d5-4246-8257-401939ca4088",
   "metadata": {},
   "outputs": [
    {
     "data": {
      "text/plain": [
       "count    44552.000000\n",
       "mean        99.320210\n",
       "std         20.845547\n",
       "min         46.000000\n",
       "25%         89.000000\n",
       "50%         96.000000\n",
       "75%        104.000000\n",
       "max        505.000000\n",
       "Name: fasting blood sugar, dtype: float64"
      ]
     },
     "execution_count": 60,
     "metadata": {},
     "output_type": "execute_result"
    }
   ],
   "source": [
    "df['fasting blood sugar'].describe()"
   ]
  },
  {
   "cell_type": "code",
   "execution_count": 61,
   "id": "5e0c8e1d-75ff-4d82-a02a-ab367f98d7a7",
   "metadata": {},
   "outputs": [
    {
     "name": "stdout",
     "output_type": "stream",
     "text": [
      "lf--> 66.5 uf--> 126.5\n"
     ]
    }
   ],
   "source": [
    "[lf, uf] = cal_lf_uf(89.000000, 104.000000)"
   ]
  },
  {
   "cell_type": "code",
   "execution_count": 62,
   "id": "361dc575-205e-4cf5-bb1a-9c642a30e79a",
   "metadata": {},
   "outputs": [],
   "source": [
    "df['fasting blood sugar'] = np.where(df['fasting blood sugar']>uf, uf, df['fasting blood sugar'])\n",
    "df['fasting blood sugar'] = np.where(df['fasting blood sugar']<lf, lf, df['fasting blood sugar'])"
   ]
  },
  {
   "cell_type": "code",
   "execution_count": 63,
   "id": "91002657-da4b-4b60-b69a-2c76082559ce",
   "metadata": {
    "scrolled": true
   },
   "outputs": [
    {
     "data": {
      "image/png": "[encoded data removed]",
      "text/plain": [
       "<Figure size 640x480 with 1 Axes>"
      ]
     },
     "metadata": {},
     "output_type": "display_data"
    }
   ],
   "source": [
    "plt.boxplot(df['fasting blood sugar'])\n",
    "plt.show()"
   ]
  },
  {
   "cell_type": "code",
   "execution_count": 64,
   "id": "c0721ced-2f34-4198-bef0-7dd1012f5d65",
   "metadata": {},
   "outputs": [
    {
     "data": {
      "text/plain": [
       "count    44552.000000\n",
       "mean       196.996005\n",
       "std         36.423237\n",
       "min         55.000000\n",
       "25%        172.000000\n",
       "50%        195.000000\n",
       "75%        220.000000\n",
       "max        445.000000\n",
       "Name: Cholesterol, dtype: float64"
      ]
     },
     "execution_count": 64,
     "metadata": {},
     "output_type": "execute_result"
    }
   ],
   "source": [
    "df['Cholesterol'].describe()"
   ]
  },
  {
   "cell_type": "code",
   "execution_count": 65,
   "id": "e7991f42-b28f-4d63-ad73-674e31f9c3f6",
   "metadata": {},
   "outputs": [
    {
     "name": "stdout",
     "output_type": "stream",
     "text": [
      "lf--> 100.0 uf--> 292.0\n"
     ]
    }
   ],
   "source": [
    "[lf, uf] = cal_lf_uf(172.000000, 220.000000 )"
   ]
  },
  {
   "cell_type": "code",
   "execution_count": 66,
   "id": "a706acbe-eb2d-4ffe-9dfd-7886435204f0",
   "metadata": {},
   "outputs": [],
   "source": [
    "df['Cholesterol'] = np.where(df['Cholesterol']>uf, uf, df['Cholesterol'])\n",
    "df['Cholesterol'] = np.where(df['Cholesterol']<lf, lf, df['Cholesterol'])"
   ]
  },
  {
   "cell_type": "code",
   "execution_count": 67,
   "id": "318d8e63-42bf-44d0-955d-ca2f874170ab",
   "metadata": {},
   "outputs": [
    {
     "data": {
      "image/png": "[encoded data removed]",
      "text/plain": [
       "<Figure size 640x480 with 1 Axes>"
      ]
     },
     "metadata": {},
     "output_type": "display_data"
    }
   ],
   "source": [
    "plt.boxplot(df['Cholesterol'])\n",
    "plt.show()"
   ]
  },
  {
   "cell_type": "code",
   "execution_count": 68,
   "id": "1571574b-1e6c-4d12-87e6-ef58477a97c1",
   "metadata": {},
   "outputs": [
    {
     "data": {
      "text/plain": [
       "count    44552.000000\n",
       "mean       126.722257\n",
       "std         71.612721\n",
       "min          8.000000\n",
       "25%         74.000000\n",
       "50%        108.000000\n",
       "75%        160.000000\n",
       "max        999.000000\n",
       "Name: triglyceride, dtype: float64"
      ]
     },
     "execution_count": 68,
     "metadata": {},
     "output_type": "execute_result"
    }
   ],
   "source": [
    "df['triglyceride'].describe()"
   ]
  },
  {
   "cell_type": "code",
   "execution_count": 69,
   "id": "94612266-664c-4aa1-9d93-e2fe516585d8",
   "metadata": {},
   "outputs": [
    {
     "name": "stdout",
     "output_type": "stream",
     "text": [
      "lf--> -55.0 uf--> 289.0\n"
     ]
    }
   ],
   "source": [
    "[lf, uf] = cal_lf_uf(74.000000, 160.000000)"
   ]
  },
  {
   "cell_type": "code",
   "execution_count": 70,
   "id": "d863402b-d2c5-404a-b7fc-c5e65120c841",
   "metadata": {},
   "outputs": [],
   "source": [
    "df['triglyceride'] = np.where(df['triglyceride']>uf, uf, df['triglyceride'])\n",
    "df['triglyceride'] = np.where(df['triglyceride']<lf, lf, df['triglyceride'])"
   ]
  },
  {
   "cell_type": "code",
   "execution_count": 71,
   "id": "7ecd2f37-ab40-40ca-89a7-ce9338fd4fd9",
   "metadata": {},
   "outputs": [
    {
     "data": {
      "image/png": "[encoded data removed]",
      "text/plain": [
       "<Figure size 640x480 with 1 Axes>"
      ]
     },
     "metadata": {},
     "output_type": "display_data"
    }
   ],
   "source": [
    "plt.boxplot(df['triglyceride'])\n",
    "plt.show()"
   ]
  },
  {
   "cell_type": "code",
   "execution_count": 72,
   "id": "dd33565b-5b09-466e-808f-da053e0a49f7",
   "metadata": {},
   "outputs": [
    {
     "data": {
      "text/plain": [
       "count    44552.000000\n",
       "mean        57.288382\n",
       "std         14.795399\n",
       "min          4.000000\n",
       "25%         47.000000\n",
       "50%         55.000000\n",
       "75%         66.000000\n",
       "max        618.000000\n",
       "Name: HDL, dtype: float64"
      ]
     },
     "execution_count": 72,
     "metadata": {},
     "output_type": "execute_result"
    }
   ],
   "source": [
    "df['HDL'].describe()"
   ]
  },
  {
   "cell_type": "code",
   "execution_count": 73,
   "id": "e0c0b5b1-9dc1-4446-b21e-0824542b388e",
   "metadata": {},
   "outputs": [
    {
     "name": "stdout",
     "output_type": "stream",
     "text": [
      "lf--> 18.5 uf--> 94.5\n"
     ]
    }
   ],
   "source": [
    "[lf, uf] = cal_lf_uf(47.000000, 66.000000)"
   ]
  },
  {
   "cell_type": "code",
   "execution_count": 74,
   "id": "86be2122-bcd9-456c-9f05-1ccd61377386",
   "metadata": {},
   "outputs": [],
   "source": [
    "df['HDL'] = np.where(df['HDL']>uf, uf, df['HDL'])\n",
    "df['HDL'] = np.where(df['HDL']<lf, lf, df['HDL'])"
   ]
  },
  {
   "cell_type": "code",
   "execution_count": 75,
   "id": "0444bfc3-40d7-4bd1-8a68-8829e535d760",
   "metadata": {},
   "outputs": [
    {
     "data": {
      "image/png": "[encoded data removed]",
      "text/plain": [
       "<Figure size 640x480 with 1 Axes>"
      ]
     },
     "metadata": {},
     "output_type": "display_data"
    }
   ],
   "source": [
    "plt.boxplot(df['HDL'])\n",
    "plt.show()"
   ]
  },
  {
   "cell_type": "code",
   "execution_count": 76,
   "id": "0ba6a38b-d14c-4450-afc9-15618a8887eb",
   "metadata": {},
   "outputs": [
    {
     "data": {
      "text/plain": [
       "count    44552.000000\n",
       "mean       115.037978\n",
       "std         40.938284\n",
       "min          1.000000\n",
       "25%         92.000000\n",
       "50%        113.000000\n",
       "75%        136.000000\n",
       "max       1860.000000\n",
       "Name: LDL, dtype: float64"
      ]
     },
     "execution_count": 76,
     "metadata": {},
     "output_type": "execute_result"
    }
   ],
   "source": [
    "df['LDL'].describe()"
   ]
  },
  {
   "cell_type": "code",
   "execution_count": 77,
   "id": "214f8729-b366-4efd-85f3-b11ba3edfbfd",
   "metadata": {},
   "outputs": [
    {
     "name": "stdout",
     "output_type": "stream",
     "text": [
      "lf--> 26.0 uf--> 202.0\n"
     ]
    }
   ],
   "source": [
    "[lf, uf] = cal_lf_uf(92.000000, 136.000000)"
   ]
  },
  {
   "cell_type": "code",
   "execution_count": 78,
   "id": "dd705936-c1da-4ad9-b620-f18ba4796554",
   "metadata": {},
   "outputs": [],
   "source": [
    "df['LDL'] = np.where(df['LDL']>uf, uf, df['LDL'])\n",
    "df['LDL'] = np.where(df['LDL']<lf, lf, df['LDL'])"
   ]
  },
  {
   "cell_type": "code",
   "execution_count": 79,
   "id": "a58c94c3-1a59-4a40-ba51-99e87bf51ea8",
   "metadata": {},
   "outputs": [
    {
     "data": {
      "image/png": "[encoded data removed]",
      "text/plain": [
       "<Figure size 640x480 with 1 Axes>"
      ]
     },
     "metadata": {},
     "output_type": "display_data"
    }
   ],
   "source": [
    "plt.boxplot(df['LDL'])\n",
    "plt.show()"
   ]
  },
  {
   "cell_type": "code",
   "execution_count": 80,
   "id": "27c5248f-2a95-4421-9756-834708bb41f5",
   "metadata": {},
   "outputs": [
    {
     "data": {
      "text/plain": [
       "Index(['age', 'height(cm)', 'weight(kg)', 'waist(cm)', 'eyesight(left)',\n",
       "       'eyesight(right)', 'hearing(left)', 'hearing(right)', 'systolic',\n",
       "       'relaxation', 'fasting blood sugar', 'Cholesterol', 'triglyceride',\n",
       "       'HDL', 'LDL', 'hemoglobin', 'Urine protein', 'serum creatinine', 'AST',\n",
       "       'ALT', 'Gtp'],\n",
       "      dtype='object')"
      ]
     },
     "execution_count": 80,
     "metadata": {},
     "output_type": "execute_result"
    }
   ],
   "source": [
    "df.select_dtypes(float).columns"
   ]
  },
  {
   "cell_type": "code",
   "execution_count": 81,
   "id": "9dfcc067-1654-4b94-88f1-21750ad69b15",
   "metadata": {},
   "outputs": [
    {
     "data": {
      "text/plain": [
       "count    44552.000000\n",
       "mean        14.622235\n",
       "std          1.564866\n",
       "min          4.900000\n",
       "25%         13.600000\n",
       "50%         14.800000\n",
       "75%         15.700000\n",
       "max         21.100000\n",
       "Name: hemoglobin, dtype: float64"
      ]
     },
     "execution_count": 81,
     "metadata": {},
     "output_type": "execute_result"
    }
   ],
   "source": [
    "df['hemoglobin'].describe()"
   ]
  },
  {
   "cell_type": "code",
   "execution_count": 82,
   "id": "ae8f33a6-f222-48cd-a650-186c6eb07746",
   "metadata": {},
   "outputs": [
    {
     "name": "stdout",
     "output_type": "stream",
     "text": [
      "lf--> 10.299999999999997 uf--> 19.1\n"
     ]
    }
   ],
   "source": [
    "[lf, uf] = cal_lf_uf(13.600000, 15.800000)"
   ]
  },
  {
   "cell_type": "code",
   "execution_count": 83,
   "id": "5c5f082c-cdb9-4273-8994-54cbb7e88109",
   "metadata": {},
   "outputs": [],
   "source": [
    "df['hemoglobin'] = np.where(df['hemoglobin']>uf, uf, df['hemoglobin'])\n",
    "df['hemoglobin'] = np.where(df['hemoglobin']<lf, lf, df['hemoglobin'])"
   ]
  },
  {
   "cell_type": "code",
   "execution_count": 84,
   "id": "7f706456-4b6b-4f82-869e-93a9cbc64049",
   "metadata": {},
   "outputs": [
    {
     "data": {
      "image/png": "[encoded data removed]",
      "text/plain": [
       "<Figure size 640x480 with 1 Axes>"
      ]
     },
     "metadata": {},
     "output_type": "display_data"
    }
   ],
   "source": [
    "plt.boxplot(df['hemoglobin'])\n",
    "plt.show()"
   ]
  },
  {
   "cell_type": "code",
   "execution_count": 85,
   "id": "0de81a0d-cc3e-4f6e-93a5-727d8a31f52d",
   "metadata": {},
   "outputs": [
    {
     "data": {
      "text/plain": [
       "array([1., 3., 2., 4., 5., 6.])"
      ]
     },
     "execution_count": 85,
     "metadata": {},
     "output_type": "execute_result"
    }
   ],
   "source": [
    "df['Urine protein'].unique()"
   ]
  },
  {
   "cell_type": "code",
   "execution_count": 86,
   "id": "49d3c664-0922-46ce-8609-591482d6af08",
   "metadata": {},
   "outputs": [
    {
     "name": "stdout",
     "output_type": "stream",
     "text": [
      "lf--> 1.0 uf--> 1.0\n"
     ]
    }
   ],
   "source": [
    "[lf, uf] = cal_lf_uf(1.000000, 1.000000)"
   ]
  },
  {
   "cell_type": "code",
   "execution_count": 87,
   "id": "545c351a-1ac5-42df-972b-bd75afc3e23f",
   "metadata": {},
   "outputs": [],
   "source": [
    "# df['Urine protein'] = np.where(df['Urine protein']>uf, uf, df['Urine protein'])\n",
    "# df['Urine protein'] = np.where(df['Urine protein']<lf, lf, df['Urine protein'])"
   ]
  },
  {
   "cell_type": "code",
   "execution_count": 88,
   "id": "6d4af803-f996-4ee3-90fb-fad51dc1bfef",
   "metadata": {},
   "outputs": [
    {
     "data": {
      "image/png": "[encoded data removed]",
      "text/plain": [
       "<Figure size 640x480 with 1 Axes>"
      ]
     },
     "metadata": {},
     "output_type": "display_data"
    }
   ],
   "source": [
    "plt.boxplot(df['Urine protein'])\n",
    "plt.show()"
   ]
  },
  {
   "cell_type": "code",
   "execution_count": 89,
   "id": "c202c131-054b-46bc-8c76-7d31bbe0d975",
   "metadata": {},
   "outputs": [
    {
     "data": {
      "text/plain": [
       "count    44552.000000\n",
       "mean         0.886104\n",
       "std          0.226090\n",
       "min          0.100000\n",
       "25%          0.800000\n",
       "50%          0.900000\n",
       "75%          1.000000\n",
       "max         11.600000\n",
       "Name: serum creatinine, dtype: float64"
      ]
     },
     "execution_count": 89,
     "metadata": {},
     "output_type": "execute_result"
    }
   ],
   "source": [
    "df['serum creatinine'].describe()"
   ]
  },
  {
   "cell_type": "code",
   "execution_count": 90,
   "id": "dcad06f7-c9d8-4e77-b2ab-1bc78e3b7055",
   "metadata": {},
   "outputs": [
    {
     "name": "stdout",
     "output_type": "stream",
     "text": [
      "lf--> 0.5000000000000001 uf--> 1.2999999999999998\n"
     ]
    }
   ],
   "source": [
    "[lf, uf] = cal_lf_uf(0.800000, 1.000000)"
   ]
  },
  {
   "cell_type": "code",
   "execution_count": 91,
   "id": "a9dcb7cf-fc21-48cb-8613-1fec82633804",
   "metadata": {},
   "outputs": [],
   "source": [
    "df['serum creatinine'] = np.where(df['serum creatinine']>uf, uf, df['serum creatinine'])\n",
    "df['serum creatinine'] = np.where(df['serum creatinine']<lf, lf, df['serum creatinine'])"
   ]
  },
  {
   "cell_type": "code",
   "execution_count": 92,
   "id": "a4410ece-d2af-4cca-af51-cfb17cd10f85",
   "metadata": {},
   "outputs": [
    {
     "data": {
      "image/png": "[encoded data removed]",
      "text/plain": [
       "<Figure size 640x480 with 1 Axes>"
      ]
     },
     "metadata": {},
     "output_type": "display_data"
    }
   ],
   "source": [
    "plt.boxplot(df['serum creatinine'])\n",
    "plt.show()"
   ]
  },
  {
   "cell_type": "code",
   "execution_count": 93,
   "id": "b091b564-8906-4964-8be4-95abf32e8453",
   "metadata": {},
   "outputs": [
    {
     "data": {
      "text/plain": [
       "count    44552.000000\n",
       "mean        26.213795\n",
       "std         19.087304\n",
       "min          6.000000\n",
       "25%         19.000000\n",
       "50%         23.000000\n",
       "75%         29.000000\n",
       "max       1311.000000\n",
       "Name: AST, dtype: float64"
      ]
     },
     "execution_count": 93,
     "metadata": {},
     "output_type": "execute_result"
    }
   ],
   "source": [
    "df['AST'].describe()"
   ]
  },
  {
   "cell_type": "code",
   "execution_count": 94,
   "id": "2b07bdbc-8a17-4a5c-8f6b-3050718ffe38",
   "metadata": {},
   "outputs": [
    {
     "name": "stdout",
     "output_type": "stream",
     "text": [
      "lf--> 5.5 uf--> 41.5\n"
     ]
    }
   ],
   "source": [
    "[lf, uf] = cal_lf_uf(19.000000, 28.000000)"
   ]
  },
  {
   "cell_type": "code",
   "execution_count": 95,
   "id": "323e54c2-39cf-40d4-94e9-92535a188c5b",
   "metadata": {},
   "outputs": [],
   "source": [
    "df['AST'] = np.where(df['AST']>uf, uf, df['AST'])\n",
    "df['AST'] = np.where(df['AST']<lf, lf, df['AST'])"
   ]
  },
  {
   "cell_type": "code",
   "execution_count": 96,
   "id": "b6c537d5-9cba-4615-8d67-52b83f2eb6a2",
   "metadata": {},
   "outputs": [
    {
     "data": {
      "image/png": "[encoded data removed]",
      "text/plain": [
       "<Figure size 640x480 with 1 Axes>"
      ]
     },
     "metadata": {},
     "output_type": "display_data"
    }
   ],
   "source": [
    "plt.boxplot(df['AST'])\n",
    "plt.show()"
   ]
  },
  {
   "cell_type": "code",
   "execution_count": 97,
   "id": "d444624c-612d-4c93-85aa-6403171c583e",
   "metadata": {},
   "outputs": [
    {
     "data": {
      "text/plain": [
       "count    44552.000000\n",
       "mean        27.085002\n",
       "std         31.755110\n",
       "min          1.000000\n",
       "25%         15.000000\n",
       "50%         21.000000\n",
       "75%         31.000000\n",
       "max       2914.000000\n",
       "Name: ALT, dtype: float64"
      ]
     },
     "execution_count": 97,
     "metadata": {},
     "output_type": "execute_result"
    }
   ],
   "source": [
    "df['ALT'].describe()"
   ]
  },
  {
   "cell_type": "code",
   "execution_count": 98,
   "id": "4b27f65c-6baf-48ce-b1fe-136ac1c47096",
   "metadata": {},
   "outputs": [
    {
     "name": "stdout",
     "output_type": "stream",
     "text": [
      "lf--> -9.0 uf--> 55.0\n"
     ]
    }
   ],
   "source": [
    "[lf, uf] = cal_lf_uf(15.000000, 31.000000)"
   ]
  },
  {
   "cell_type": "code",
   "execution_count": 99,
   "id": "df032f02-c7ff-4428-8579-15a20a06ae45",
   "metadata": {},
   "outputs": [],
   "source": [
    "df['ALT'] = np.where(df['ALT']>uf, uf, df['ALT'])\n",
    "df['ALT'] = np.where(df['ALT']<lf, lf, df['ALT'])"
   ]
  },
  {
   "cell_type": "code",
   "execution_count": 100,
   "id": "e51d4bf2-0d9c-46db-9330-abf93961347a",
   "metadata": {},
   "outputs": [
    {
     "data": {
      "image/png": "[encoded data removed]",
      "text/plain": [
       "<Figure size 640x480 with 1 Axes>"
      ]
     },
     "metadata": {},
     "output_type": "display_data"
    }
   ],
   "source": [
    "plt.boxplot(df['AST'])\n",
    "plt.show()"
   ]
  },
  {
   "cell_type": "code",
   "execution_count": 101,
   "id": "daa7b478-5d7a-41c2-85fc-d374ddb74843",
   "metadata": {},
   "outputs": [
    {
     "data": {
      "text/plain": [
       "count    44552.000000\n",
       "mean        40.066103\n",
       "std         50.723940\n",
       "min          1.000000\n",
       "25%         17.000000\n",
       "50%         26.000000\n",
       "75%         44.000000\n",
       "max        999.000000\n",
       "Name: Gtp, dtype: float64"
      ]
     },
     "execution_count": 101,
     "metadata": {},
     "output_type": "execute_result"
    }
   ],
   "source": [
    "df['Gtp'].describe()"
   ]
  },
  {
   "cell_type": "code",
   "execution_count": 102,
   "id": "af713ebf-4785-430c-8d07-625371eef08b",
   "metadata": {},
   "outputs": [
    {
     "name": "stdout",
     "output_type": "stream",
     "text": [
      "lf--> -22.0 uf--> 82.0\n"
     ]
    }
   ],
   "source": [
    "[lf, uf] = cal_lf_uf(17.000000, 43.000000)"
   ]
  },
  {
   "cell_type": "code",
   "execution_count": 103,
   "id": "5f9609e7-8890-4665-a61e-26e5f547a288",
   "metadata": {},
   "outputs": [],
   "source": [
    "df['Gtp'] = np.where(df['Gtp']>uf, uf, df['Gtp'])\n",
    "df['Gtp'] = np.where(df['Gtp']<lf, lf, df['Gtp'])"
   ]
  },
  {
   "cell_type": "code",
   "execution_count": 104,
   "id": "4b43f80f-5d07-4cd3-89c6-0c1b37a77e67",
   "metadata": {},
   "outputs": [
    {
     "data": {
      "image/png": "[encoded data removed]",
      "text/plain": [
       "<Figure size 640x480 with 1 Axes>"
      ]
     },
     "metadata": {},
     "output_type": "display_data"
    }
   ],
   "source": [
    "plt.boxplot(df['Gtp'])\n",
    "plt.show()"
   ]
  },
  {
   "cell_type": "code",
   "execution_count": 105,
   "id": "5304c94b-762b-4332-9b2a-ee9606f2d321",
   "metadata": {},
   "outputs": [
    {
     "data": {
      "text/plain": [
       "Index(['dental caries', 'smoking'], dtype='object')"
      ]
     },
     "execution_count": 105,
     "metadata": {},
     "output_type": "execute_result"
    }
   ],
   "source": [
    "df.select_dtypes(int).columns"
   ]
  },
  {
   "cell_type": "code",
   "execution_count": 106,
   "id": "f2491c5a-ef26-4f3b-9a0a-06f4e1301172",
   "metadata": {},
   "outputs": [
    {
     "data": {
      "text/html": [
       "<div>\n",
       "<style scoped>\n",
       "    .dataframe tbody tr th:only-of-type {\n",
       "        vertical-align: middle;\n",
       "    }\n",
       "\n",
       "    .dataframe tbody tr th {\n",
       "        vertical-align: top;\n",
       "    }\n",
       "\n",
       "    .dataframe thead th {\n",
       "        text-align: right;\n",
       "    }\n",
       "</style>\n",
       "<table border=\"1\" class=\"dataframe\">\n",
       "  <thead>\n",
       "    <tr style=\"text-align: right;\">\n",
       "      <th></th>\n",
       "      <th>gender</th>\n",
       "      <th>age</th>\n",
       "      <th>height(cm)</th>\n",
       "      <th>weight(kg)</th>\n",
       "      <th>waist(cm)</th>\n",
       "      <th>eyesight(left)</th>\n",
       "      <th>eyesight(right)</th>\n",
       "      <th>hearing(left)</th>\n",
       "      <th>hearing(right)</th>\n",
       "      <th>systolic</th>\n",
       "      <th>...</th>\n",
       "      <th>LDL</th>\n",
       "      <th>hemoglobin</th>\n",
       "      <th>Urine protein</th>\n",
       "      <th>serum creatinine</th>\n",
       "      <th>AST</th>\n",
       "      <th>ALT</th>\n",
       "      <th>Gtp</th>\n",
       "      <th>dental caries</th>\n",
       "      <th>tartar</th>\n",
       "      <th>smoking</th>\n",
       "    </tr>\n",
       "  </thead>\n",
       "  <tbody>\n",
       "    <tr>\n",
       "      <th>0</th>\n",
       "      <td>F</td>\n",
       "      <td>40.0</td>\n",
       "      <td>155.0</td>\n",
       "      <td>60.0</td>\n",
       "      <td>81.3</td>\n",
       "      <td>1.2</td>\n",
       "      <td>1.0</td>\n",
       "      <td>1.0</td>\n",
       "      <td>1.0</td>\n",
       "      <td>114.0</td>\n",
       "      <td>...</td>\n",
       "      <td>126.0</td>\n",
       "      <td>12.9</td>\n",
       "      <td>1.0</td>\n",
       "      <td>0.7</td>\n",
       "      <td>18.0</td>\n",
       "      <td>19.0</td>\n",
       "      <td>27.0</td>\n",
       "      <td>0</td>\n",
       "      <td>Y</td>\n",
       "      <td>0</td>\n",
       "    </tr>\n",
       "    <tr>\n",
       "      <th>1</th>\n",
       "      <td>F</td>\n",
       "      <td>40.0</td>\n",
       "      <td>160.0</td>\n",
       "      <td>60.0</td>\n",
       "      <td>81.0</td>\n",
       "      <td>0.8</td>\n",
       "      <td>0.6</td>\n",
       "      <td>1.0</td>\n",
       "      <td>1.0</td>\n",
       "      <td>119.0</td>\n",
       "      <td>...</td>\n",
       "      <td>127.0</td>\n",
       "      <td>12.7</td>\n",
       "      <td>1.0</td>\n",
       "      <td>0.6</td>\n",
       "      <td>22.0</td>\n",
       "      <td>19.0</td>\n",
       "      <td>18.0</td>\n",
       "      <td>0</td>\n",
       "      <td>Y</td>\n",
       "      <td>0</td>\n",
       "    </tr>\n",
       "    <tr>\n",
       "      <th>2</th>\n",
       "      <td>M</td>\n",
       "      <td>55.0</td>\n",
       "      <td>170.0</td>\n",
       "      <td>60.0</td>\n",
       "      <td>80.0</td>\n",
       "      <td>0.8</td>\n",
       "      <td>0.8</td>\n",
       "      <td>1.0</td>\n",
       "      <td>1.0</td>\n",
       "      <td>138.0</td>\n",
       "      <td>...</td>\n",
       "      <td>151.0</td>\n",
       "      <td>15.8</td>\n",
       "      <td>1.0</td>\n",
       "      <td>1.0</td>\n",
       "      <td>21.0</td>\n",
       "      <td>16.0</td>\n",
       "      <td>22.0</td>\n",
       "      <td>0</td>\n",
       "      <td>N</td>\n",
       "      <td>1</td>\n",
       "    </tr>\n",
       "    <tr>\n",
       "      <th>3</th>\n",
       "      <td>M</td>\n",
       "      <td>40.0</td>\n",
       "      <td>165.0</td>\n",
       "      <td>70.0</td>\n",
       "      <td>88.0</td>\n",
       "      <td>1.5</td>\n",
       "      <td>1.5</td>\n",
       "      <td>1.0</td>\n",
       "      <td>1.0</td>\n",
       "      <td>100.0</td>\n",
       "      <td>...</td>\n",
       "      <td>202.0</td>\n",
       "      <td>14.7</td>\n",
       "      <td>1.0</td>\n",
       "      <td>1.0</td>\n",
       "      <td>19.0</td>\n",
       "      <td>26.0</td>\n",
       "      <td>18.0</td>\n",
       "      <td>0</td>\n",
       "      <td>Y</td>\n",
       "      <td>0</td>\n",
       "    </tr>\n",
       "    <tr>\n",
       "      <th>4</th>\n",
       "      <td>F</td>\n",
       "      <td>40.0</td>\n",
       "      <td>155.0</td>\n",
       "      <td>60.0</td>\n",
       "      <td>86.0</td>\n",
       "      <td>1.0</td>\n",
       "      <td>1.0</td>\n",
       "      <td>1.0</td>\n",
       "      <td>1.0</td>\n",
       "      <td>120.0</td>\n",
       "      <td>...</td>\n",
       "      <td>107.0</td>\n",
       "      <td>12.5</td>\n",
       "      <td>1.0</td>\n",
       "      <td>0.6</td>\n",
       "      <td>16.0</td>\n",
       "      <td>14.0</td>\n",
       "      <td>22.0</td>\n",
       "      <td>0</td>\n",
       "      <td>N</td>\n",
       "      <td>0</td>\n",
       "    </tr>\n",
       "  </tbody>\n",
       "</table>\n",
       "<p>5 rows × 25 columns</p>\n",
       "</div>"
      ],
      "text/plain": [
       "  gender   age  height(cm)  weight(kg)  waist(cm)  eyesight(left)  \\\n",
       "0      F  40.0       155.0        60.0       81.3             1.2   \n",
       "1      F  40.0       160.0        60.0       81.0             0.8   \n",
       "2      M  55.0       170.0        60.0       80.0             0.8   \n",
       "3      M  40.0       165.0        70.0       88.0             1.5   \n",
       "4      F  40.0       155.0        60.0       86.0             1.0   \n",
       "\n",
       "   eyesight(right)  hearing(left)  hearing(right)  systolic  ...    LDL  \\\n",
       "0              1.0            1.0             1.0     114.0  ...  126.0   \n",
       "1              0.6            1.0             1.0     119.0  ...  127.0   \n",
       "2              0.8            1.0             1.0     138.0  ...  151.0   \n",
       "3              1.5            1.0             1.0     100.0  ...  202.0   \n",
       "4              1.0            1.0             1.0     120.0  ...  107.0   \n",
       "\n",
       "   hemoglobin  Urine protein  serum creatinine   AST   ALT   Gtp  \\\n",
       "0        12.9            1.0               0.7  18.0  19.0  27.0   \n",
       "1        12.7            1.0               0.6  22.0  19.0  18.0   \n",
       "2        15.8            1.0               1.0  21.0  16.0  22.0   \n",
       "3        14.7            1.0               1.0  19.0  26.0  18.0   \n",
       "4        12.5            1.0               0.6  16.0  14.0  22.0   \n",
       "\n",
       "   dental caries  tartar  smoking  \n",
       "0              0       Y        0  \n",
       "1              0       Y        0  \n",
       "2              0       N        1  \n",
       "3              0       Y        0  \n",
       "4              0       N        0  \n",
       "\n",
       "[5 rows x 25 columns]"
      ]
     },
     "execution_count": 106,
     "metadata": {},
     "output_type": "execute_result"
    }
   ],
   "source": [
    "df.head()"
   ]
  },
  {
   "cell_type": "code",
   "execution_count": 107,
   "id": "9f967bd7-6c9e-41f5-bcf0-cae1cb96170b",
   "metadata": {},
   "outputs": [
    {
     "data": {
      "text/plain": [
       "count    44552.000000\n",
       "mean         0.213526\n",
       "std          0.409800\n",
       "min          0.000000\n",
       "25%          0.000000\n",
       "50%          0.000000\n",
       "75%          0.000000\n",
       "max          1.000000\n",
       "Name: dental caries, dtype: float64"
      ]
     },
     "execution_count": 107,
     "metadata": {},
     "output_type": "execute_result"
    }
   ],
   "source": [
    "df['dental caries'].describe()"
   ]
  },
  {
   "cell_type": "code",
   "execution_count": 108,
   "id": "2c3bf2d5-946b-425b-b3a9-07ade9c3b5d0",
   "metadata": {},
   "outputs": [
    {
     "name": "stdout",
     "output_type": "stream",
     "text": [
      "lf--> 0.0 uf--> 0.0\n"
     ]
    }
   ],
   "source": [
    "[lf, uf] = cal_lf_uf(0.000000, 0.000000)"
   ]
  },
  {
   "cell_type": "code",
   "execution_count": 109,
   "id": "d72d0901-6167-46c0-8f36-c5a3ff2599ec",
   "metadata": {},
   "outputs": [],
   "source": [
    "df['dental caries'] = np.where(df['dental caries']>uf, uf, df['dental caries'])\n",
    "df['dental caries'] = np.where(df['dental caries']<lf, lf, df['dental caries'])"
   ]
  },
  {
   "cell_type": "code",
   "execution_count": 110,
   "id": "a80a02c4-348c-4fa4-8258-a3f951a749f7",
   "metadata": {},
   "outputs": [
    {
     "data": {
      "image/png": "[encoded data removed]",
      "text/plain": [
       "<Figure size 640x480 with 1 Axes>"
      ]
     },
     "metadata": {},
     "output_type": "display_data"
    }
   ],
   "source": [
    "plt.boxplot(df['dental caries'])\n",
    "plt.show()"
   ]
  },
  {
   "cell_type": "code",
   "execution_count": 111,
   "id": "5999e450-8350-40fb-98f0-fd1f69099983",
   "metadata": {},
   "outputs": [
    {
     "data": {
      "text/plain": [
       "count    44552.000000\n",
       "mean         0.367032\n",
       "std          0.482001\n",
       "min          0.000000\n",
       "25%          0.000000\n",
       "50%          0.000000\n",
       "75%          1.000000\n",
       "max          1.000000\n",
       "Name: smoking, dtype: float64"
      ]
     },
     "execution_count": 111,
     "metadata": {},
     "output_type": "execute_result"
    }
   ],
   "source": [
    "df['smoking'].describe()"
   ]
  },
  {
   "cell_type": "code",
   "execution_count": 112,
   "id": "4ae55e5c-ba29-4860-b79e-bb432cef13c1",
   "metadata": {},
   "outputs": [
    {
     "name": "stdout",
     "output_type": "stream",
     "text": [
      "lf--> -1.5 uf--> 2.5\n"
     ]
    }
   ],
   "source": [
    "[lf, uf] = cal_lf_uf(0.000000, 1.000000)"
   ]
  },
  {
   "cell_type": "code",
   "execution_count": 113,
   "id": "b4a3d0ef-553c-44ba-8ab5-d40a2223a4d6",
   "metadata": {},
   "outputs": [],
   "source": [
    "df['smoking'] = np.where(df['smoking']>uf, uf, df['smoking'])\n",
    "df['smoking'] = np.where(df['smoking']<lf, lf, df['smoking'])"
   ]
  },
  {
   "cell_type": "code",
   "execution_count": 114,
   "id": "f9889272-cd0d-4521-bf31-dd83c6e41a13",
   "metadata": {},
   "outputs": [
    {
     "data": {
      "image/png": "[encoded data removed]",
      "text/plain": [
       "<Figure size 640x480 with 1 Axes>"
      ]
     },
     "metadata": {},
     "output_type": "display_data"
    }
   ],
   "source": [
    "plt.boxplot(df['smoking'])\n",
    "plt.show()"
   ]
  },
  {
   "cell_type": "code",
   "execution_count": 115,
   "id": "c691cb10-4254-42a1-ba35-c62fd0644caa",
   "metadata": {},
   "outputs": [
    {
     "data": {
      "text/plain": [
       "Index(['gender', 'tartar'], dtype='object')"
      ]
     },
     "execution_count": 115,
     "metadata": {},
     "output_type": "execute_result"
    }
   ],
   "source": [
    "df.select_dtypes(object).columns"
   ]
  },
  {
   "cell_type": "code",
   "execution_count": 116,
   "id": "bc7e4ced-29ea-4a7e-b65c-91586b3868d3",
   "metadata": {},
   "outputs": [],
   "source": [
    "df1 = pd.get_dummies(df,columns = ['gender'],drop_first=True)\n",
    "# df2 = pd.get_dummies(df1,columns = ['oral'],drop_first=True)\n",
    "df2 = pd.get_dummies(df1,columns = ['tartar'],drop_first=True)"
   ]
  },
  {
   "cell_type": "code",
   "execution_count": 117,
   "id": "d8134203-2f48-49f1-baad-3e2dfb157469",
   "metadata": {},
   "outputs": [
    {
     "data": {
      "text/html": [
       "<div>\n",
       "<style scoped>\n",
       "    .dataframe tbody tr th:only-of-type {\n",
       "        vertical-align: middle;\n",
       "    }\n",
       "\n",
       "    .dataframe tbody tr th {\n",
       "        vertical-align: top;\n",
       "    }\n",
       "\n",
       "    .dataframe thead th {\n",
       "        text-align: right;\n",
       "    }\n",
       "</style>\n",
       "<table border=\"1\" class=\"dataframe\">\n",
       "  <thead>\n",
       "    <tr style=\"text-align: right;\">\n",
       "      <th></th>\n",
       "      <th>age</th>\n",
       "      <th>height(cm)</th>\n",
       "      <th>weight(kg)</th>\n",
       "      <th>waist(cm)</th>\n",
       "      <th>eyesight(left)</th>\n",
       "      <th>eyesight(right)</th>\n",
       "      <th>hearing(left)</th>\n",
       "      <th>hearing(right)</th>\n",
       "      <th>systolic</th>\n",
       "      <th>relaxation</th>\n",
       "      <th>...</th>\n",
       "      <th>hemoglobin</th>\n",
       "      <th>Urine protein</th>\n",
       "      <th>serum creatinine</th>\n",
       "      <th>AST</th>\n",
       "      <th>ALT</th>\n",
       "      <th>Gtp</th>\n",
       "      <th>dental caries</th>\n",
       "      <th>smoking</th>\n",
       "      <th>gender_M</th>\n",
       "      <th>tartar_Y</th>\n",
       "    </tr>\n",
       "  </thead>\n",
       "  <tbody>\n",
       "    <tr>\n",
       "      <th>0</th>\n",
       "      <td>40.0</td>\n",
       "      <td>155.0</td>\n",
       "      <td>60.0</td>\n",
       "      <td>81.3</td>\n",
       "      <td>1.2</td>\n",
       "      <td>1.0</td>\n",
       "      <td>1.0</td>\n",
       "      <td>1.0</td>\n",
       "      <td>114.0</td>\n",
       "      <td>73.0</td>\n",
       "      <td>...</td>\n",
       "      <td>12.9</td>\n",
       "      <td>1.0</td>\n",
       "      <td>0.7</td>\n",
       "      <td>18.0</td>\n",
       "      <td>19.0</td>\n",
       "      <td>27.0</td>\n",
       "      <td>0.0</td>\n",
       "      <td>0.0</td>\n",
       "      <td>False</td>\n",
       "      <td>True</td>\n",
       "    </tr>\n",
       "    <tr>\n",
       "      <th>1</th>\n",
       "      <td>40.0</td>\n",
       "      <td>160.0</td>\n",
       "      <td>60.0</td>\n",
       "      <td>81.0</td>\n",
       "      <td>0.8</td>\n",
       "      <td>0.6</td>\n",
       "      <td>1.0</td>\n",
       "      <td>1.0</td>\n",
       "      <td>119.0</td>\n",
       "      <td>70.0</td>\n",
       "      <td>...</td>\n",
       "      <td>12.7</td>\n",
       "      <td>1.0</td>\n",
       "      <td>0.6</td>\n",
       "      <td>22.0</td>\n",
       "      <td>19.0</td>\n",
       "      <td>18.0</td>\n",
       "      <td>0.0</td>\n",
       "      <td>0.0</td>\n",
       "      <td>False</td>\n",
       "      <td>True</td>\n",
       "    </tr>\n",
       "    <tr>\n",
       "      <th>2</th>\n",
       "      <td>55.0</td>\n",
       "      <td>170.0</td>\n",
       "      <td>60.0</td>\n",
       "      <td>80.0</td>\n",
       "      <td>0.8</td>\n",
       "      <td>0.8</td>\n",
       "      <td>1.0</td>\n",
       "      <td>1.0</td>\n",
       "      <td>138.0</td>\n",
       "      <td>86.0</td>\n",
       "      <td>...</td>\n",
       "      <td>15.8</td>\n",
       "      <td>1.0</td>\n",
       "      <td>1.0</td>\n",
       "      <td>21.0</td>\n",
       "      <td>16.0</td>\n",
       "      <td>22.0</td>\n",
       "      <td>0.0</td>\n",
       "      <td>1.0</td>\n",
       "      <td>True</td>\n",
       "      <td>False</td>\n",
       "    </tr>\n",
       "    <tr>\n",
       "      <th>3</th>\n",
       "      <td>40.0</td>\n",
       "      <td>165.0</td>\n",
       "      <td>70.0</td>\n",
       "      <td>88.0</td>\n",
       "      <td>1.5</td>\n",
       "      <td>1.5</td>\n",
       "      <td>1.0</td>\n",
       "      <td>1.0</td>\n",
       "      <td>100.0</td>\n",
       "      <td>60.0</td>\n",
       "      <td>...</td>\n",
       "      <td>14.7</td>\n",
       "      <td>1.0</td>\n",
       "      <td>1.0</td>\n",
       "      <td>19.0</td>\n",
       "      <td>26.0</td>\n",
       "      <td>18.0</td>\n",
       "      <td>0.0</td>\n",
       "      <td>0.0</td>\n",
       "      <td>True</td>\n",
       "      <td>True</td>\n",
       "    </tr>\n",
       "    <tr>\n",
       "      <th>4</th>\n",
       "      <td>40.0</td>\n",
       "      <td>155.0</td>\n",
       "      <td>60.0</td>\n",
       "      <td>86.0</td>\n",
       "      <td>1.0</td>\n",
       "      <td>1.0</td>\n",
       "      <td>1.0</td>\n",
       "      <td>1.0</td>\n",
       "      <td>120.0</td>\n",
       "      <td>74.0</td>\n",
       "      <td>...</td>\n",
       "      <td>12.5</td>\n",
       "      <td>1.0</td>\n",
       "      <td>0.6</td>\n",
       "      <td>16.0</td>\n",
       "      <td>14.0</td>\n",
       "      <td>22.0</td>\n",
       "      <td>0.0</td>\n",
       "      <td>0.0</td>\n",
       "      <td>False</td>\n",
       "      <td>False</td>\n",
       "    </tr>\n",
       "  </tbody>\n",
       "</table>\n",
       "<p>5 rows × 25 columns</p>\n",
       "</div>"
      ],
      "text/plain": [
       "    age  height(cm)  weight(kg)  waist(cm)  eyesight(left)  eyesight(right)  \\\n",
       "0  40.0       155.0        60.0       81.3             1.2              1.0   \n",
       "1  40.0       160.0        60.0       81.0             0.8              0.6   \n",
       "2  55.0       170.0        60.0       80.0             0.8              0.8   \n",
       "3  40.0       165.0        70.0       88.0             1.5              1.5   \n",
       "4  40.0       155.0        60.0       86.0             1.0              1.0   \n",
       "\n",
       "   hearing(left)  hearing(right)  systolic  relaxation  ...  hemoglobin  \\\n",
       "0            1.0             1.0     114.0        73.0  ...        12.9   \n",
       "1            1.0             1.0     119.0        70.0  ...        12.7   \n",
       "2            1.0             1.0     138.0        86.0  ...        15.8   \n",
       "3            1.0             1.0     100.0        60.0  ...        14.7   \n",
       "4            1.0             1.0     120.0        74.0  ...        12.5   \n",
       "\n",
       "   Urine protein  serum creatinine   AST   ALT   Gtp  dental caries  smoking  \\\n",
       "0            1.0               0.7  18.0  19.0  27.0            0.0      0.0   \n",
       "1            1.0               0.6  22.0  19.0  18.0            0.0      0.0   \n",
       "2            1.0               1.0  21.0  16.0  22.0            0.0      1.0   \n",
       "3            1.0               1.0  19.0  26.0  18.0            0.0      0.0   \n",
       "4            1.0               0.6  16.0  14.0  22.0            0.0      0.0   \n",
       "\n",
       "   gender_M  tartar_Y  \n",
       "0     False      True  \n",
       "1     False      True  \n",
       "2      True     False  \n",
       "3      True      True  \n",
       "4     False     False  \n",
       "\n",
       "[5 rows x 25 columns]"
      ]
     },
     "execution_count": 117,
     "metadata": {},
     "output_type": "execute_result"
    }
   ],
   "source": [
    "df2.head()"
   ]
  },
  {
   "cell_type": "code",
   "execution_count": 118,
   "id": "73535d2d-4846-4ba4-af72-8ef08e6e6ef2",
   "metadata": {},
   "outputs": [],
   "source": [
    "Linear_model = LinearRegression()\n",
    "Log_model = LogisticRegression()\n",
    "Decision_model = DecisionTreeClassifier()\n",
    "Random_model = RandomForestClassifier()"
   ]
  },
  {
   "cell_type": "code",
   "execution_count": 119,
   "id": "83a0c4ec-f402-4670-aa07-c924846cf54b",
   "metadata": {},
   "outputs": [
    {
     "data": {
      "text/plain": [
       "Index(['age', 'height(cm)', 'weight(kg)', 'waist(cm)', 'eyesight(left)',\n",
       "       'eyesight(right)', 'hearing(left)', 'hearing(right)', 'systolic',\n",
       "       'relaxation', 'fasting blood sugar', 'Cholesterol', 'triglyceride',\n",
       "       'HDL', 'LDL', 'hemoglobin', 'Urine protein', 'serum creatinine', 'AST',\n",
       "       'ALT', 'Gtp', 'dental caries', 'smoking', 'gender_M', 'tartar_Y'],\n",
       "      dtype='object')"
      ]
     },
     "execution_count": 119,
     "metadata": {},
     "output_type": "execute_result"
    }
   ],
   "source": [
    "df2.columns"
   ]
  },
  {
   "cell_type": "code",
   "execution_count": 120,
   "id": "2822ef7d-6d51-413d-85d9-5f38ceb9c2d4",
   "metadata": {},
   "outputs": [],
   "source": [
    "y = df2[\"smoking\"]\n",
    "x = df2[['age', 'height(cm)', 'weight(kg)', 'waist(cm)', 'eyesight(left)',\n",
    "       'eyesight(right)', 'hearing(left)', 'hearing(right)', 'systolic',\n",
    "       'relaxation', 'fasting blood sugar', 'Cholesterol', 'triglyceride',\n",
    "       'HDL', 'LDL', 'hemoglobin', 'Urine protein', 'serum creatinine', 'AST',\n",
    "       'ALT', 'Gtp', 'dental caries', 'gender_M', 'tartar_Y']]"
   ]
  },
  {
   "cell_type": "code",
   "execution_count": 121,
   "id": "faa667c9-4c52-46ec-a636-93d57b861adb",
   "metadata": {},
   "outputs": [],
   "source": [
    "x_train, x_test, y_train, y_test = train_test_split(x, y, test_size=0.2, random_state=88)"
   ]
  },
  {
   "cell_type": "code",
   "execution_count": 122,
   "id": "e4ca47ad-6ff9-4195-8658-4e3e13aeeac6",
   "metadata": {},
   "outputs": [
    {
     "data": {
      "text/html": [
       "<style>#sk-container-id-1 {\n",
       "  /* Definition of color scheme common for light and dark mode */\n",
       "  --sklearn-color-text: black;\n",
       "  --sklearn-color-line: gray;\n",
       "  /* Definition of color scheme for unfitted estimators */\n",
       "  --sklearn-color-unfitted-level-0: #fff5e6;\n",
       "  --sklearn-color-unfitted-level-1: #f6e4d2;\n",
       "  --sklearn-color-unfitted-level-2: #ffe0b3;\n",
       "  --sklearn-color-unfitted-level-3: chocolate;\n",
       "  /* Definition of color scheme for fitted estimators */\n",
       "  --sklearn-color-fitted-level-0: #f0f8ff;\n",
       "  --sklearn-color-fitted-level-1: #d4ebff;\n",
       "  --sklearn-color-fitted-level-2: #b3dbfd;\n",
       "  --sklearn-color-fitted-level-3: cornflowerblue;\n",
       "\n",
       "  /* Specific color for light theme */\n",
       "  --sklearn-color-text-on-default-background: var(--sg-text-color, var(--theme-code-foreground, var(--jp-content-font-color1, black)));\n",
       "  --sklearn-color-background: var(--sg-background-color, var(--theme-background, var(--jp-layout-color0, white)));\n",
       "  --sklearn-color-border-box: var(--sg-text-color, var(--theme-code-foreground, var(--jp-content-font-color1, black)));\n",
       "  --sklearn-color-icon: #696969;\n",
       "\n",
       "  @media (prefers-color-scheme: dark) {\n",
       "    /* Redefinition of color scheme for dark theme */\n",
       "    --sklearn-color-text-on-default-background: var(--sg-text-color, var(--theme-code-foreground, var(--jp-content-font-color1, white)));\n",
       "    --sklearn-color-background: var(--sg-background-color, var(--theme-background, var(--jp-layout-color0, #111)));\n",
       "    --sklearn-color-border-box: var(--sg-text-color, var(--theme-code-foreground, var(--jp-content-font-color1, white)));\n",
       "    --sklearn-color-icon: #878787;\n",
       "  }\n",
       "}\n",
       "\n",
       "#sk-container-id-1 {\n",
       "  color: var(--sklearn-color-text);\n",
       "}\n",
       "\n",
       "#sk-container-id-1 pre {\n",
       "  padding: 0;\n",
       "}\n",
       "\n",
       "#sk-container-id-1 input.sk-hidden--visually {\n",
       "  border: 0;\n",
       "  clip: rect(1px 1px 1px 1px);\n",
       "  clip: rect(1px, 1px, 1px, 1px);\n",
       "  height: 1px;\n",
       "  margin: -1px;\n",
       "  overflow: hidden;\n",
       "  padding: 0;\n",
       "  position: absolute;\n",
       "  width: 1px;\n",
       "}\n",
       "\n",
       "#sk-container-id-1 div.sk-dashed-wrapped {\n",
       "  border: 1px dashed var(--sklearn-color-line);\n",
       "  margin: 0 0.4em 0.5em 0.4em;\n",
       "  box-sizing: border-box;\n",
       "  padding-bottom: 0.4em;\n",
       "  background-color: var(--sklearn-color-background);\n",
       "}\n",
       "\n",
       "#sk-container-id-1 div.sk-container {\n",
       "  /* jupyter's `normalize.less` sets `[hidden] { display: none; }`\n",
       "     but bootstrap.min.css set `[hidden] { display: none !important; }`\n",
       "     so we also need the `!important` here to be able to override the\n",
       "     default hidden behavior on the sphinx rendered scikit-learn.org.\n",
       "     See: https://github.com/scikit-learn/scikit-learn/issues/21755 */\n",
       "  display: inline-block !important;\n",
       "  position: relative;\n",
       "}\n",
       "\n",
       "#sk-container-id-1 div.sk-text-repr-fallback {\n",
       "  display: none;\n",
       "}\n",
       "\n",
       "div.sk-parallel-item,\n",
       "div.sk-serial,\n",
       "div.sk-item {\n",
       "  /* draw centered vertical line to link estimators */\n",
       "  background-image: linear-gradient(var(--sklearn-color-text-on-default-background), var(--sklearn-color-text-on-default-background));\n",
       "  background-size: 2px 100%;\n",
       "  background-repeat: no-repeat;\n",
       "  background-position: center center;\n",
       "}\n",
       "\n",
       "/* Parallel-specific style estimator block */\n",
       "\n",
       "#sk-container-id-1 div.sk-parallel-item::after {\n",
       "  content: \"\";\n",
       "  width: 100%;\n",
       "  border-bottom: 2px solid var(--sklearn-color-text-on-default-background);\n",
       "  flex-grow: 1;\n",
       "}\n",
       "\n",
       "#sk-container-id-1 div.sk-parallel {\n",
       "  display: flex;\n",
       "  align-items: stretch;\n",
       "  justify-content: center;\n",
       "  background-color: var(--sklearn-color-background);\n",
       "  position: relative;\n",
       "}\n",
       "\n",
       "#sk-container-id-1 div.sk-parallel-item {\n",
       "  display: flex;\n",
       "  flex-direction: column;\n",
       "}\n",
       "\n",
       "#sk-container-id-1 div.sk-parallel-item:first-child::after {\n",
       "  align-self: flex-end;\n",
       "  width: 50%;\n",
       "}\n",
       "\n",
       "#sk-container-id-1 div.sk-parallel-item:last-child::after {\n",
       "  align-self: flex-start;\n",
       "  width: 50%;\n",
       "}\n",
       "\n",
       "#sk-container-id-1 div.sk-parallel-item:only-child::after {\n",
       "  width: 0;\n",
       "}\n",
       "\n",
       "/* Serial-specific style estimator block */\n",
       "\n",
       "#sk-container-id-1 div.sk-serial {\n",
       "  display: flex;\n",
       "  flex-direction: column;\n",
       "  align-items: center;\n",
       "  background-color: var(--sklearn-color-background);\n",
       "  padding-right: 1em;\n",
       "  padding-left: 1em;\n",
       "}\n",
       "\n",
       "\n",
       "/* Toggleable style: style used for estimator/Pipeline/ColumnTransformer box that is\n",
       "clickable and can be expanded/collapsed.\n",
       "- Pipeline and ColumnTransformer use this feature and define the default style\n",
       "- Estimators will overwrite some part of the style using the `sk-estimator` class\n",
       "*/\n",
       "\n",
       "/* Pipeline and ColumnTransformer style (default) */\n",
       "\n",
       "#sk-container-id-1 div.sk-toggleable {\n",
       "  /* Default theme specific background. It is overwritten whether we have a\n",
       "  specific estimator or a Pipeline/ColumnTransformer */\n",
       "  background-color: var(--sklearn-color-background);\n",
       "}\n",
       "\n",
       "/* Toggleable label */\n",
       "#sk-container-id-1 label.sk-toggleable__label {\n",
       "  cursor: pointer;\n",
       "  display: block;\n",
       "  width: 100%;\n",
       "  margin-bottom: 0;\n",
       "  padding: 0.5em;\n",
       "  box-sizing: border-box;\n",
       "  text-align: center;\n",
       "}\n",
       "\n",
       "#sk-container-id-1 label.sk-toggleable__label-arrow:before {\n",
       "  /* Arrow on the left of the label */\n",
       "  content: \"▸\";\n",
       "  float: left;\n",
       "  margin-right: 0.25em;\n",
       "  color: var(--sklearn-color-icon);\n",
       "}\n",
       "\n",
       "#sk-container-id-1 label.sk-toggleable__label-arrow:hover:before {\n",
       "  color: var(--sklearn-color-text);\n",
       "}\n",
       "\n",
       "/* Toggleable content - dropdown */\n",
       "\n",
       "#sk-container-id-1 div.sk-toggleable__content {\n",
       "  max-height: 0;\n",
       "  max-width: 0;\n",
       "  overflow: hidden;\n",
       "  text-align: left;\n",
       "  /* unfitted */\n",
       "  background-color: var(--sklearn-color-unfitted-level-0);\n",
       "}\n",
       "\n",
       "#sk-container-id-1 div.sk-toggleable__content.fitted {\n",
       "  /* fitted */\n",
       "  background-color: var(--sklearn-color-fitted-level-0);\n",
       "}\n",
       "\n",
       "#sk-container-id-1 div.sk-toggleable__content pre {\n",
       "  margin: 0.2em;\n",
       "  border-radius: 0.25em;\n",
       "  color: var(--sklearn-color-text);\n",
       "  /* unfitted */\n",
       "  background-color: var(--sklearn-color-unfitted-level-0);\n",
       "}\n",
       "\n",
       "#sk-container-id-1 div.sk-toggleable__content.fitted pre {\n",
       "  /* unfitted */\n",
       "  background-color: var(--sklearn-color-fitted-level-0);\n",
       "}\n",
       "\n",
       "#sk-container-id-1 input.sk-toggleable__control:checked~div.sk-toggleable__content {\n",
       "  /* Expand drop-down */\n",
       "  max-height: 200px;\n",
       "  max-width: 100%;\n",
       "  overflow: auto;\n",
       "}\n",
       "\n",
       "#sk-container-id-1 input.sk-toggleable__control:checked~label.sk-toggleable__label-arrow:before {\n",
       "  content: \"▾\";\n",
       "}\n",
       "\n",
       "/* Pipeline/ColumnTransformer-specific style */\n",
       "\n",
       "#sk-container-id-1 div.sk-label input.sk-toggleable__control:checked~label.sk-toggleable__label {\n",
       "  color: var(--sklearn-color-text);\n",
       "  background-color: var(--sklearn-color-unfitted-level-2);\n",
       "}\n",
       "\n",
       "#sk-container-id-1 div.sk-label.fitted input.sk-toggleable__control:checked~label.sk-toggleable__label {\n",
       "  background-color: var(--sklearn-color-fitted-level-2);\n",
       "}\n",
       "\n",
       "/* Estimator-specific style */\n",
       "\n",
       "/* Colorize estimator box */\n",
       "#sk-container-id-1 div.sk-estimator input.sk-toggleable__control:checked~label.sk-toggleable__label {\n",
       "  /* unfitted */\n",
       "  background-color: var(--sklearn-color-unfitted-level-2);\n",
       "}\n",
       "\n",
       "#sk-container-id-1 div.sk-estimator.fitted input.sk-toggleable__control:checked~label.sk-toggleable__label {\n",
       "  /* fitted */\n",
       "  background-color: var(--sklearn-color-fitted-level-2);\n",
       "}\n",
       "\n",
       "#sk-container-id-1 div.sk-label label.sk-toggleable__label,\n",
       "#sk-container-id-1 div.sk-label label {\n",
       "  /* The background is the default theme color */\n",
       "  color: var(--sklearn-color-text-on-default-background);\n",
       "}\n",
       "\n",
       "/* On hover, darken the color of the background */\n",
       "#sk-container-id-1 div.sk-label:hover label.sk-toggleable__label {\n",
       "  color: var(--sklearn-color-text);\n",
       "  background-color: var(--sklearn-color-unfitted-level-2);\n",
       "}\n",
       "\n",
       "/* Label box, darken color on hover, fitted */\n",
       "#sk-container-id-1 div.sk-label.fitted:hover label.sk-toggleable__label.fitted {\n",
       "  color: var(--sklearn-color-text);\n",
       "  background-color: var(--sklearn-color-fitted-level-2);\n",
       "}\n",
       "\n",
       "/* Estimator label */\n",
       "\n",
       "#sk-container-id-1 div.sk-label label {\n",
       "  font-family: monospace;\n",
       "  font-weight: bold;\n",
       "  display: inline-block;\n",
       "  line-height: 1.2em;\n",
       "}\n",
       "\n",
       "#sk-container-id-1 div.sk-label-container {\n",
       "  text-align: center;\n",
       "}\n",
       "\n",
       "/* Estimator-specific */\n",
       "#sk-container-id-1 div.sk-estimator {\n",
       "  font-family: monospace;\n",
       "  border: 1px dotted var(--sklearn-color-border-box);\n",
       "  border-radius: 0.25em;\n",
       "  box-sizing: border-box;\n",
       "  margin-bottom: 0.5em;\n",
       "  /* unfitted */\n",
       "  background-color: var(--sklearn-color-unfitted-level-0);\n",
       "}\n",
       "\n",
       "#sk-container-id-1 div.sk-estimator.fitted {\n",
       "  /* fitted */\n",
       "  background-color: var(--sklearn-color-fitted-level-0);\n",
       "}\n",
       "\n",
       "/* on hover */\n",
       "#sk-container-id-1 div.sk-estimator:hover {\n",
       "  /* unfitted */\n",
       "  background-color: var(--sklearn-color-unfitted-level-2);\n",
       "}\n",
       "\n",
       "#sk-container-id-1 div.sk-estimator.fitted:hover {\n",
       "  /* fitted */\n",
       "  background-color: var(--sklearn-color-fitted-level-2);\n",
       "}\n",
       "\n",
       "/* Specification for estimator info (e.g. \"i\" and \"?\") */\n",
       "\n",
       "/* Common style for \"i\" and \"?\" */\n",
       "\n",
       ".sk-estimator-doc-link,\n",
       "a:link.sk-estimator-doc-link,\n",
       "a:visited.sk-estimator-doc-link {\n",
       "  float: right;\n",
       "  font-size: smaller;\n",
       "  line-height: 1em;\n",
       "  font-family: monospace;\n",
       "  background-color: var(--sklearn-color-background);\n",
       "  border-radius: 1em;\n",
       "  height: 1em;\n",
       "  width: 1em;\n",
       "  text-decoration: none !important;\n",
       "  margin-left: 1ex;\n",
       "  /* unfitted */\n",
       "  border: var(--sklearn-color-unfitted-level-1) 1pt solid;\n",
       "  color: var(--sklearn-color-unfitted-level-1);\n",
       "}\n",
       "\n",
       ".sk-estimator-doc-link.fitted,\n",
       "a:link.sk-estimator-doc-link.fitted,\n",
       "a:visited.sk-estimator-doc-link.fitted {\n",
       "  /* fitted */\n",
       "  border: var(--sklearn-color-fitted-level-1) 1pt solid;\n",
       "  color: var(--sklearn-color-fitted-level-1);\n",
       "}\n",
       "\n",
       "/* On hover */\n",
       "div.sk-estimator:hover .sk-estimator-doc-link:hover,\n",
       ".sk-estimator-doc-link:hover,\n",
       "div.sk-label-container:hover .sk-estimator-doc-link:hover,\n",
       ".sk-estimator-doc-link:hover {\n",
       "  /* unfitted */\n",
       "  background-color: var(--sklearn-color-unfitted-level-3);\n",
       "  color: var(--sklearn-color-background);\n",
       "  text-decoration: none;\n",
       "}\n",
       "\n",
       "div.sk-estimator.fitted:hover .sk-estimator-doc-link.fitted:hover,\n",
       ".sk-estimator-doc-link.fitted:hover,\n",
       "div.sk-label-container:hover .sk-estimator-doc-link.fitted:hover,\n",
       ".sk-estimator-doc-link.fitted:hover {\n",
       "  /* fitted */\n",
       "  background-color: var(--sklearn-color-fitted-level-3);\n",
       "  color: var(--sklearn-color-background);\n",
       "  text-decoration: none;\n",
       "}\n",
       "\n",
       "/* Span, style for the box shown on hovering the info icon */\n",
       ".sk-estimator-doc-link span {\n",
       "  display: none;\n",
       "  z-index: 9999;\n",
       "  position: relative;\n",
       "  font-weight: normal;\n",
       "  right: .2ex;\n",
       "  padding: .5ex;\n",
       "  margin: .5ex;\n",
       "  width: min-content;\n",
       "  min-width: 20ex;\n",
       "  max-width: 50ex;\n",
       "  color: var(--sklearn-color-text);\n",
       "  box-shadow: 2pt 2pt 4pt #999;\n",
       "  /* unfitted */\n",
       "  background: var(--sklearn-color-unfitted-level-0);\n",
       "  border: .5pt solid var(--sklearn-color-unfitted-level-3);\n",
       "}\n",
       "\n",
       ".sk-estimator-doc-link.fitted span {\n",
       "  /* fitted */\n",
       "  background: var(--sklearn-color-fitted-level-0);\n",
       "  border: var(--sklearn-color-fitted-level-3);\n",
       "}\n",
       "\n",
       ".sk-estimator-doc-link:hover span {\n",
       "  display: block;\n",
       "}\n",
       "\n",
       "/* \"?\"-specific style due to the `<a>` HTML tag */\n",
       "\n",
       "#sk-container-id-1 a.estimator_doc_link {\n",
       "  float: right;\n",
       "  font-size: 1rem;\n",
       "  line-height: 1em;\n",
       "  font-family: monospace;\n",
       "  background-color: var(--sklearn-color-background);\n",
       "  border-radius: 1rem;\n",
       "  height: 1rem;\n",
       "  width: 1rem;\n",
       "  text-decoration: none;\n",
       "  /* unfitted */\n",
       "  color: var(--sklearn-color-unfitted-level-1);\n",
       "  border: var(--sklearn-color-unfitted-level-1) 1pt solid;\n",
       "}\n",
       "\n",
       "#sk-container-id-1 a.estimator_doc_link.fitted {\n",
       "  /* fitted */\n",
       "  border: var(--sklearn-color-fitted-level-1) 1pt solid;\n",
       "  color: var(--sklearn-color-fitted-level-1);\n",
       "}\n",
       "\n",
       "/* On hover */\n",
       "#sk-container-id-1 a.estimator_doc_link:hover {\n",
       "  /* unfitted */\n",
       "  background-color: var(--sklearn-color-unfitted-level-3);\n",
       "  color: var(--sklearn-color-background);\n",
       "  text-decoration: none;\n",
       "}\n",
       "\n",
       "#sk-container-id-1 a.estimator_doc_link.fitted:hover {\n",
       "  /* fitted */\n",
       "  background-color: var(--sklearn-color-fitted-level-3);\n",
       "}\n",
       "</style><div id=\"sk-container-id-1\" class=\"sk-top-container\"><div class=\"sk-text-repr-fallback\"><pre>LinearRegression()</pre><b>In a Jupyter environment, please rerun this cell to show the HTML representation or trust the notebook. <br />On GitHub, the HTML representation is unable to render, please try loading this page with nbviewer.org.</b></div><div class=\"sk-container\" hidden><div class=\"sk-item\"><div class=\"sk-estimator fitted sk-toggleable\"><input class=\"sk-toggleable__control sk-hidden--visually\" id=\"sk-estimator-id-1\" type=\"checkbox\" checked><label for=\"sk-estimator-id-1\" class=\"sk-toggleable__label fitted sk-toggleable__label-arrow fitted\">&nbsp;&nbsp;LinearRegression<a class=\"sk-estimator-doc-link fitted\" rel=\"noreferrer\" target=\"_blank\" href=\"https://scikit-learn.org/1.5/modules/generated/sklearn.linear_model.LinearRegression.html\">?<span>Documentation for LinearRegression</span></a><span class=\"sk-estimator-doc-link fitted\">i<span>Fitted</span></span></label><div class=\"sk-toggleable__content fitted\"><pre>LinearRegression()</pre></div> </div></div></div></div>"
      ],
      "text/plain": [
       "LinearRegression()"
      ]
     },
     "execution_count": 122,
     "metadata": {},
     "output_type": "execute_result"
    }
   ],
   "source": [
    "Linear_model.fit(x_train, y_train)"
   ]
  },
  {
   "cell_type": "code",
   "execution_count": 123,
   "id": "d16695e7-5f04-43d5-b130-fae566a4d29a",
   "metadata": {},
   "outputs": [
    {
     "name": "stdout",
     "output_type": "stream",
     "text": [
      "0.31635115999207786\n",
      "0.30743950922071395\n"
     ]
    }
   ],
   "source": [
    "print(Linear_model.score(x_train, y_train))\n",
    "print(Linear_model.score(x_test, y_test))\n",
    "# print(Linear_model.predict(x_test, y_test))"
   ]
  },
  {
   "cell_type": "code",
   "execution_count": 124,
   "id": "6cec2f05-3ade-490a-8697-94740230c81d",
   "metadata": {},
   "outputs": [
    {
     "data": {
      "text/html": [
       "<style>#sk-container-id-2 {\n",
       "  /* Definition of color scheme common for light and dark mode */\n",
       "  --sklearn-color-text: black;\n",
       "  --sklearn-color-line: gray;\n",
       "  /* Definition of color scheme for unfitted estimators */\n",
       "  --sklearn-color-unfitted-level-0: #fff5e6;\n",
       "  --sklearn-color-unfitted-level-1: #f6e4d2;\n",
       "  --sklearn-color-unfitted-level-2: #ffe0b3;\n",
       "  --sklearn-color-unfitted-level-3: chocolate;\n",
       "  /* Definition of color scheme for fitted estimators */\n",
       "  --sklearn-color-fitted-level-0: #f0f8ff;\n",
       "  --sklearn-color-fitted-level-1: #d4ebff;\n",
       "  --sklearn-color-fitted-level-2: #b3dbfd;\n",
       "  --sklearn-color-fitted-level-3: cornflowerblue;\n",
       "\n",
       "  /* Specific color for light theme */\n",
       "  --sklearn-color-text-on-default-background: var(--sg-text-color, var(--theme-code-foreground, var(--jp-content-font-color1, black)));\n",
       "  --sklearn-color-background: var(--sg-background-color, var(--theme-background, var(--jp-layout-color0, white)));\n",
       "  --sklearn-color-border-box: var(--sg-text-color, var(--theme-code-foreground, var(--jp-content-font-color1, black)));\n",
       "  --sklearn-color-icon: #696969;\n",
       "\n",
       "  @media (prefers-color-scheme: dark) {\n",
       "    /* Redefinition of color scheme for dark theme */\n",
       "    --sklearn-color-text-on-default-background: var(--sg-text-color, var(--theme-code-foreground, var(--jp-content-font-color1, white)));\n",
       "    --sklearn-color-background: var(--sg-background-color, var(--theme-background, var(--jp-layout-color0, #111)));\n",
       "    --sklearn-color-border-box: var(--sg-text-color, var(--theme-code-foreground, var(--jp-content-font-color1, white)));\n",
       "    --sklearn-color-icon: #878787;\n",
       "  }\n",
       "}\n",
       "\n",
       "#sk-container-id-2 {\n",
       "  color: var(--sklearn-color-text);\n",
       "}\n",
       "\n",
       "#sk-container-id-2 pre {\n",
       "  padding: 0;\n",
       "}\n",
       "\n",
       "#sk-container-id-2 input.sk-hidden--visually {\n",
       "  border: 0;\n",
       "  clip: rect(1px 1px 1px 1px);\n",
       "  clip: rect(1px, 1px, 1px, 1px);\n",
       "  height: 1px;\n",
       "  margin: -1px;\n",
       "  overflow: hidden;\n",
       "  padding: 0;\n",
       "  position: absolute;\n",
       "  width: 1px;\n",
       "}\n",
       "\n",
       "#sk-container-id-2 div.sk-dashed-wrapped {\n",
       "  border: 1px dashed var(--sklearn-color-line);\n",
       "  margin: 0 0.4em 0.5em 0.4em;\n",
       "  box-sizing: border-box;\n",
       "  padding-bottom: 0.4em;\n",
       "  background-color: var(--sklearn-color-background);\n",
       "}\n",
       "\n",
       "#sk-container-id-2 div.sk-container {\n",
       "  /* jupyter's `normalize.less` sets `[hidden] { display: none; }`\n",
       "     but bootstrap.min.css set `[hidden] { display: none !important; }`\n",
       "     so we also need the `!important` here to be able to override the\n",
       "     default hidden behavior on the sphinx rendered scikit-learn.org.\n",
       "     See: https://github.com/scikit-learn/scikit-learn/issues/21755 */\n",
       "  display: inline-block !important;\n",
       "  position: relative;\n",
       "}\n",
       "\n",
       "#sk-container-id-2 div.sk-text-repr-fallback {\n",
       "  display: none;\n",
       "}\n",
       "\n",
       "div.sk-parallel-item,\n",
       "div.sk-serial,\n",
       "div.sk-item {\n",
       "  /* draw centered vertical line to link estimators */\n",
       "  background-image: linear-gradient(var(--sklearn-color-text-on-default-background), var(--sklearn-color-text-on-default-background));\n",
       "  background-size: 2px 100%;\n",
       "  background-repeat: no-repeat;\n",
       "  background-position: center center;\n",
       "}\n",
       "\n",
       "/* Parallel-specific style estimator block */\n",
       "\n",
       "#sk-container-id-2 div.sk-parallel-item::after {\n",
       "  content: \"\";\n",
       "  width: 100%;\n",
       "  border-bottom: 2px solid var(--sklearn-color-text-on-default-background);\n",
       "  flex-grow: 1;\n",
       "}\n",
       "\n",
       "#sk-container-id-2 div.sk-parallel {\n",
       "  display: flex;\n",
       "  align-items: stretch;\n",
       "  justify-content: center;\n",
       "  background-color: var(--sklearn-color-background);\n",
       "  position: relative;\n",
       "}\n",
       "\n",
       "#sk-container-id-2 div.sk-parallel-item {\n",
       "  display: flex;\n",
       "  flex-direction: column;\n",
       "}\n",
       "\n",
       "#sk-container-id-2 div.sk-parallel-item:first-child::after {\n",
       "  align-self: flex-end;\n",
       "  width: 50%;\n",
       "}\n",
       "\n",
       "#sk-container-id-2 div.sk-parallel-item:last-child::after {\n",
       "  align-self: flex-start;\n",
       "  width: 50%;\n",
       "}\n",
       "\n",
       "#sk-container-id-2 div.sk-parallel-item:only-child::after {\n",
       "  width: 0;\n",
       "}\n",
       "\n",
       "/* Serial-specific style estimator block */\n",
       "\n",
       "#sk-container-id-2 div.sk-serial {\n",
       "  display: flex;\n",
       "  flex-direction: column;\n",
       "  align-items: center;\n",
       "  background-color: var(--sklearn-color-background);\n",
       "  padding-right: 1em;\n",
       "  padding-left: 1em;\n",
       "}\n",
       "\n",
       "\n",
       "/* Toggleable style: style used for estimator/Pipeline/ColumnTransformer box that is\n",
       "clickable and can be expanded/collapsed.\n",
       "- Pipeline and ColumnTransformer use this feature and define the default style\n",
       "- Estimators will overwrite some part of the style using the `sk-estimator` class\n",
       "*/\n",
       "\n",
       "/* Pipeline and ColumnTransformer style (default) */\n",
       "\n",
       "#sk-container-id-2 div.sk-toggleable {\n",
       "  /* Default theme specific background. It is overwritten whether we have a\n",
       "  specific estimator or a Pipeline/ColumnTransformer */\n",
       "  background-color: var(--sklearn-color-background);\n",
       "}\n",
       "\n",
       "/* Toggleable label */\n",
       "#sk-container-id-2 label.sk-toggleable__label {\n",
       "  cursor: pointer;\n",
       "  display: block;\n",
       "  width: 100%;\n",
       "  margin-bottom: 0;\n",
       "  padding: 0.5em;\n",
       "  box-sizing: border-box;\n",
       "  text-align: center;\n",
       "}\n",
       "\n",
       "#sk-container-id-2 label.sk-toggleable__label-arrow:before {\n",
       "  /* Arrow on the left of the label */\n",
       "  content: \"▸\";\n",
       "  float: left;\n",
       "  margin-right: 0.25em;\n",
       "  color: var(--sklearn-color-icon);\n",
       "}\n",
       "\n",
       "#sk-container-id-2 label.sk-toggleable__label-arrow:hover:before {\n",
       "  color: var(--sklearn-color-text);\n",
       "}\n",
       "\n",
       "/* Toggleable content - dropdown */\n",
       "\n",
       "#sk-container-id-2 div.sk-toggleable__content {\n",
       "  max-height: 0;\n",
       "  max-width: 0;\n",
       "  overflow: hidden;\n",
       "  text-align: left;\n",
       "  /* unfitted */\n",
       "  background-color: var(--sklearn-color-unfitted-level-0);\n",
       "}\n",
       "\n",
       "#sk-container-id-2 div.sk-toggleable__content.fitted {\n",
       "  /* fitted */\n",
       "  background-color: var(--sklearn-color-fitted-level-0);\n",
       "}\n",
       "\n",
       "#sk-container-id-2 div.sk-toggleable__content pre {\n",
       "  margin: 0.2em;\n",
       "  border-radius: 0.25em;\n",
       "  color: var(--sklearn-color-text);\n",
       "  /* unfitted */\n",
       "  background-color: var(--sklearn-color-unfitted-level-0);\n",
       "}\n",
       "\n",
       "#sk-container-id-2 div.sk-toggleable__content.fitted pre {\n",
       "  /* unfitted */\n",
       "  background-color: var(--sklearn-color-fitted-level-0);\n",
       "}\n",
       "\n",
       "#sk-container-id-2 input.sk-toggleable__control:checked~div.sk-toggleable__content {\n",
       "  /* Expand drop-down */\n",
       "  max-height: 200px;\n",
       "  max-width: 100%;\n",
       "  overflow: auto;\n",
       "}\n",
       "\n",
       "#sk-container-id-2 input.sk-toggleable__control:checked~label.sk-toggleable__label-arrow:before {\n",
       "  content: \"▾\";\n",
       "}\n",
       "\n",
       "/* Pipeline/ColumnTransformer-specific style */\n",
       "\n",
       "#sk-container-id-2 div.sk-label input.sk-toggleable__control:checked~label.sk-toggleable__label {\n",
       "  color: var(--sklearn-color-text);\n",
       "  background-color: var(--sklearn-color-unfitted-level-2);\n",
       "}\n",
       "\n",
       "#sk-container-id-2 div.sk-label.fitted input.sk-toggleable__control:checked~label.sk-toggleable__label {\n",
       "  background-color: var(--sklearn-color-fitted-level-2);\n",
       "}\n",
       "\n",
       "/* Estimator-specific style */\n",
       "\n",
       "/* Colorize estimator box */\n",
       "#sk-container-id-2 div.sk-estimator input.sk-toggleable__control:checked~label.sk-toggleable__label {\n",
       "  /* unfitted */\n",
       "  background-color: var(--sklearn-color-unfitted-level-2);\n",
       "}\n",
       "\n",
       "#sk-container-id-2 div.sk-estimator.fitted input.sk-toggleable__control:checked~label.sk-toggleable__label {\n",
       "  /* fitted */\n",
       "  background-color: var(--sklearn-color-fitted-level-2);\n",
       "}\n",
       "\n",
       "#sk-container-id-2 div.sk-label label.sk-toggleable__label,\n",
       "#sk-container-id-2 div.sk-label label {\n",
       "  /* The background is the default theme color */\n",
       "  color: var(--sklearn-color-text-on-default-background);\n",
       "}\n",
       "\n",
       "/* On hover, darken the color of the background */\n",
       "#sk-container-id-2 div.sk-label:hover label.sk-toggleable__label {\n",
       "  color: var(--sklearn-color-text);\n",
       "  background-color: var(--sklearn-color-unfitted-level-2);\n",
       "}\n",
       "\n",
       "/* Label box, darken color on hover, fitted */\n",
       "#sk-container-id-2 div.sk-label.fitted:hover label.sk-toggleable__label.fitted {\n",
       "  color: var(--sklearn-color-text);\n",
       "  background-color: var(--sklearn-color-fitted-level-2);\n",
       "}\n",
       "\n",
       "/* Estimator label */\n",
       "\n",
       "#sk-container-id-2 div.sk-label label {\n",
       "  font-family: monospace;\n",
       "  font-weight: bold;\n",
       "  display: inline-block;\n",
       "  line-height: 1.2em;\n",
       "}\n",
       "\n",
       "#sk-container-id-2 div.sk-label-container {\n",
       "  text-align: center;\n",
       "}\n",
       "\n",
       "/* Estimator-specific */\n",
       "#sk-container-id-2 div.sk-estimator {\n",
       "  font-family: monospace;\n",
       "  border: 1px dotted var(--sklearn-color-border-box);\n",
       "  border-radius: 0.25em;\n",
       "  box-sizing: border-box;\n",
       "  margin-bottom: 0.5em;\n",
       "  /* unfitted */\n",
       "  background-color: var(--sklearn-color-unfitted-level-0);\n",
       "}\n",
       "\n",
       "#sk-container-id-2 div.sk-estimator.fitted {\n",
       "  /* fitted */\n",
       "  background-color: var(--sklearn-color-fitted-level-0);\n",
       "}\n",
       "\n",
       "/* on hover */\n",
       "#sk-container-id-2 div.sk-estimator:hover {\n",
       "  /* unfitted */\n",
       "  background-color: var(--sklearn-color-unfitted-level-2);\n",
       "}\n",
       "\n",
       "#sk-container-id-2 div.sk-estimator.fitted:hover {\n",
       "  /* fitted */\n",
       "  background-color: var(--sklearn-color-fitted-level-2);\n",
       "}\n",
       "\n",
       "/* Specification for estimator info (e.g. \"i\" and \"?\") */\n",
       "\n",
       "/* Common style for \"i\" and \"?\" */\n",
       "\n",
       ".sk-estimator-doc-link,\n",
       "a:link.sk-estimator-doc-link,\n",
       "a:visited.sk-estimator-doc-link {\n",
       "  float: right;\n",
       "  font-size: smaller;\n",
       "  line-height: 1em;\n",
       "  font-family: monospace;\n",
       "  background-color: var(--sklearn-color-background);\n",
       "  border-radius: 1em;\n",
       "  height: 1em;\n",
       "  width: 1em;\n",
       "  text-decoration: none !important;\n",
       "  margin-left: 1ex;\n",
       "  /* unfitted */\n",
       "  border: var(--sklearn-color-unfitted-level-1) 1pt solid;\n",
       "  color: var(--sklearn-color-unfitted-level-1);\n",
       "}\n",
       "\n",
       ".sk-estimator-doc-link.fitted,\n",
       "a:link.sk-estimator-doc-link.fitted,\n",
       "a:visited.sk-estimator-doc-link.fitted {\n",
       "  /* fitted */\n",
       "  border: var(--sklearn-color-fitted-level-1) 1pt solid;\n",
       "  color: var(--sklearn-color-fitted-level-1);\n",
       "}\n",
       "\n",
       "/* On hover */\n",
       "div.sk-estimator:hover .sk-estimator-doc-link:hover,\n",
       ".sk-estimator-doc-link:hover,\n",
       "div.sk-label-container:hover .sk-estimator-doc-link:hover,\n",
       ".sk-estimator-doc-link:hover {\n",
       "  /* unfitted */\n",
       "  background-color: var(--sklearn-color-unfitted-level-3);\n",
       "  color: var(--sklearn-color-background);\n",
       "  text-decoration: none;\n",
       "}\n",
       "\n",
       "div.sk-estimator.fitted:hover .sk-estimator-doc-link.fitted:hover,\n",
       ".sk-estimator-doc-link.fitted:hover,\n",
       "div.sk-label-container:hover .sk-estimator-doc-link.fitted:hover,\n",
       ".sk-estimator-doc-link.fitted:hover {\n",
       "  /* fitted */\n",
       "  background-color: var(--sklearn-color-fitted-level-3);\n",
       "  color: var(--sklearn-color-background);\n",
       "  text-decoration: none;\n",
       "}\n",
       "\n",
       "/* Span, style for the box shown on hovering the info icon */\n",
       ".sk-estimator-doc-link span {\n",
       "  display: none;\n",
       "  z-index: 9999;\n",
       "  position: relative;\n",
       "  font-weight: normal;\n",
       "  right: .2ex;\n",
       "  padding: .5ex;\n",
       "  margin: .5ex;\n",
       "  width: min-content;\n",
       "  min-width: 20ex;\n",
       "  max-width: 50ex;\n",
       "  color: var(--sklearn-color-text);\n",
       "  box-shadow: 2pt 2pt 4pt #999;\n",
       "  /* unfitted */\n",
       "  background: var(--sklearn-color-unfitted-level-0);\n",
       "  border: .5pt solid var(--sklearn-color-unfitted-level-3);\n",
       "}\n",
       "\n",
       ".sk-estimator-doc-link.fitted span {\n",
       "  /* fitted */\n",
       "  background: var(--sklearn-color-fitted-level-0);\n",
       "  border: var(--sklearn-color-fitted-level-3);\n",
       "}\n",
       "\n",
       ".sk-estimator-doc-link:hover span {\n",
       "  display: block;\n",
       "}\n",
       "\n",
       "/* \"?\"-specific style due to the `<a>` HTML tag */\n",
       "\n",
       "#sk-container-id-2 a.estimator_doc_link {\n",
       "  float: right;\n",
       "  font-size: 1rem;\n",
       "  line-height: 1em;\n",
       "  font-family: monospace;\n",
       "  background-color: var(--sklearn-color-background);\n",
       "  border-radius: 1rem;\n",
       "  height: 1rem;\n",
       "  width: 1rem;\n",
       "  text-decoration: none;\n",
       "  /* unfitted */\n",
       "  color: var(--sklearn-color-unfitted-level-1);\n",
       "  border: var(--sklearn-color-unfitted-level-1) 1pt solid;\n",
       "}\n",
       "\n",
       "#sk-container-id-2 a.estimator_doc_link.fitted {\n",
       "  /* fitted */\n",
       "  border: var(--sklearn-color-fitted-level-1) 1pt solid;\n",
       "  color: var(--sklearn-color-fitted-level-1);\n",
       "}\n",
       "\n",
       "/* On hover */\n",
       "#sk-container-id-2 a.estimator_doc_link:hover {\n",
       "  /* unfitted */\n",
       "  background-color: var(--sklearn-color-unfitted-level-3);\n",
       "  color: var(--sklearn-color-background);\n",
       "  text-decoration: none;\n",
       "}\n",
       "\n",
       "#sk-container-id-2 a.estimator_doc_link.fitted:hover {\n",
       "  /* fitted */\n",
       "  background-color: var(--sklearn-color-fitted-level-3);\n",
       "}\n",
       "</style><div id=\"sk-container-id-2\" class=\"sk-top-container\"><div class=\"sk-text-repr-fallback\"><pre>LogisticRegression()</pre><b>In a Jupyter environment, please rerun this cell to show the HTML representation or trust the notebook. <br />On GitHub, the HTML representation is unable to render, please try loading this page with nbviewer.org.</b></div><div class=\"sk-container\" hidden><div class=\"sk-item\"><div class=\"sk-estimator fitted sk-toggleable\"><input class=\"sk-toggleable__control sk-hidden--visually\" id=\"sk-estimator-id-2\" type=\"checkbox\" checked><label for=\"sk-estimator-id-2\" class=\"sk-toggleable__label fitted sk-toggleable__label-arrow fitted\">&nbsp;&nbsp;LogisticRegression<a class=\"sk-estimator-doc-link fitted\" rel=\"noreferrer\" target=\"_blank\" href=\"https://scikit-learn.org/1.5/modules/generated/sklearn.linear_model.LogisticRegression.html\">?<span>Documentation for LogisticRegression</span></a><span class=\"sk-estimator-doc-link fitted\">i<span>Fitted</span></span></label><div class=\"sk-toggleable__content fitted\"><pre>LogisticRegression()</pre></div> </div></div></div></div>"
      ],
      "text/plain": [
       "LogisticRegression()"
      ]
     },
     "execution_count": 124,
     "metadata": {},
     "output_type": "execute_result"
    }
   ],
   "source": [
    "Log_model.fit(x_train, y_train)"
   ]
  },
  {
   "cell_type": "code",
   "execution_count": 162,
   "id": "102d7182-90aa-4799-b04c-f3bb6021e86a",
   "metadata": {},
   "outputs": [
    {
     "name": "stdout",
     "output_type": "stream",
     "text": [
      "0.7263264218175697\n",
      "0.7251711367972169\n"
     ]
    }
   ],
   "source": [
    "print(Log_model.score(x_train, y_train))\n",
    "print(Log_model.score(x_test, y_test))\n",
    "\n",
    "# Decision_model = DecisionTreeClassifier(criterion=\"gini\", max_depth=100, min_samples_split=1000, min_samples_leaf=1, random_state=100)"
   ]
  },
  {
   "cell_type": "code",
   "execution_count": 163,
   "id": "0129af88-1560-4191-8ab6-1a5d0d9083ff",
   "metadata": {},
   "outputs": [],
   "source": [
    "Decision_model = DecisionTreeClassifier(criterion=\"gini\", max_depth=100, min_samples_split=1000, min_samples_leaf=1, random_state=100)"
   ]
  },
  {
   "cell_type": "code",
   "execution_count": 164,
   "id": "2c1cfbc0-b4ca-469e-82b1-dd4f1a7dfa13",
   "metadata": {},
   "outputs": [
    {
     "data": {
      "text/html": [
       "<style>#sk-container-id-12 {\n",
       "  /* Definition of color scheme common for light and dark mode */\n",
       "  --sklearn-color-text: black;\n",
       "  --sklearn-color-line: gray;\n",
       "  /* Definition of color scheme for unfitted estimators */\n",
       "  --sklearn-color-unfitted-level-0: #fff5e6;\n",
       "  --sklearn-color-unfitted-level-1: #f6e4d2;\n",
       "  --sklearn-color-unfitted-level-2: #ffe0b3;\n",
       "  --sklearn-color-unfitted-level-3: chocolate;\n",
       "  /* Definition of color scheme for fitted estimators */\n",
       "  --sklearn-color-fitted-level-0: #f0f8ff;\n",
       "  --sklearn-color-fitted-level-1: #d4ebff;\n",
       "  --sklearn-color-fitted-level-2: #b3dbfd;\n",
       "  --sklearn-color-fitted-level-3: cornflowerblue;\n",
       "\n",
       "  /* Specific color for light theme */\n",
       "  --sklearn-color-text-on-default-background: var(--sg-text-color, var(--theme-code-foreground, var(--jp-content-font-color1, black)));\n",
       "  --sklearn-color-background: var(--sg-background-color, var(--theme-background, var(--jp-layout-color0, white)));\n",
       "  --sklearn-color-border-box: var(--sg-text-color, var(--theme-code-foreground, var(--jp-content-font-color1, black)));\n",
       "  --sklearn-color-icon: #696969;\n",
       "\n",
       "  @media (prefers-color-scheme: dark) {\n",
       "    /* Redefinition of color scheme for dark theme */\n",
       "    --sklearn-color-text-on-default-background: var(--sg-text-color, var(--theme-code-foreground, var(--jp-content-font-color1, white)));\n",
       "    --sklearn-color-background: var(--sg-background-color, var(--theme-background, var(--jp-layout-color0, #111)));\n",
       "    --sklearn-color-border-box: var(--sg-text-color, var(--theme-code-foreground, var(--jp-content-font-color1, white)));\n",
       "    --sklearn-color-icon: #878787;\n",
       "  }\n",
       "}\n",
       "\n",
       "#sk-container-id-12 {\n",
       "  color: var(--sklearn-color-text);\n",
       "}\n",
       "\n",
       "#sk-container-id-12 pre {\n",
       "  padding: 0;\n",
       "}\n",
       "\n",
       "#sk-container-id-12 input.sk-hidden--visually {\n",
       "  border: 0;\n",
       "  clip: rect(1px 1px 1px 1px);\n",
       "  clip: rect(1px, 1px, 1px, 1px);\n",
       "  height: 1px;\n",
       "  margin: -1px;\n",
       "  overflow: hidden;\n",
       "  padding: 0;\n",
       "  position: absolute;\n",
       "  width: 1px;\n",
       "}\n",
       "\n",
       "#sk-container-id-12 div.sk-dashed-wrapped {\n",
       "  border: 1px dashed var(--sklearn-color-line);\n",
       "  margin: 0 0.4em 0.5em 0.4em;\n",
       "  box-sizing: border-box;\n",
       "  padding-bottom: 0.4em;\n",
       "  background-color: var(--sklearn-color-background);\n",
       "}\n",
       "\n",
       "#sk-container-id-12 div.sk-container {\n",
       "  /* jupyter's `normalize.less` sets `[hidden] { display: none; }`\n",
       "     but bootstrap.min.css set `[hidden] { display: none !important; }`\n",
       "     so we also need the `!important` here to be able to override the\n",
       "     default hidden behavior on the sphinx rendered scikit-learn.org.\n",
       "     See: https://github.com/scikit-learn/scikit-learn/issues/21755 */\n",
       "  display: inline-block !important;\n",
       "  position: relative;\n",
       "}\n",
       "\n",
       "#sk-container-id-12 div.sk-text-repr-fallback {\n",
       "  display: none;\n",
       "}\n",
       "\n",
       "div.sk-parallel-item,\n",
       "div.sk-serial,\n",
       "div.sk-item {\n",
       "  /* draw centered vertical line to link estimators */\n",
       "  background-image: linear-gradient(var(--sklearn-color-text-on-default-background), var(--sklearn-color-text-on-default-background));\n",
       "  background-size: 2px 100%;\n",
       "  background-repeat: no-repeat;\n",
       "  background-position: center center;\n",
       "}\n",
       "\n",
       "/* Parallel-specific style estimator block */\n",
       "\n",
       "#sk-container-id-12 div.sk-parallel-item::after {\n",
       "  content: \"\";\n",
       "  width: 100%;\n",
       "  border-bottom: 2px solid var(--sklearn-color-text-on-default-background);\n",
       "  flex-grow: 1;\n",
       "}\n",
       "\n",
       "#sk-container-id-12 div.sk-parallel {\n",
       "  display: flex;\n",
       "  align-items: stretch;\n",
       "  justify-content: center;\n",
       "  background-color: var(--sklearn-color-background);\n",
       "  position: relative;\n",
       "}\n",
       "\n",
       "#sk-container-id-12 div.sk-parallel-item {\n",
       "  display: flex;\n",
       "  flex-direction: column;\n",
       "}\n",
       "\n",
       "#sk-container-id-12 div.sk-parallel-item:first-child::after {\n",
       "  align-self: flex-end;\n",
       "  width: 50%;\n",
       "}\n",
       "\n",
       "#sk-container-id-12 div.sk-parallel-item:last-child::after {\n",
       "  align-self: flex-start;\n",
       "  width: 50%;\n",
       "}\n",
       "\n",
       "#sk-container-id-12 div.sk-parallel-item:only-child::after {\n",
       "  width: 0;\n",
       "}\n",
       "\n",
       "/* Serial-specific style estimator block */\n",
       "\n",
       "#sk-container-id-12 div.sk-serial {\n",
       "  display: flex;\n",
       "  flex-direction: column;\n",
       "  align-items: center;\n",
       "  background-color: var(--sklearn-color-background);\n",
       "  padding-right: 1em;\n",
       "  padding-left: 1em;\n",
       "}\n",
       "\n",
       "\n",
       "/* Toggleable style: style used for estimator/Pipeline/ColumnTransformer box that is\n",
       "clickable and can be expanded/collapsed.\n",
       "- Pipeline and ColumnTransformer use this feature and define the default style\n",
       "- Estimators will overwrite some part of the style using the `sk-estimator` class\n",
       "*/\n",
       "\n",
       "/* Pipeline and ColumnTransformer style (default) */\n",
       "\n",
       "#sk-container-id-12 div.sk-toggleable {\n",
       "  /* Default theme specific background. It is overwritten whether we have a\n",
       "  specific estimator or a Pipeline/ColumnTransformer */\n",
       "  background-color: var(--sklearn-color-background);\n",
       "}\n",
       "\n",
       "/* Toggleable label */\n",
       "#sk-container-id-12 label.sk-toggleable__label {\n",
       "  cursor: pointer;\n",
       "  display: block;\n",
       "  width: 100%;\n",
       "  margin-bottom: 0;\n",
       "  padding: 0.5em;\n",
       "  box-sizing: border-box;\n",
       "  text-align: center;\n",
       "}\n",
       "\n",
       "#sk-container-id-12 label.sk-toggleable__label-arrow:before {\n",
       "  /* Arrow on the left of the label */\n",
       "  content: \"▸\";\n",
       "  float: left;\n",
       "  margin-right: 0.25em;\n",
       "  color: var(--sklearn-color-icon);\n",
       "}\n",
       "\n",
       "#sk-container-id-12 label.sk-toggleable__label-arrow:hover:before {\n",
       "  color: var(--sklearn-color-text);\n",
       "}\n",
       "\n",
       "/* Toggleable content - dropdown */\n",
       "\n",
       "#sk-container-id-12 div.sk-toggleable__content {\n",
       "  max-height: 0;\n",
       "  max-width: 0;\n",
       "  overflow: hidden;\n",
       "  text-align: left;\n",
       "  /* unfitted */\n",
       "  background-color: var(--sklearn-color-unfitted-level-0);\n",
       "}\n",
       "\n",
       "#sk-container-id-12 div.sk-toggleable__content.fitted {\n",
       "  /* fitted */\n",
       "  background-color: var(--sklearn-color-fitted-level-0);\n",
       "}\n",
       "\n",
       "#sk-container-id-12 div.sk-toggleable__content pre {\n",
       "  margin: 0.2em;\n",
       "  border-radius: 0.25em;\n",
       "  color: var(--sklearn-color-text);\n",
       "  /* unfitted */\n",
       "  background-color: var(--sklearn-color-unfitted-level-0);\n",
       "}\n",
       "\n",
       "#sk-container-id-12 div.sk-toggleable__content.fitted pre {\n",
       "  /* unfitted */\n",
       "  background-color: var(--sklearn-color-fitted-level-0);\n",
       "}\n",
       "\n",
       "#sk-container-id-12 input.sk-toggleable__control:checked~div.sk-toggleable__content {\n",
       "  /* Expand drop-down */\n",
       "  max-height: 200px;\n",
       "  max-width: 100%;\n",
       "  overflow: auto;\n",
       "}\n",
       "\n",
       "#sk-container-id-12 input.sk-toggleable__control:checked~label.sk-toggleable__label-arrow:before {\n",
       "  content: \"▾\";\n",
       "}\n",
       "\n",
       "/* Pipeline/ColumnTransformer-specific style */\n",
       "\n",
       "#sk-container-id-12 div.sk-label input.sk-toggleable__control:checked~label.sk-toggleable__label {\n",
       "  color: var(--sklearn-color-text);\n",
       "  background-color: var(--sklearn-color-unfitted-level-2);\n",
       "}\n",
       "\n",
       "#sk-container-id-12 div.sk-label.fitted input.sk-toggleable__control:checked~label.sk-toggleable__label {\n",
       "  background-color: var(--sklearn-color-fitted-level-2);\n",
       "}\n",
       "\n",
       "/* Estimator-specific style */\n",
       "\n",
       "/* Colorize estimator box */\n",
       "#sk-container-id-12 div.sk-estimator input.sk-toggleable__control:checked~label.sk-toggleable__label {\n",
       "  /* unfitted */\n",
       "  background-color: var(--sklearn-color-unfitted-level-2);\n",
       "}\n",
       "\n",
       "#sk-container-id-12 div.sk-estimator.fitted input.sk-toggleable__control:checked~label.sk-toggleable__label {\n",
       "  /* fitted */\n",
       "  background-color: var(--sklearn-color-fitted-level-2);\n",
       "}\n",
       "\n",
       "#sk-container-id-12 div.sk-label label.sk-toggleable__label,\n",
       "#sk-container-id-12 div.sk-label label {\n",
       "  /* The background is the default theme color */\n",
       "  color: var(--sklearn-color-text-on-default-background);\n",
       "}\n",
       "\n",
       "/* On hover, darken the color of the background */\n",
       "#sk-container-id-12 div.sk-label:hover label.sk-toggleable__label {\n",
       "  color: var(--sklearn-color-text);\n",
       "  background-color: var(--sklearn-color-unfitted-level-2);\n",
       "}\n",
       "\n",
       "/* Label box, darken color on hover, fitted */\n",
       "#sk-container-id-12 div.sk-label.fitted:hover label.sk-toggleable__label.fitted {\n",
       "  color: var(--sklearn-color-text);\n",
       "  background-color: var(--sklearn-color-fitted-level-2);\n",
       "}\n",
       "\n",
       "/* Estimator label */\n",
       "\n",
       "#sk-container-id-12 div.sk-label label {\n",
       "  font-family: monospace;\n",
       "  font-weight: bold;\n",
       "  display: inline-block;\n",
       "  line-height: 1.2em;\n",
       "}\n",
       "\n",
       "#sk-container-id-12 div.sk-label-container {\n",
       "  text-align: center;\n",
       "}\n",
       "\n",
       "/* Estimator-specific */\n",
       "#sk-container-id-12 div.sk-estimator {\n",
       "  font-family: monospace;\n",
       "  border: 1px dotted var(--sklearn-color-border-box);\n",
       "  border-radius: 0.25em;\n",
       "  box-sizing: border-box;\n",
       "  margin-bottom: 0.5em;\n",
       "  /* unfitted */\n",
       "  background-color: var(--sklearn-color-unfitted-level-0);\n",
       "}\n",
       "\n",
       "#sk-container-id-12 div.sk-estimator.fitted {\n",
       "  /* fitted */\n",
       "  background-color: var(--sklearn-color-fitted-level-0);\n",
       "}\n",
       "\n",
       "/* on hover */\n",
       "#sk-container-id-12 div.sk-estimator:hover {\n",
       "  /* unfitted */\n",
       "  background-color: var(--sklearn-color-unfitted-level-2);\n",
       "}\n",
       "\n",
       "#sk-container-id-12 div.sk-estimator.fitted:hover {\n",
       "  /* fitted */\n",
       "  background-color: var(--sklearn-color-fitted-level-2);\n",
       "}\n",
       "\n",
       "/* Specification for estimator info (e.g. \"i\" and \"?\") */\n",
       "\n",
       "/* Common style for \"i\" and \"?\" */\n",
       "\n",
       ".sk-estimator-doc-link,\n",
       "a:link.sk-estimator-doc-link,\n",
       "a:visited.sk-estimator-doc-link {\n",
       "  float: right;\n",
       "  font-size: smaller;\n",
       "  line-height: 1em;\n",
       "  font-family: monospace;\n",
       "  background-color: var(--sklearn-color-background);\n",
       "  border-radius: 1em;\n",
       "  height: 1em;\n",
       "  width: 1em;\n",
       "  text-decoration: none !important;\n",
       "  margin-left: 1ex;\n",
       "  /* unfitted */\n",
       "  border: var(--sklearn-color-unfitted-level-1) 1pt solid;\n",
       "  color: var(--sklearn-color-unfitted-level-1);\n",
       "}\n",
       "\n",
       ".sk-estimator-doc-link.fitted,\n",
       "a:link.sk-estimator-doc-link.fitted,\n",
       "a:visited.sk-estimator-doc-link.fitted {\n",
       "  /* fitted */\n",
       "  border: var(--sklearn-color-fitted-level-1) 1pt solid;\n",
       "  color: var(--sklearn-color-fitted-level-1);\n",
       "}\n",
       "\n",
       "/* On hover */\n",
       "div.sk-estimator:hover .sk-estimator-doc-link:hover,\n",
       ".sk-estimator-doc-link:hover,\n",
       "div.sk-label-container:hover .sk-estimator-doc-link:hover,\n",
       ".sk-estimator-doc-link:hover {\n",
       "  /* unfitted */\n",
       "  background-color: var(--sklearn-color-unfitted-level-3);\n",
       "  color: var(--sklearn-color-background);\n",
       "  text-decoration: none;\n",
       "}\n",
       "\n",
       "div.sk-estimator.fitted:hover .sk-estimator-doc-link.fitted:hover,\n",
       ".sk-estimator-doc-link.fitted:hover,\n",
       "div.sk-label-container:hover .sk-estimator-doc-link.fitted:hover,\n",
       ".sk-estimator-doc-link.fitted:hover {\n",
       "  /* fitted */\n",
       "  background-color: var(--sklearn-color-fitted-level-3);\n",
       "  color: var(--sklearn-color-background);\n",
       "  text-decoration: none;\n",
       "}\n",
       "\n",
       "/* Span, style for the box shown on hovering the info icon */\n",
       ".sk-estimator-doc-link span {\n",
       "  display: none;\n",
       "  z-index: 9999;\n",
       "  position: relative;\n",
       "  font-weight: normal;\n",
       "  right: .2ex;\n",
       "  padding: .5ex;\n",
       "  margin: .5ex;\n",
       "  width: min-content;\n",
       "  min-width: 20ex;\n",
       "  max-width: 50ex;\n",
       "  color: var(--sklearn-color-text);\n",
       "  box-shadow: 2pt 2pt 4pt #999;\n",
       "  /* unfitted */\n",
       "  background: var(--sklearn-color-unfitted-level-0);\n",
       "  border: .5pt solid var(--sklearn-color-unfitted-level-3);\n",
       "}\n",
       "\n",
       ".sk-estimator-doc-link.fitted span {\n",
       "  /* fitted */\n",
       "  background: var(--sklearn-color-fitted-level-0);\n",
       "  border: var(--sklearn-color-fitted-level-3);\n",
       "}\n",
       "\n",
       ".sk-estimator-doc-link:hover span {\n",
       "  display: block;\n",
       "}\n",
       "\n",
       "/* \"?\"-specific style due to the `<a>` HTML tag */\n",
       "\n",
       "#sk-container-id-12 a.estimator_doc_link {\n",
       "  float: right;\n",
       "  font-size: 1rem;\n",
       "  line-height: 1em;\n",
       "  font-family: monospace;\n",
       "  background-color: var(--sklearn-color-background);\n",
       "  border-radius: 1rem;\n",
       "  height: 1rem;\n",
       "  width: 1rem;\n",
       "  text-decoration: none;\n",
       "  /* unfitted */\n",
       "  color: var(--sklearn-color-unfitted-level-1);\n",
       "  border: var(--sklearn-color-unfitted-level-1) 1pt solid;\n",
       "}\n",
       "\n",
       "#sk-container-id-12 a.estimator_doc_link.fitted {\n",
       "  /* fitted */\n",
       "  border: var(--sklearn-color-fitted-level-1) 1pt solid;\n",
       "  color: var(--sklearn-color-fitted-level-1);\n",
       "}\n",
       "\n",
       "/* On hover */\n",
       "#sk-container-id-12 a.estimator_doc_link:hover {\n",
       "  /* unfitted */\n",
       "  background-color: var(--sklearn-color-unfitted-level-3);\n",
       "  color: var(--sklearn-color-background);\n",
       "  text-decoration: none;\n",
       "}\n",
       "\n",
       "#sk-container-id-12 a.estimator_doc_link.fitted:hover {\n",
       "  /* fitted */\n",
       "  background-color: var(--sklearn-color-fitted-level-3);\n",
       "}\n",
       "</style><div id=\"sk-container-id-12\" class=\"sk-top-container\"><div class=\"sk-text-repr-fallback\"><pre>DecisionTreeClassifier(max_depth=100, min_samples_split=1000, random_state=100)</pre><b>In a Jupyter environment, please rerun this cell to show the HTML representation or trust the notebook. <br />On GitHub, the HTML representation is unable to render, please try loading this page with nbviewer.org.</b></div><div class=\"sk-container\" hidden><div class=\"sk-item\"><div class=\"sk-estimator fitted sk-toggleable\"><input class=\"sk-toggleable__control sk-hidden--visually\" id=\"sk-estimator-id-12\" type=\"checkbox\" checked><label for=\"sk-estimator-id-12\" class=\"sk-toggleable__label fitted sk-toggleable__label-arrow fitted\">&nbsp;&nbsp;DecisionTreeClassifier<a class=\"sk-estimator-doc-link fitted\" rel=\"noreferrer\" target=\"_blank\" href=\"https://scikit-learn.org/1.5/modules/generated/sklearn.tree.DecisionTreeClassifier.html\">?<span>Documentation for DecisionTreeClassifier</span></a><span class=\"sk-estimator-doc-link fitted\">i<span>Fitted</span></span></label><div class=\"sk-toggleable__content fitted\"><pre>DecisionTreeClassifier(max_depth=100, min_samples_split=1000, random_state=100)</pre></div> </div></div></div></div>"
      ],
      "text/plain": [
       "DecisionTreeClassifier(max_depth=100, min_samples_split=1000, random_state=100)"
      ]
     },
     "execution_count": 164,
     "metadata": {},
     "output_type": "execute_result"
    }
   ],
   "source": [
    "Decision_model.fit(x_train, y_train)"
   ]
  },
  {
   "cell_type": "code",
   "execution_count": 165,
   "id": "99dba233-b78b-4766-847a-51ac8314e314",
   "metadata": {},
   "outputs": [
    {
     "name": "stdout",
     "output_type": "stream",
     "text": [
      "Training accuracy: 0.7537667293285822\n",
      "Test accuracy: 0.7537667293285822\n"
     ]
    }
   ],
   "source": [
    "print(\"Training accuracy:\", Decision_model.score(x_train, y_train))\n",
    "print(\"Test accuracy:\", Decision_model.score(x_train, y_train))"
   ]
  },
  {
   "cell_type": "code",
   "execution_count": 166,
   "id": "5ba811ab-6121-48aa-bb22-1b48c8f3c6b3",
   "metadata": {},
   "outputs": [],
   "source": [
    "rm = RandomForestClassifier(max_depth=10, min_samples_leaf=1, min_samples_split=100, random_state=88)"
   ]
  },
  {
   "cell_type": "code",
   "execution_count": 167,
   "id": "da844762-3959-4ea7-a4dc-e4ed99a3d910",
   "metadata": {},
   "outputs": [
    {
     "data": {
      "text/html": [
       "<style>#sk-container-id-13 {\n",
       "  /* Definition of color scheme common for light and dark mode */\n",
       "  --sklearn-color-text: black;\n",
       "  --sklearn-color-line: gray;\n",
       "  /* Definition of color scheme for unfitted estimators */\n",
       "  --sklearn-color-unfitted-level-0: #fff5e6;\n",
       "  --sklearn-color-unfitted-level-1: #f6e4d2;\n",
       "  --sklearn-color-unfitted-level-2: #ffe0b3;\n",
       "  --sklearn-color-unfitted-level-3: chocolate;\n",
       "  /* Definition of color scheme for fitted estimators */\n",
       "  --sklearn-color-fitted-level-0: #f0f8ff;\n",
       "  --sklearn-color-fitted-level-1: #d4ebff;\n",
       "  --sklearn-color-fitted-level-2: #b3dbfd;\n",
       "  --sklearn-color-fitted-level-3: cornflowerblue;\n",
       "\n",
       "  /* Specific color for light theme */\n",
       "  --sklearn-color-text-on-default-background: var(--sg-text-color, var(--theme-code-foreground, var(--jp-content-font-color1, black)));\n",
       "  --sklearn-color-background: var(--sg-background-color, var(--theme-background, var(--jp-layout-color0, white)));\n",
       "  --sklearn-color-border-box: var(--sg-text-color, var(--theme-code-foreground, var(--jp-content-font-color1, black)));\n",
       "  --sklearn-color-icon: #696969;\n",
       "\n",
       "  @media (prefers-color-scheme: dark) {\n",
       "    /* Redefinition of color scheme for dark theme */\n",
       "    --sklearn-color-text-on-default-background: var(--sg-text-color, var(--theme-code-foreground, var(--jp-content-font-color1, white)));\n",
       "    --sklearn-color-background: var(--sg-background-color, var(--theme-background, var(--jp-layout-color0, #111)));\n",
       "    --sklearn-color-border-box: var(--sg-text-color, var(--theme-code-foreground, var(--jp-content-font-color1, white)));\n",
       "    --sklearn-color-icon: #878787;\n",
       "  }\n",
       "}\n",
       "\n",
       "#sk-container-id-13 {\n",
       "  color: var(--sklearn-color-text);\n",
       "}\n",
       "\n",
       "#sk-container-id-13 pre {\n",
       "  padding: 0;\n",
       "}\n",
       "\n",
       "#sk-container-id-13 input.sk-hidden--visually {\n",
       "  border: 0;\n",
       "  clip: rect(1px 1px 1px 1px);\n",
       "  clip: rect(1px, 1px, 1px, 1px);\n",
       "  height: 1px;\n",
       "  margin: -1px;\n",
       "  overflow: hidden;\n",
       "  padding: 0;\n",
       "  position: absolute;\n",
       "  width: 1px;\n",
       "}\n",
       "\n",
       "#sk-container-id-13 div.sk-dashed-wrapped {\n",
       "  border: 1px dashed var(--sklearn-color-line);\n",
       "  margin: 0 0.4em 0.5em 0.4em;\n",
       "  box-sizing: border-box;\n",
       "  padding-bottom: 0.4em;\n",
       "  background-color: var(--sklearn-color-background);\n",
       "}\n",
       "\n",
       "#sk-container-id-13 div.sk-container {\n",
       "  /* jupyter's `normalize.less` sets `[hidden] { display: none; }`\n",
       "     but bootstrap.min.css set `[hidden] { display: none !important; }`\n",
       "     so we also need the `!important` here to be able to override the\n",
       "     default hidden behavior on the sphinx rendered scikit-learn.org.\n",
       "     See: https://github.com/scikit-learn/scikit-learn/issues/21755 */\n",
       "  display: inline-block !important;\n",
       "  position: relative;\n",
       "}\n",
       "\n",
       "#sk-container-id-13 div.sk-text-repr-fallback {\n",
       "  display: none;\n",
       "}\n",
       "\n",
       "div.sk-parallel-item,\n",
       "div.sk-serial,\n",
       "div.sk-item {\n",
       "  /* draw centered vertical line to link estimators */\n",
       "  background-image: linear-gradient(var(--sklearn-color-text-on-default-background), var(--sklearn-color-text-on-default-background));\n",
       "  background-size: 2px 100%;\n",
       "  background-repeat: no-repeat;\n",
       "  background-position: center center;\n",
       "}\n",
       "\n",
       "/* Parallel-specific style estimator block */\n",
       "\n",
       "#sk-container-id-13 div.sk-parallel-item::after {\n",
       "  content: \"\";\n",
       "  width: 100%;\n",
       "  border-bottom: 2px solid var(--sklearn-color-text-on-default-background);\n",
       "  flex-grow: 1;\n",
       "}\n",
       "\n",
       "#sk-container-id-13 div.sk-parallel {\n",
       "  display: flex;\n",
       "  align-items: stretch;\n",
       "  justify-content: center;\n",
       "  background-color: var(--sklearn-color-background);\n",
       "  position: relative;\n",
       "}\n",
       "\n",
       "#sk-container-id-13 div.sk-parallel-item {\n",
       "  display: flex;\n",
       "  flex-direction: column;\n",
       "}\n",
       "\n",
       "#sk-container-id-13 div.sk-parallel-item:first-child::after {\n",
       "  align-self: flex-end;\n",
       "  width: 50%;\n",
       "}\n",
       "\n",
       "#sk-container-id-13 div.sk-parallel-item:last-child::after {\n",
       "  align-self: flex-start;\n",
       "  width: 50%;\n",
       "}\n",
       "\n",
       "#sk-container-id-13 div.sk-parallel-item:only-child::after {\n",
       "  width: 0;\n",
       "}\n",
       "\n",
       "/* Serial-specific style estimator block */\n",
       "\n",
       "#sk-container-id-13 div.sk-serial {\n",
       "  display: flex;\n",
       "  flex-direction: column;\n",
       "  align-items: center;\n",
       "  background-color: var(--sklearn-color-background);\n",
       "  padding-right: 1em;\n",
       "  padding-left: 1em;\n",
       "}\n",
       "\n",
       "\n",
       "/* Toggleable style: style used for estimator/Pipeline/ColumnTransformer box that is\n",
       "clickable and can be expanded/collapsed.\n",
       "- Pipeline and ColumnTransformer use this feature and define the default style\n",
       "- Estimators will overwrite some part of the style using the `sk-estimator` class\n",
       "*/\n",
       "\n",
       "/* Pipeline and ColumnTransformer style (default) */\n",
       "\n",
       "#sk-container-id-13 div.sk-toggleable {\n",
       "  /* Default theme specific background. It is overwritten whether we have a\n",
       "  specific estimator or a Pipeline/ColumnTransformer */\n",
       "  background-color: var(--sklearn-color-background);\n",
       "}\n",
       "\n",
       "/* Toggleable label */\n",
       "#sk-container-id-13 label.sk-toggleable__label {\n",
       "  cursor: pointer;\n",
       "  display: block;\n",
       "  width: 100%;\n",
       "  margin-bottom: 0;\n",
       "  padding: 0.5em;\n",
       "  box-sizing: border-box;\n",
       "  text-align: center;\n",
       "}\n",
       "\n",
       "#sk-container-id-13 label.sk-toggleable__label-arrow:before {\n",
       "  /* Arrow on the left of the label */\n",
       "  content: \"▸\";\n",
       "  float: left;\n",
       "  margin-right: 0.25em;\n",
       "  color: var(--sklearn-color-icon);\n",
       "}\n",
       "\n",
       "#sk-container-id-13 label.sk-toggleable__label-arrow:hover:before {\n",
       "  color: var(--sklearn-color-text);\n",
       "}\n",
       "\n",
       "/* Toggleable content - dropdown */\n",
       "\n",
       "#sk-container-id-13 div.sk-toggleable__content {\n",
       "  max-height: 0;\n",
       "  max-width: 0;\n",
       "  overflow: hidden;\n",
       "  text-align: left;\n",
       "  /* unfitted */\n",
       "  background-color: var(--sklearn-color-unfitted-level-0);\n",
       "}\n",
       "\n",
       "#sk-container-id-13 div.sk-toggleable__content.fitted {\n",
       "  /* fitted */\n",
       "  background-color: var(--sklearn-color-fitted-level-0);\n",
       "}\n",
       "\n",
       "#sk-container-id-13 div.sk-toggleable__content pre {\n",
       "  margin: 0.2em;\n",
       "  border-radius: 0.25em;\n",
       "  color: var(--sklearn-color-text);\n",
       "  /* unfitted */\n",
       "  background-color: var(--sklearn-color-unfitted-level-0);\n",
       "}\n",
       "\n",
       "#sk-container-id-13 div.sk-toggleable__content.fitted pre {\n",
       "  /* unfitted */\n",
       "  background-color: var(--sklearn-color-fitted-level-0);\n",
       "}\n",
       "\n",
       "#sk-container-id-13 input.sk-toggleable__control:checked~div.sk-toggleable__content {\n",
       "  /* Expand drop-down */\n",
       "  max-height: 200px;\n",
       "  max-width: 100%;\n",
       "  overflow: auto;\n",
       "}\n",
       "\n",
       "#sk-container-id-13 input.sk-toggleable__control:checked~label.sk-toggleable__label-arrow:before {\n",
       "  content: \"▾\";\n",
       "}\n",
       "\n",
       "/* Pipeline/ColumnTransformer-specific style */\n",
       "\n",
       "#sk-container-id-13 div.sk-label input.sk-toggleable__control:checked~label.sk-toggleable__label {\n",
       "  color: var(--sklearn-color-text);\n",
       "  background-color: var(--sklearn-color-unfitted-level-2);\n",
       "}\n",
       "\n",
       "#sk-container-id-13 div.sk-label.fitted input.sk-toggleable__control:checked~label.sk-toggleable__label {\n",
       "  background-color: var(--sklearn-color-fitted-level-2);\n",
       "}\n",
       "\n",
       "/* Estimator-specific style */\n",
       "\n",
       "/* Colorize estimator box */\n",
       "#sk-container-id-13 div.sk-estimator input.sk-toggleable__control:checked~label.sk-toggleable__label {\n",
       "  /* unfitted */\n",
       "  background-color: var(--sklearn-color-unfitted-level-2);\n",
       "}\n",
       "\n",
       "#sk-container-id-13 div.sk-estimator.fitted input.sk-toggleable__control:checked~label.sk-toggleable__label {\n",
       "  /* fitted */\n",
       "  background-color: var(--sklearn-color-fitted-level-2);\n",
       "}\n",
       "\n",
       "#sk-container-id-13 div.sk-label label.sk-toggleable__label,\n",
       "#sk-container-id-13 div.sk-label label {\n",
       "  /* The background is the default theme color */\n",
       "  color: var(--sklearn-color-text-on-default-background);\n",
       "}\n",
       "\n",
       "/* On hover, darken the color of the background */\n",
       "#sk-container-id-13 div.sk-label:hover label.sk-toggleable__label {\n",
       "  color: var(--sklearn-color-text);\n",
       "  background-color: var(--sklearn-color-unfitted-level-2);\n",
       "}\n",
       "\n",
       "/* Label box, darken color on hover, fitted */\n",
       "#sk-container-id-13 div.sk-label.fitted:hover label.sk-toggleable__label.fitted {\n",
       "  color: var(--sklearn-color-text);\n",
       "  background-color: var(--sklearn-color-fitted-level-2);\n",
       "}\n",
       "\n",
       "/* Estimator label */\n",
       "\n",
       "#sk-container-id-13 div.sk-label label {\n",
       "  font-family: monospace;\n",
       "  font-weight: bold;\n",
       "  display: inline-block;\n",
       "  line-height: 1.2em;\n",
       "}\n",
       "\n",
       "#sk-container-id-13 div.sk-label-container {\n",
       "  text-align: center;\n",
       "}\n",
       "\n",
       "/* Estimator-specific */\n",
       "#sk-container-id-13 div.sk-estimator {\n",
       "  font-family: monospace;\n",
       "  border: 1px dotted var(--sklearn-color-border-box);\n",
       "  border-radius: 0.25em;\n",
       "  box-sizing: border-box;\n",
       "  margin-bottom: 0.5em;\n",
       "  /* unfitted */\n",
       "  background-color: var(--sklearn-color-unfitted-level-0);\n",
       "}\n",
       "\n",
       "#sk-container-id-13 div.sk-estimator.fitted {\n",
       "  /* fitted */\n",
       "  background-color: var(--sklearn-color-fitted-level-0);\n",
       "}\n",
       "\n",
       "/* on hover */\n",
       "#sk-container-id-13 div.sk-estimator:hover {\n",
       "  /* unfitted */\n",
       "  background-color: var(--sklearn-color-unfitted-level-2);\n",
       "}\n",
       "\n",
       "#sk-container-id-13 div.sk-estimator.fitted:hover {\n",
       "  /* fitted */\n",
       "  background-color: var(--sklearn-color-fitted-level-2);\n",
       "}\n",
       "\n",
       "/* Specification for estimator info (e.g. \"i\" and \"?\") */\n",
       "\n",
       "/* Common style for \"i\" and \"?\" */\n",
       "\n",
       ".sk-estimator-doc-link,\n",
       "a:link.sk-estimator-doc-link,\n",
       "a:visited.sk-estimator-doc-link {\n",
       "  float: right;\n",
       "  font-size: smaller;\n",
       "  line-height: 1em;\n",
       "  font-family: monospace;\n",
       "  background-color: var(--sklearn-color-background);\n",
       "  border-radius: 1em;\n",
       "  height: 1em;\n",
       "  width: 1em;\n",
       "  text-decoration: none !important;\n",
       "  margin-left: 1ex;\n",
       "  /* unfitted */\n",
       "  border: var(--sklearn-color-unfitted-level-1) 1pt solid;\n",
       "  color: var(--sklearn-color-unfitted-level-1);\n",
       "}\n",
       "\n",
       ".sk-estimator-doc-link.fitted,\n",
       "a:link.sk-estimator-doc-link.fitted,\n",
       "a:visited.sk-estimator-doc-link.fitted {\n",
       "  /* fitted */\n",
       "  border: var(--sklearn-color-fitted-level-1) 1pt solid;\n",
       "  color: var(--sklearn-color-fitted-level-1);\n",
       "}\n",
       "\n",
       "/* On hover */\n",
       "div.sk-estimator:hover .sk-estimator-doc-link:hover,\n",
       ".sk-estimator-doc-link:hover,\n",
       "div.sk-label-container:hover .sk-estimator-doc-link:hover,\n",
       ".sk-estimator-doc-link:hover {\n",
       "  /* unfitted */\n",
       "  background-color: var(--sklearn-color-unfitted-level-3);\n",
       "  color: var(--sklearn-color-background);\n",
       "  text-decoration: none;\n",
       "}\n",
       "\n",
       "div.sk-estimator.fitted:hover .sk-estimator-doc-link.fitted:hover,\n",
       ".sk-estimator-doc-link.fitted:hover,\n",
       "div.sk-label-container:hover .sk-estimator-doc-link.fitted:hover,\n",
       ".sk-estimator-doc-link.fitted:hover {\n",
       "  /* fitted */\n",
       "  background-color: var(--sklearn-color-fitted-level-3);\n",
       "  color: var(--sklearn-color-background);\n",
       "  text-decoration: none;\n",
       "}\n",
       "\n",
       "/* Span, style for the box shown on hovering the info icon */\n",
       ".sk-estimator-doc-link span {\n",
       "  display: none;\n",
       "  z-index: 9999;\n",
       "  position: relative;\n",
       "  font-weight: normal;\n",
       "  right: .2ex;\n",
       "  padding: .5ex;\n",
       "  margin: .5ex;\n",
       "  width: min-content;\n",
       "  min-width: 20ex;\n",
       "  max-width: 50ex;\n",
       "  color: var(--sklearn-color-text);\n",
       "  box-shadow: 2pt 2pt 4pt #999;\n",
       "  /* unfitted */\n",
       "  background: var(--sklearn-color-unfitted-level-0);\n",
       "  border: .5pt solid var(--sklearn-color-unfitted-level-3);\n",
       "}\n",
       "\n",
       ".sk-estimator-doc-link.fitted span {\n",
       "  /* fitted */\n",
       "  background: var(--sklearn-color-fitted-level-0);\n",
       "  border: var(--sklearn-color-fitted-level-3);\n",
       "}\n",
       "\n",
       ".sk-estimator-doc-link:hover span {\n",
       "  display: block;\n",
       "}\n",
       "\n",
       "/* \"?\"-specific style due to the `<a>` HTML tag */\n",
       "\n",
       "#sk-container-id-13 a.estimator_doc_link {\n",
       "  float: right;\n",
       "  font-size: 1rem;\n",
       "  line-height: 1em;\n",
       "  font-family: monospace;\n",
       "  background-color: var(--sklearn-color-background);\n",
       "  border-radius: 1rem;\n",
       "  height: 1rem;\n",
       "  width: 1rem;\n",
       "  text-decoration: none;\n",
       "  /* unfitted */\n",
       "  color: var(--sklearn-color-unfitted-level-1);\n",
       "  border: var(--sklearn-color-unfitted-level-1) 1pt solid;\n",
       "}\n",
       "\n",
       "#sk-container-id-13 a.estimator_doc_link.fitted {\n",
       "  /* fitted */\n",
       "  border: var(--sklearn-color-fitted-level-1) 1pt solid;\n",
       "  color: var(--sklearn-color-fitted-level-1);\n",
       "}\n",
       "\n",
       "/* On hover */\n",
       "#sk-container-id-13 a.estimator_doc_link:hover {\n",
       "  /* unfitted */\n",
       "  background-color: var(--sklearn-color-unfitted-level-3);\n",
       "  color: var(--sklearn-color-background);\n",
       "  text-decoration: none;\n",
       "}\n",
       "\n",
       "#sk-container-id-13 a.estimator_doc_link.fitted:hover {\n",
       "  /* fitted */\n",
       "  background-color: var(--sklearn-color-fitted-level-3);\n",
       "}\n",
       "</style><div id=\"sk-container-id-13\" class=\"sk-top-container\"><div class=\"sk-text-repr-fallback\"><pre>RandomForestClassifier(max_depth=10, min_samples_split=100, random_state=88)</pre><b>In a Jupyter environment, please rerun this cell to show the HTML representation or trust the notebook. <br />On GitHub, the HTML representation is unable to render, please try loading this page with nbviewer.org.</b></div><div class=\"sk-container\" hidden><div class=\"sk-item\"><div class=\"sk-estimator fitted sk-toggleable\"><input class=\"sk-toggleable__control sk-hidden--visually\" id=\"sk-estimator-id-13\" type=\"checkbox\" checked><label for=\"sk-estimator-id-13\" class=\"sk-toggleable__label fitted sk-toggleable__label-arrow fitted\">&nbsp;&nbsp;RandomForestClassifier<a class=\"sk-estimator-doc-link fitted\" rel=\"noreferrer\" target=\"_blank\" href=\"https://scikit-learn.org/1.5/modules/generated/sklearn.ensemble.RandomForestClassifier.html\">?<span>Documentation for RandomForestClassifier</span></a><span class=\"sk-estimator-doc-link fitted\">i<span>Fitted</span></span></label><div class=\"sk-toggleable__content fitted\"><pre>RandomForestClassifier(max_depth=10, min_samples_split=100, random_state=88)</pre></div> </div></div></div></div>"
      ],
      "text/plain": [
       "RandomForestClassifier(max_depth=10, min_samples_split=100, random_state=88)"
      ]
     },
     "execution_count": 167,
     "metadata": {},
     "output_type": "execute_result"
    }
   ],
   "source": [
    "rm.fit(x_train, y_train)"
   ]
  },
  {
   "cell_type": "code",
   "execution_count": 168,
   "id": "b0d2ece0-9bf6-4c61-9441-79ad74e1626c",
   "metadata": {},
   "outputs": [],
   "source": [
    "# print(Decision_model.score(x_train, y_train))\n",
    "# print(Decision_model.score(x_test, y_test))"
   ]
  },
  {
   "cell_type": "code",
   "execution_count": 169,
   "id": "4b2871ee-4d42-4749-881a-4623e577d5b6",
   "metadata": {},
   "outputs": [
    {
     "name": "stdout",
     "output_type": "stream",
     "text": [
      "0.7867063213714542\n",
      "0.7562563124228482\n"
     ]
    }
   ],
   "source": [
    "print(rm.score(x_train, y_train))\n",
    "print(rm.score(x_test, y_test))"
   ]
  },
  {
   "cell_type": "code",
   "execution_count": 170,
   "id": "45db001d-8b3d-456c-b9b8-e719f92c980c",
   "metadata": {},
   "outputs": [
    {
     "name": "stdout",
     "output_type": "stream",
     "text": [
      "              precision    recall  f1-score   support\n",
      "\n",
      "         0.0       0.82      0.78      0.80     22568\n",
      "         1.0       0.65      0.71      0.68     13073\n",
      "\n",
      "    accuracy                           0.75     35641\n",
      "   macro avg       0.74      0.74      0.74     35641\n",
      "weighted avg       0.76      0.75      0.76     35641\n",
      "\n",
      "***********************************************************************\n",
      "              precision    recall  f1-score   support\n",
      "\n",
      "         0.0       0.81      0.76      0.79      5632\n",
      "         1.0       0.63      0.70      0.66      3279\n",
      "\n",
      "    accuracy                           0.74      8911\n",
      "   macro avg       0.72      0.73      0.73      8911\n",
      "weighted avg       0.75      0.74      0.74      8911\n",
      "\n"
     ]
    }
   ],
   "source": [
    "print(metrics.classification_report(y_train, Decision_model.predict(x_train)))\n",
    "print(\"***********************************************************************\")\n",
    "print(metrics.classification_report(y_test, Decision_model.predict(x_test)))"
   ]
  },
  {
   "cell_type": "code",
   "execution_count": 176,
   "id": "68644f36-9287-4525-aaee-9f2f6f1fe7cb",
   "metadata": {},
   "outputs": [
    {
     "name": "stdout",
     "output_type": "stream",
     "text": [
      "[1. 0. 0. ... 1. 1. 0.]\n"
     ]
    }
   ],
   "source": [
    "print(Random_model.predict(x_test))"
   ]
  },
  {
   "cell_type": "code",
   "execution_count": 174,
   "id": "594642df-2b15-4d69-8a86-ccd00f05a0bc",
   "metadata": {},
   "outputs": [
    {
     "name": "stdout",
     "output_type": "stream",
     "text": [
      "2786     0.0\n",
      "41300    1.0\n",
      "3875     0.0\n",
      "21038    1.0\n",
      "36190    0.0\n",
      "        ... \n",
      "1655     1.0\n",
      "39680    0.0\n",
      "17076    1.0\n",
      "2663     0.0\n",
      "42498    0.0\n",
      "Name: smoking, Length: 8911, dtype: float64\n"
     ]
    }
   ],
   "source": [
    "print(y_test)"
   ]
  },
  {
   "cell_type": "code",
   "execution_count": 171,
   "id": "83c8db11-1d45-441f-b1ef-3f869b80482c",
   "metadata": {},
   "outputs": [
    {
     "name": "stdout",
     "output_type": "stream",
     "text": [
      "              precision    recall  f1-score   support\n",
      "\n",
      "         0.0       1.00      1.00      1.00     22568\n",
      "         1.0       1.00      1.00      1.00     13073\n",
      "\n",
      "    accuracy                           1.00     35641\n",
      "   macro avg       1.00      1.00      1.00     35641\n",
      "weighted avg       1.00      1.00      1.00     35641\n",
      "\n",
      "*******************************************************************\n",
      "              precision    recall  f1-score   support\n",
      "\n",
      "         0.0       0.82      0.79      0.80      5632\n",
      "         1.0       0.66      0.70      0.68      3279\n",
      "\n",
      "    accuracy                           0.76      8911\n",
      "   macro avg       0.74      0.74      0.74      8911\n",
      "weighted avg       0.76      0.76      0.76      8911\n",
      "\n"
     ]
    }
   ],
   "source": [
    "print(metrics.classification_report(y_train, Random_model.predict(x_train)))\n",
    "print(\"*******************************************************************\")\n",
    "print(metrics.classification_report(y_test, Random_model.predict(x_test)))"
   ]
  },
  {
   "cell_type": "code",
   "execution_count": 172,
   "id": "945ad8a2-25ea-46fe-b578-1c4632dff0b9",
   "metadata": {},
   "outputs": [
    {
     "name": "stdout",
     "output_type": "stream",
     "text": [
      "              precision    recall  f1-score   support\n",
      "\n",
      "         0.0       0.76      0.82      0.79     22568\n",
      "         1.0       0.65      0.56      0.60     13073\n",
      "\n",
      "    accuracy                           0.73     35641\n",
      "   macro avg       0.71      0.69      0.70     35641\n",
      "weighted avg       0.72      0.73      0.72     35641\n",
      "\n",
      "******************************************************************\n",
      "              precision    recall  f1-score   support\n",
      "\n",
      "         0.0       0.77      0.82      0.79      5632\n",
      "         1.0       0.64      0.57      0.60      3279\n",
      "\n",
      "    accuracy                           0.73      8911\n",
      "   macro avg       0.70      0.69      0.70      8911\n",
      "weighted avg       0.72      0.73      0.72      8911\n",
      "\n"
     ]
    }
   ],
   "source": [
    "print(metrics.classification_report(y_train, Log_model.predict(x_train)))\n",
    "print(\"******************************************************************\")\n",
    "print(metrics.classification_report(y_test, Log_model.predict(x_test)))"
   ]
  },
  {
   "cell_type": "code",
   "execution_count": null,
   "id": "55e7914c-c04a-4223-9240-2838a6b618de",
   "metadata": {},
   "outputs": [],
   "source": []
  },
  {
   "cell_type": "code",
   "execution_count": null,
   "id": "bbde1776-0007-466a-8abc-5ac3c1deecb9",
   "metadata": {},
   "outputs": [],
   "source": []
  }
 ],
 "metadata": {
  "kernelspec": {
   "display_name": "Python 3 (ipykernel)",
   "language": "python",
   "name": "python3"
  },
  "language_info": {
   "codemirror_mode": {
    "name": "ipython",
    "version": 3
   },
   "file_extension": ".py",
   "mimetype": "text/x-python",
   "name": "python",
   "nbconvert_exporter": "python",
   "pygments_lexer": "ipython3",
   "version": "3.11.5"
  }
 },
 "nbformat": 4,
 "nbformat_minor": 5
}
