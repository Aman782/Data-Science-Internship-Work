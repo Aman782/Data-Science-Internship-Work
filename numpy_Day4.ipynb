{
 "cells": [
  {
   "cell_type": "code",
   "execution_count": 2,
   "id": "80359046-dd5b-467a-b673-f079fc10331d",
   "metadata": {},
   "outputs": [],
   "source": [
    "# Numpy"
   ]
  },
  {
   "cell_type": "code",
   "execution_count": 3,
   "id": "f4e28712-8005-4be0-9f00-3ad3e53810f3",
   "metadata": {},
   "outputs": [],
   "source": [
    "import numpy as np"
   ]
  },
  {
   "cell_type": "code",
   "execution_count": 12,
   "id": "44efe6d7-ef8e-433a-961d-81add531925d",
   "metadata": {},
   "outputs": [],
   "source": [
    "#Create an 3D array having 3 rows and 4 columns \n",
    "arr = np.array([[[1, 2, 3, 4], [5, 6, 7, 8], [9, 10, 11, 12]]])"
   ]
  },
  {
   "cell_type": "code",
   "execution_count": 13,
   "id": "9c1198a0-f7b1-4b98-af7f-91e1969b4412",
   "metadata": {},
   "outputs": [
    {
     "data": {
      "text/plain": [
       "array([[[ 1,  2,  3,  4],\n",
       "        [ 5,  6,  7,  8],\n",
       "        [ 9, 10, 11, 12]]])"
      ]
     },
     "execution_count": 13,
     "metadata": {},
     "output_type": "execute_result"
    }
   ],
   "source": [
    "arr"
   ]
  },
  {
   "cell_type": "code",
   "execution_count": 14,
   "id": "63873afc-d870-4c21-9b1d-97a6d9cfe015",
   "metadata": {},
   "outputs": [
    {
     "data": {
      "text/plain": [
       "(1, 3, 4)"
      ]
     },
     "execution_count": 14,
     "metadata": {},
     "output_type": "execute_result"
    }
   ],
   "source": [
    "arr.shape"
   ]
  },
  {
   "cell_type": "code",
   "execution_count": 15,
   "id": "b9ccc14e-cc2b-4cad-8632-5e0c2334bb61",
   "metadata": {},
   "outputs": [
    {
     "data": {
      "text/plain": [
       "array([[[4],\n",
       "        [8]]])"
      ]
     },
     "execution_count": 15,
     "metadata": {},
     "output_type": "execute_result"
    }
   ],
   "source": [
    "arr[:, 0:2, 3:5]"
   ]
  },
  {
   "cell_type": "code",
   "execution_count": 16,
   "id": "393a1dcd-1bc9-4b71-a912-40d59469fe6e",
   "metadata": {},
   "outputs": [
    {
     "data": {
      "text/plain": [
       "array([[[ 3,  4],\n",
       "        [11, 12]]])"
      ]
     },
     "execution_count": 16,
     "metadata": {},
     "output_type": "execute_result"
    }
   ],
   "source": [
    "arr[:, 0::2, 2:]"
   ]
  },
  {
   "cell_type": "markdown",
   "id": "915c42a5-3c2b-426e-888a-4ba6a22ee542",
   "metadata": {},
   "source": [
    "#maths function"
   ]
  },
  {
   "cell_type": "code",
   "execution_count": 19,
   "id": "c9aef737-f980-4d47-a864-fdb0434f2409",
   "metadata": {},
   "outputs": [
    {
     "data": {
      "text/plain": [
       "1"
      ]
     },
     "execution_count": 19,
     "metadata": {},
     "output_type": "execute_result"
    }
   ],
   "source": [
    "arr.min()"
   ]
  },
  {
   "cell_type": "code",
   "execution_count": 20,
   "id": "a763de10-e643-4b8f-95af-661d849610c1",
   "metadata": {},
   "outputs": [
    {
     "data": {
      "text/plain": [
       "12"
      ]
     },
     "execution_count": 20,
     "metadata": {},
     "output_type": "execute_result"
    }
   ],
   "source": [
    "arr.max()"
   ]
  },
  {
   "cell_type": "code",
   "execution_count": 21,
   "id": "3d9e5009-5bd6-4a62-a931-d8a3737253a1",
   "metadata": {},
   "outputs": [
    {
     "data": {
      "text/plain": [
       "6.5"
      ]
     },
     "execution_count": 21,
     "metadata": {},
     "output_type": "execute_result"
    }
   ],
   "source": [
    "arr.mean()"
   ]
  },
  {
   "cell_type": "code",
   "execution_count": 23,
   "id": "21e0a43b-bdf3-4775-baeb-5b98dd14dcb5",
   "metadata": {},
   "outputs": [
    {
     "data": {
      "text/plain": [
       "78"
      ]
     },
     "execution_count": 23,
     "metadata": {},
     "output_type": "execute_result"
    }
   ],
   "source": [
    "arr.sum()"
   ]
  },
  {
   "cell_type": "code",
   "execution_count": 32,
   "id": "7f84a6af-9c7e-48c4-b31e-1d26b2bc2b8d",
   "metadata": {},
   "outputs": [
    {
     "data": {
      "text/plain": [
       "array([15, 18, 21, 24])"
      ]
     },
     "execution_count": 32,
     "metadata": {},
     "output_type": "execute_result"
    }
   ],
   "source": [
    "sum(sum(arr))"
   ]
  },
  {
   "cell_type": "code",
   "execution_count": 26,
   "id": "145ed7e0-6821-4a6d-8397-83f4eb421276",
   "metadata": {},
   "outputs": [
    {
     "data": {
      "text/plain": [
       "6.5"
      ]
     },
     "execution_count": 26,
     "metadata": {},
     "output_type": "execute_result"
    }
   ],
   "source": [
    "np.median(arr)"
   ]
  },
  {
   "cell_type": "code",
   "execution_count": 37,
   "id": "12a2f2c0-22a7-422e-a741-860259d4d7a5",
   "metadata": {},
   "outputs": [],
   "source": [
    "d2 = np.array([[1,2, 3, 4], [5, 6, 7, 8], [9, 10, 11, 9]])"
   ]
  },
  {
   "cell_type": "code",
   "execution_count": 35,
   "id": "f32633b1-cc16-4009-b932-2ac000ed950b",
   "metadata": {},
   "outputs": [
    {
     "data": {
      "text/plain": [
       "array([15, 18, 21, 24])"
      ]
     },
     "execution_count": 35,
     "metadata": {},
     "output_type": "execute_result"
    }
   ],
   "source": [
    "sum(d2)"
   ]
  },
  {
   "cell_type": "code",
   "execution_count": 38,
   "id": "65580d2d-923a-4720-a0d0-7c5fb4e1b16d",
   "metadata": {},
   "outputs": [
    {
     "data": {
      "text/plain": [
       "array([[ 1,  2,  3,  4],\n",
       "       [ 5,  6,  7,  8],\n",
       "       [50, 10, 11, 50]])"
      ]
     },
     "execution_count": 38,
     "metadata": {},
     "output_type": "execute_result"
    }
   ],
   "source": [
    "np.where(d2==9, 50, d2) #it change or reassign the value at a specific without having the element index( but it also change for all dupolicates in array)"
   ]
  },
  {
   "cell_type": "markdown",
   "id": "3289b84a-a5e8-43ef-9b4c-87ad823d3f2a",
   "metadata": {},
   "source": [
    "#Reshaping of an array"
   ]
  },
  {
   "cell_type": "code",
   "execution_count": 39,
   "id": "9f4b715b-7cab-443f-8b47-613af9fb0d13",
   "metadata": {},
   "outputs": [],
   "source": [
    "a1 = np.random.randint(0, 100, 20)"
   ]
  },
  {
   "cell_type": "code",
   "execution_count": 40,
   "id": "11711176-1c3a-4767-9aa9-a04224b53f5e",
   "metadata": {},
   "outputs": [
    {
     "data": {
      "text/plain": [
       "(20,)"
      ]
     },
     "execution_count": 40,
     "metadata": {},
     "output_type": "execute_result"
    }
   ],
   "source": [
    "a1.shape"
   ]
  },
  {
   "cell_type": "code",
   "execution_count": 41,
   "id": "2e3b0e60-def0-4519-8405-9583cd5b5a7d",
   "metadata": {},
   "outputs": [],
   "source": [
    "a2 = a1.reshape(5,4)"
   ]
  },
  {
   "cell_type": "code",
   "execution_count": 42,
   "id": "376315e2-3f24-4059-954f-c8ada7cb26a6",
   "metadata": {},
   "outputs": [
    {
     "data": {
      "text/plain": [
       "array([[52, 62, 32, 16],\n",
       "       [44, 99, 92, 87],\n",
       "       [84, 87, 16, 43],\n",
       "       [95, 68, 72, 79],\n",
       "       [18, 86, 91, 56]])"
      ]
     },
     "execution_count": 42,
     "metadata": {},
     "output_type": "execute_result"
    }
   ],
   "source": [
    "a2"
   ]
  },
  {
   "cell_type": "code",
   "execution_count": 43,
   "id": "089ea07f-7634-4dcd-9d22-5315951b651a",
   "metadata": {},
   "outputs": [
    {
     "data": {
      "text/plain": [
       "(5, 4)"
      ]
     },
     "execution_count": 43,
     "metadata": {},
     "output_type": "execute_result"
    }
   ],
   "source": [
    "a2.shape"
   ]
  },
  {
   "cell_type": "code",
   "execution_count": 44,
   "id": "00bf0155-4c29-4467-a0db-19ba463be6c0",
   "metadata": {},
   "outputs": [
    {
     "data": {
      "text/plain": [
       "array([[52, 62, 32, 16, 44],\n",
       "       [99, 92, 87, 84, 87],\n",
       "       [16, 43, 95, 68, 72],\n",
       "       [79, 18, 86, 91, 56]])"
      ]
     },
     "execution_count": 44,
     "metadata": {},
     "output_type": "execute_result"
    }
   ],
   "source": [
    "a2.reshape(4, 5)"
   ]
  },
  {
   "cell_type": "code",
   "execution_count": 46,
   "id": "b6b7016c-66a3-41db-aa74-58c44b13c843",
   "metadata": {},
   "outputs": [
    {
     "data": {
      "text/plain": [
       "array([  0.        ,   7.14285714,  14.28571429,  21.42857143,\n",
       "        28.57142857,  35.71428571,  42.85714286,  50.        ,\n",
       "        57.14285714,  64.28571429,  71.42857143,  78.57142857,\n",
       "        85.71428571,  92.85714286, 100.        ])"
      ]
     },
     "execution_count": 46,
     "metadata": {},
     "output_type": "execute_result"
    }
   ],
   "source": [
    "np.linspace(0,100, 15) # Creates a np array of elements in range 0 to 100 with equally distribution of values"
   ]
  },
  {
   "cell_type": "code",
   "execution_count": null,
   "id": "6fb4561c-6fe3-46c5-8e6a-5bd6be1153df",
   "metadata": {},
   "outputs": [],
   "source": []
  }
 ],
 "metadata": {
  "kernelspec": {
   "display_name": "Python 3 (ipykernel)",
   "language": "python",
   "name": "python3"
  },
  "language_info": {
   "codemirror_mode": {
    "name": "ipython",
    "version": 3
   },
   "file_extension": ".py",
   "mimetype": "text/x-python",
   "name": "python",
   "nbconvert_exporter": "python",
   "pygments_lexer": "ipython3",
   "version": "3.11.5"
  }
 },
 "nbformat": 4,
 "nbformat_minor": 5
}
