{
 "cells": [
  {
   "cell_type": "markdown",
   "metadata": {},
   "source": [
    "Tuple"
   ]
  },
  {
   "cell_type": "code",
   "execution_count": 44,
   "metadata": {},
   "outputs": [],
   "source": [
    "t = (0, 1, 2, 3, 4, 5, 6, 7, 8, 9)"
   ]
  },
  {
   "cell_type": "code",
   "execution_count": 45,
   "metadata": {},
   "outputs": [
    {
     "data": {
      "text/plain": [
       "tuple"
      ]
     },
     "execution_count": 45,
     "metadata": {},
     "output_type": "execute_result"
    }
   ],
   "source": [
    "type(t)"
   ]
  },
  {
   "cell_type": "code",
   "execution_count": 46,
   "metadata": {},
   "outputs": [
    {
     "data": {
      "text/plain": [
       "5.22"
      ]
     },
     "execution_count": 46,
     "metadata": {},
     "output_type": "execute_result"
    }
   ],
   "source": [
    "#finding the avg of the list\n",
    "f = [1, 4, 7, 8, 9, 6, 5, 3, 4]\n",
    "\n",
    "round(sum(f)/len(f), 2)"
   ]
  },
  {
   "cell_type": "markdown",
   "metadata": {},
   "source": [
    "Dictionary"
   ]
  },
  {
   "cell_type": "code",
   "execution_count": 47,
   "metadata": {},
   "outputs": [
    {
     "name": "stdout",
     "output_type": "stream",
     "text": [
      "{'name': ['a', 'b', 'c', 'd'], 'age': [25, 26, 24, 28]}\n"
     ]
    },
    {
     "data": {
      "text/plain": [
       "dict"
      ]
     },
     "execution_count": 47,
     "metadata": {},
     "output_type": "execute_result"
    }
   ],
   "source": [
    "s = {\"name\":[\"a\", \"b\", \"c\", \"d\"],\n",
    "     \"age\":[25, 26, 24, 28]}\n",
    "print(s)\n",
    "type(s)"
   ]
  },
  {
   "cell_type": "code",
   "execution_count": 48,
   "metadata": {},
   "outputs": [
    {
     "data": {
      "text/plain": [
       "dict_keys(['name', 'age'])"
      ]
     },
     "execution_count": 48,
     "metadata": {},
     "output_type": "execute_result"
    }
   ],
   "source": [
    "s.keys()"
   ]
  },
  {
   "cell_type": "code",
   "execution_count": 49,
   "metadata": {},
   "outputs": [
    {
     "data": {
      "text/plain": [
       "dict_values([['a', 'b', 'c', 'd'], [25, 26, 24, 28]])"
      ]
     },
     "execution_count": 49,
     "metadata": {},
     "output_type": "execute_result"
    }
   ],
   "source": [
    "s.values()"
   ]
  },
  {
   "cell_type": "code",
   "execution_count": 50,
   "metadata": {},
   "outputs": [
    {
     "data": {
      "text/plain": [
       "['a', 'b', 'c', 'd']"
      ]
     },
     "execution_count": 50,
     "metadata": {},
     "output_type": "execute_result"
    }
   ],
   "source": [
    "s[\"name\"]"
   ]
  },
  {
   "cell_type": "code",
   "execution_count": 51,
   "metadata": {},
   "outputs": [
    {
     "data": {
      "text/plain": [
       "['a', 'b']"
      ]
     },
     "execution_count": 51,
     "metadata": {},
     "output_type": "execute_result"
    }
   ],
   "source": [
    "s[\"name\"][0:2]"
   ]
  },
  {
   "cell_type": "code",
   "execution_count": 52,
   "metadata": {},
   "outputs": [
    {
     "name": "stdout",
     "output_type": "stream",
     "text": [
      "{'name': ['a', 'b', 'M', 'd'], 'age': [25, 26, 24, 28]}\n"
     ]
    }
   ],
   "source": [
    "#replacing the name \"C\" with \"M\"\n",
    "\n",
    "s[\"name\"][2] = \"M\"\n",
    "print(s)"
   ]
  },
  {
   "cell_type": "code",
   "execution_count": 53,
   "metadata": {},
   "outputs": [
    {
     "data": {
      "text/plain": [
       "dict_keys"
      ]
     },
     "execution_count": 53,
     "metadata": {},
     "output_type": "execute_result"
    }
   ],
   "source": [
    "tempList = s.keys()\n",
    "\n",
    "type(tempList)"
   ]
  },
  {
   "cell_type": "code",
   "execution_count": 54,
   "metadata": {},
   "outputs": [
    {
     "name": "stdout",
     "output_type": "stream",
     "text": [
      "{'age': [25, 26, 24, 28], 'Fullname': ['a', 'b', 'M', 'd']}\n"
     ]
    }
   ],
   "source": [
    "# Home Work Task\n",
    "# Changing the key 'name' into 'Fullname'\n",
    "s[\"Fullname\"] = s.pop(\"name\")\n",
    "\n",
    "print(s)"
   ]
  },
  {
   "cell_type": "code",
   "execution_count": 55,
   "metadata": {},
   "outputs": [
    {
     "name": "stdout",
     "output_type": "stream",
     "text": [
      "yes\n"
     ]
    }
   ],
   "source": [
    "#conditional statements\n",
    "x = 153\n",
    "if(x%3==0):\n",
    "    print(\"yes\")\n",
    "else:\n",
    "    print(\"no\")"
   ]
  },
  {
   "cell_type": "code",
   "execution_count": 56,
   "metadata": {},
   "outputs": [
    {
     "name": "stdout",
     "output_type": "stream",
     "text": [
      "smaller\n"
     ]
    }
   ],
   "source": [
    "# x is less than or more than 1000\n",
    "x = 895\n",
    "\n",
    "if(x>1000):\n",
    "    print(\"greater\")\n",
    "elif (x<1000):\n",
    "    print(\"smaller\")\n",
    "else:\n",
    "    print(\"equals\")"
   ]
  },
  {
   "cell_type": "code",
   "execution_count": 57,
   "metadata": {},
   "outputs": [
    {
     "name": "stdout",
     "output_type": "stream",
     "text": [
      "It is greater than 500 & less than 1000\n"
     ]
    }
   ],
   "source": [
    "y = 895\n",
    "\n",
    "if(x>500 and x<1000):\n",
    "    print(\"It is greater than 500 & less than 1000\")\n",
    "elif (x>1000):\n",
    "    print(\"It is greater than 1000\")\n",
    "elif (x<500):\n",
    "    print(\"It is less than 500\")\n",
    "else:\n",
    "    print(\"It is greater than 1000\")"
   ]
  },
  {
   "cell_type": "code",
   "execution_count": 58,
   "metadata": {},
   "outputs": [
    {
     "name": "stdout",
     "output_type": "stream",
     "text": [
      "odd\n"
     ]
    }
   ],
   "source": [
    "x = 5\n",
    "if(x%2==0):\n",
    "    print(\"even\")\n",
    "else:\n",
    "    print(\"odd\")"
   ]
  },
  {
   "cell_type": "code",
   "execution_count": 59,
   "metadata": {},
   "outputs": [
    {
     "name": "stdout",
     "output_type": "stream",
     "text": [
      "25\n"
     ]
    }
   ],
   "source": [
    "x = 5\n",
    "if(x%2==0):\n",
    "    print(x**3)\n",
    "else:\n",
    "    print(x**2)"
   ]
  },
  {
   "cell_type": "code",
   "execution_count": 60,
   "metadata": {},
   "outputs": [
    {
     "data": {
      "text/plain": [
       "140733635138472"
      ]
     },
     "execution_count": 60,
     "metadata": {},
     "output_type": "execute_result"
    }
   ],
   "source": [
    "id(x)"
   ]
  },
  {
   "cell_type": "code",
   "execution_count": 61,
   "metadata": {},
   "outputs": [
    {
     "name": "stdout",
     "output_type": "stream",
     "text": [
      "Variable            Type         Data/Info\n",
      "------------------------------------------\n",
      "add                 function     <function add at 0x0000024DEDDDFCE0>\n",
      "areaOfCircle        function     <function areaOfCircle at 0x0000024DEDDDFE20>\n",
      "convertToHrs        function     <function convertToHrs at 0x0000024DEDE50540>\n",
      "cube                function     <function cube at 0x0000024DEAFD8F40>\n",
      "cubeList            list         n=26\n",
      "cubeRoot            function     <function cubeRoot at 0x0000024DEDE50220>\n",
      "evenList            list         n=16\n",
      "f                   list         n=9\n",
      "findVolume          function     <function findVolume at 0x0000024DEDF6C680>\n",
      "h                   list         n=16\n",
      "i                   int          50\n",
      "l                   list         n=7\n",
      "list                list         n=7\n",
      "math                module       <module 'math' (built-in)>\n",
      "minutes             int          185\n",
      "mul                 function     <function mul at 0x0000024DEDDDF7E0>\n",
      "oddList             list         n=15\n",
      "perimeterOfCircle   function     <function perimeterOfCirc<...>le at 0x0000024DEDE504A0>\n",
      "pi                  float        3.142857142857143\n",
      "s                   dict         n=2\n",
      "sqList              list         n=25\n",
      "square              function     <function square at 0x0000024DEDE502C0>\n",
      "squareRoot          function     <function squareRoot at 0x0000024DEDE500E0>\n",
      "t                   tuple        n=10\n",
      "tempList            dict_keys    dict_keys(['age', 'Fullname'])\n",
      "v                   str          aeiou\n",
      "vol_cuboid          function     <function vol_cuboid at 0x0000024DEDE50680>\n",
      "vol_hemisphere      function     <function vol_hemisphere at 0x0000024DEDEF7880>\n",
      "vol_sphere          function     <function vol_sphere at 0x0000024DEDEF4360>\n",
      "x                   int          5\n",
      "y                   int          895\n"
     ]
    }
   ],
   "source": [
    "%whos"
   ]
  },
  {
   "cell_type": "code",
   "execution_count": 62,
   "metadata": {},
   "outputs": [
    {
     "name": "stdout",
     "output_type": "stream",
     "text": [
      "57512456\n"
     ]
    }
   ],
   "source": [
    "import math\n",
    "x = 386\n",
    "if(x%2==0 and x>1000):\n",
    "    print(x**2)\n",
    "elif(x%2==0 and x<1000):\n",
    "    print(x**3)\n",
    "elif(x%2!=0 and x<1000):\n",
    "    print(x**(1/3))\n",
    "elif(x%2!=0 and x>1000):\n",
    "    print(math.sqrt(x))\n",
    "else:\n",
    "    print(\"none\")"
   ]
  },
  {
   "cell_type": "markdown",
   "metadata": {},
   "source": [
    "Python loop statements"
   ]
  },
  {
   "cell_type": "code",
   "execution_count": 63,
   "metadata": {},
   "outputs": [
    {
     "name": "stdout",
     "output_type": "stream",
     "text": [
      "0\n",
      "1\n",
      "2\n",
      "3\n",
      "4\n",
      "5\n",
      "6\n"
     ]
    }
   ],
   "source": [
    "l = [0, 1, 2, 3, 4, 5, 6]\n",
    "for i in l:\n",
    "    print(i)"
   ]
  },
  {
   "cell_type": "code",
   "execution_count": 64,
   "metadata": {},
   "outputs": [
    {
     "name": "stdout",
     "output_type": "stream",
     "text": [
      "78\n",
      "6\n",
      "6\n",
      "456\n",
      "96\n",
      "6\n",
      "6\n"
     ]
    }
   ],
   "source": [
    "#print those values which divided by both 2 and 3\n",
    "h = [4, 78, 9, 6, 3, 5, 4, 2, 23, 6, 456, 86, 96, 6, 6, 9]\n",
    "for i in h:\n",
    "    if(i%2==0 and i%3==0):\n",
    "        print(i)"
   ]
  },
  {
   "cell_type": "code",
   "execution_count": 65,
   "metadata": {},
   "outputs": [
    {
     "name": "stdout",
     "output_type": "stream",
     "text": [
      "2\n",
      "15\n",
      "8\n",
      "13\n"
     ]
    }
   ],
   "source": [
    "#print elements between 0 and 30\n",
    "list = [2, 15, 60, 32, 8, 91, 13]\n",
    "for i in list:\n",
    "    if(i>0 and i<30):\n",
    "        print(i)"
   ]
  },
  {
   "cell_type": "code",
   "execution_count": 66,
   "metadata": {},
   "outputs": [
    {
     "name": "stdout",
     "output_type": "stream",
     "text": [
      "hello\n",
      "harry\n",
      "meet\n",
      "me\n",
      "at\n",
      "the\n",
      "shop\n"
     ]
    }
   ],
   "source": [
    "s = \"hello harry meet me at the shop\"\n",
    "for i in s.split():\n",
    "    print(i)"
   ]
  },
  {
   "cell_type": "code",
   "execution_count": 67,
   "metadata": {},
   "outputs": [
    {
     "name": "stdout",
     "output_type": "stream",
     "text": [
      "hello\n",
      "harry\n"
     ]
    }
   ],
   "source": [
    "#print those words that starts with \"h\"\n",
    "s = \"hello harry meet me at the shop\"\n",
    "for i in s.split():\n",
    "    if(i.startswith(\"h\")):\n",
    "     print(i)"
   ]
  },
  {
   "cell_type": "code",
   "execution_count": 68,
   "metadata": {},
   "outputs": [
    {
     "name": "stdout",
     "output_type": "stream",
     "text": [
      "meet\n",
      "at\n"
     ]
    }
   ],
   "source": [
    "#print those words that ends with \"t\"\n",
    "for i in s.split():\n",
    "    if(i.endswith('t')):\n",
    "        print(i)"
   ]
  },
  {
   "cell_type": "code",
   "execution_count": 69,
   "metadata": {},
   "outputs": [
    {
     "name": "stdout",
     "output_type": "stream",
     "text": [
      "abhiniza\n",
      "aastha\n"
     ]
    }
   ],
   "source": [
    "# print names that starts with \"a\" and ends with \"a\"\n",
    "s = \"amit rohan abhiniza aastha robin pankaj harry ron san reema\"\n",
    "for i in s.split():\n",
    "    if(i.startswith(\"a\") and i.endswith(\"a\")):\n",
    "        print(i)"
   ]
  },
  {
   "cell_type": "code",
   "execution_count": 70,
   "metadata": {},
   "outputs": [
    {
     "name": "stdout",
     "output_type": "stream",
     "text": [
      "rohan\n",
      "abhiniza\n",
      "aastha\n",
      "robin\n",
      "pankaj\n",
      "harry\n",
      "reema\n"
     ]
    }
   ],
   "source": [
    "# print those names where length is more than 4 \n",
    "for i in s.split():\n",
    "    if(len(i)>4):\n",
    "        print(i)"
   ]
  },
  {
   "cell_type": "code",
   "execution_count": 71,
   "metadata": {},
   "outputs": [
    {
     "name": "stdout",
     "output_type": "stream",
     "text": [
      "amit\n",
      "om\n",
      "aastha\n",
      "eshita\n",
      "udit\n",
      "udaya\n"
     ]
    }
   ],
   "source": [
    "v = \"aeiou\"\n",
    "s = \"amit rohan om aastha eshita pankaj udit ron udaya reema\"\n",
    "for i in s.split():\n",
    "    if(i[0] in v):\n",
    "        print(i)"
   ]
  },
  {
   "cell_type": "code",
   "execution_count": 72,
   "metadata": {},
   "outputs": [
    {
     "name": "stdout",
     "output_type": "stream",
     "text": [
      "[1, 3, 5, 7, 9, 11, 13, 15, 17, 19, 21, 23, 25, 27, 29]\n",
      "[0, 2, 4, 6, 8, 10, 12, 14, 16, 18, 20, 22, 24, 26, 28, 30]\n"
     ]
    }
   ],
   "source": [
    "# create 2 empty lists odd and even \n",
    "# add elements in lists odd(oddlist) and even(evenList) in range 0 to 30\n",
    "\n",
    "oddList = []\n",
    "evenList = []\n",
    "\n",
    "for i in range(0, 31):\n",
    "    if((i & 1)==0):\n",
    "        evenList.append(i)\n",
    "    else:\n",
    "        oddList.append(i)\n",
    "        \n",
    "print(oddList)\n",
    "print(evenList)"
   ]
  },
  {
   "cell_type": "code",
   "execution_count": 73,
   "metadata": {},
   "outputs": [
    {
     "name": "stdout",
     "output_type": "stream",
     "text": [
      "15\n",
      "25\n",
      "35\n",
      "45\n",
      "55\n",
      "65\n",
      "75\n",
      "85\n",
      "95\n"
     ]
    }
   ],
   "source": [
    "# use range(0, 100) and print those number where 2nd digit is 5\n",
    "\n",
    "for i in range(0, 101):\n",
    "    if(i==5):\n",
    "      continue\n",
    "    if(i%10==5):\n",
    "        print(i)"
   ]
  },
  {
   "cell_type": "code",
   "execution_count": 74,
   "metadata": {},
   "outputs": [
    {
     "name": "stdout",
     "output_type": "stream",
     "text": [
      "[1, 9, 25, 49, 81, 121, 169, 225, 289, 361, 441, 529, 625, 729, 841, 961, 1089, 1225, 1369, 1521, 1681, 1849, 2025, 2209, 2401]\n",
      "[0, 8, 64, 216, 512, 1000, 1728, 2744, 4096, 5832, 8000, 10648, 13824, 17576, 21952, 27000, 32768, 39304, 46656, 54872, 64000, 74088, 85184, 97336, 110592, 125000]\n"
     ]
    }
   ],
   "source": [
    "# if number is odd then calculate square and add it in square list\n",
    "# if number is even then calculate cube and add it in cube list\n",
    "# range (0, 50)\n",
    "\n",
    "sqList =[]\n",
    "cubeList = []\n",
    "\n",
    "for i in range(0, 51):\n",
    "    if((i & 1)!=0):\n",
    "        sqList.append(i**2)\n",
    "    else:\n",
    "        cubeList.append(i**3)\n",
    "\n",
    "print(sqList)\n",
    "print(cubeList)"
   ]
  },
  {
   "cell_type": "markdown",
   "metadata": {},
   "source": [
    "Define functions"
   ]
  },
  {
   "cell_type": "code",
   "execution_count": 75,
   "metadata": {},
   "outputs": [
    {
     "name": "stdout",
     "output_type": "stream",
     "text": [
      "5\n"
     ]
    }
   ],
   "source": [
    "def add(var1, var2):\n",
    "    return var1+var2\n",
    "\n",
    "print(add(1, 4))"
   ]
  },
  {
   "cell_type": "code",
   "execution_count": 76,
   "metadata": {},
   "outputs": [
    {
     "name": "stdout",
     "output_type": "stream",
     "text": [
      "10\n"
     ]
    }
   ],
   "source": [
    "#multiply function\n",
    "\n",
    "def mul(n1, n2):\n",
    "    return n1*n2\n",
    "\n",
    "print(mul(2, 5))"
   ]
  },
  {
   "cell_type": "code",
   "execution_count": 77,
   "metadata": {},
   "outputs": [
    {
     "name": "stdout",
     "output_type": "stream",
     "text": [
      "27\n",
      "25\n",
      "3.0\n",
      "9.0\n"
     ]
    }
   ],
   "source": [
    "#create a function for cube\n",
    "#create a function for square\n",
    "#create a function for cube root\n",
    "#create a function for square root\n",
    "\n",
    "\n",
    "def cube(num):\n",
    "    return num**3\n",
    "\n",
    "def square(num):\n",
    "    return num**2\n",
    "\n",
    "def cubeRoot(num):\n",
    "    return num**(1/3)\n",
    "\n",
    "def squareRoot(num):\n",
    "    return num**(1/2)\n",
    "\n",
    "print(cube(3))\n",
    "print(square(5))\n",
    "print(cubeRoot(27))\n",
    "print(squareRoot(81))"
   ]
  },
  {
   "cell_type": "code",
   "execution_count": 78,
   "metadata": {},
   "outputs": [
    {
     "name": "stdout",
     "output_type": "stream",
     "text": [
      "3 Hrs 5 mins\n"
     ]
    }
   ],
   "source": [
    "# convert and print the hours by using minutes\n",
    "\n",
    "minutes = 185\n",
    "\n",
    "def convertToHrs(mins):\n",
    "    print(mins//60, \"Hrs\", mins%60, \"mins\")\n",
    "    \n",
    "convertToHrs(minutes)"
   ]
  },
  {
   "cell_type": "code",
   "execution_count": 79,
   "metadata": {},
   "outputs": [
    {
     "name": "stdout",
     "output_type": "stream",
     "text": [
      "153.93\n",
      "43.98\n"
     ]
    }
   ],
   "source": [
    "# Create a function to calculate area of circle\n",
    "# Create a function to calculate perimeter of circle\n",
    "\n",
    "pi = 3.1415\n",
    "def areaOfCircle(rad):\n",
    "    return pi*(rad**2)\n",
    "\n",
    "def perimeterOfCircle(rad):\n",
    "    return 2*pi*rad\n",
    "\n",
    "print(round(areaOfCircle(7), 2))\n",
    "print(round(perimeterOfCircle(7), 2))\n",
    "\n"
   ]
  },
  {
   "cell_type": "code",
   "execution_count": 80,
   "metadata": {},
   "outputs": [
    {
     "name": "stdout",
     "output_type": "stream",
     "text": [
      "150\n"
     ]
    }
   ],
   "source": [
    "def vol_cuboid(l, b, h):\n",
    "    return l*b*h\n",
    "\n",
    "print(vol_cuboid(3, 5, 10))"
   ]
  },
  {
   "cell_type": "code",
   "execution_count": 81,
   "metadata": {},
   "outputs": [
    {
     "name": "stdout",
     "output_type": "stream",
     "text": [
      "Volume of sphere 268.19\n"
     ]
    }
   ],
   "source": [
    "# calculate and print the volume of sphere\n",
    "\n",
    "pi = 22/7\n",
    "def vol_sphere(rad):\n",
    "    return (4/3)*pi*(rad**3)\n",
    "\n",
    "print(\"Volume of sphere\", round(vol_sphere(4), 2))\n"
   ]
  },
  {
   "cell_type": "code",
   "execution_count": 82,
   "metadata": {},
   "outputs": [
    {
     "name": "stdout",
     "output_type": "stream",
     "text": [
      "Volume of hemisphere 134.1\n"
     ]
    }
   ],
   "source": [
    "# calculate and print the volume of hemisphere\n",
    "\n",
    "pi = 22/7\n",
    "def vol_hemisphere(rad):\n",
    "    return (2/3)*pi*(rad**3)\n",
    "\n",
    "print(\"Volume of hemisphere\", round(vol_hemisphere(4), 2))"
   ]
  },
  {
   "cell_type": "code",
   "execution_count": 88,
   "metadata": {},
   "outputs": [
    {
     "name": "stdout",
     "output_type": "stream",
     "text": [
      "84\n",
      "905.142857142857\n"
     ]
    }
   ],
   "source": [
    "# write a program to calculate the volumes of sphere and cuboid \n",
    "\n",
    "def findVolume(name):\n",
    "    if(name.lower()==\"cuboid\"):\n",
    "       print(vol_cuboid(3, 4, 7))\n",
    "    elif(name.lower()==\"sphere\"):\n",
    "        print(vol_sphere(6))\n",
    "\n",
    "findVolume(\"cuboid\")\n",
    "findVolume(\"sphere\")"
   ]
  },
  {
   "cell_type": "code",
   "execution_count": 89,
   "metadata": {},
   "outputs": [
    {
     "name": "stdout",
     "output_type": "stream",
     "text": [
      "157.14285714285714\n"
     ]
    }
   ],
   "source": [
    "# create a function to find the area and perimeter\n",
    "\n",
    "def csa_hemisphere(rad):\n",
    "    return 2*pi*(rad**2)\n",
    "\n",
    "print(csa_hemisphere(5))"
   ]
  },
  {
   "cell_type": "code",
   "execution_count": 90,
   "metadata": {},
   "outputs": [
    {
     "ename": "NameError",
     "evalue": "name 'csa_hemisphere' is not defined",
     "output_type": "error",
     "traceback": [
      "\u001b[1;31m---------------------------------------------------------------------------\u001b[0m",
      "\u001b[1;31mNameError\u001b[0m                                 Traceback (most recent call last)",
      "Cell \u001b[1;32mIn[90], line 7\u001b[0m\n\u001b[0;32m      4\u001b[0m     \u001b[38;5;28;01melif\u001b[39;00m(name\u001b[38;5;241m.\u001b[39mlower()\u001b[38;5;241m==\u001b[39m\u001b[38;5;124m\"\u001b[39m\u001b[38;5;124mvol\u001b[39m\u001b[38;5;124m\"\u001b[39m):\n\u001b[0;32m      5\u001b[0m         \u001b[38;5;28mprint\u001b[39m(vol_hemisphere(\u001b[38;5;241m8\u001b[39m))\n\u001b[1;32m----> 7\u001b[0m \u001b[43mfindCurvedArea_Volume_of_hemisphere\u001b[49m\u001b[43m(\u001b[49m\u001b[38;5;124;43m\"\u001b[39;49m\u001b[38;5;124;43mcsa\u001b[39;49m\u001b[38;5;124;43m\"\u001b[39;49m\u001b[43m)\u001b[49m\n\u001b[0;32m      8\u001b[0m findCurvedArea_Volume_of_hemisphere(\u001b[38;5;124m\"\u001b[39m\u001b[38;5;124mvol\u001b[39m\u001b[38;5;124m\"\u001b[39m)\n",
      "Cell \u001b[1;32mIn[90], line 3\u001b[0m, in \u001b[0;36mfindCurvedArea_Volume_of_hemisphere\u001b[1;34m(name)\u001b[0m\n\u001b[0;32m      1\u001b[0m \u001b[38;5;28;01mdef\u001b[39;00m \u001b[38;5;21mfindCurvedArea_Volume_of_hemisphere\u001b[39m(name):\n\u001b[0;32m      2\u001b[0m     \u001b[38;5;28;01mif\u001b[39;00m(name\u001b[38;5;241m.\u001b[39mlower()\u001b[38;5;241m==\u001b[39m\u001b[38;5;124m\"\u001b[39m\u001b[38;5;124mcsa\u001b[39m\u001b[38;5;124m\"\u001b[39m):\n\u001b[1;32m----> 3\u001b[0m         \u001b[38;5;28mprint\u001b[39m(\u001b[43mcsa_hemisphere\u001b[49m(\u001b[38;5;241m7\u001b[39m))\n\u001b[0;32m      4\u001b[0m     \u001b[38;5;28;01melif\u001b[39;00m(name\u001b[38;5;241m.\u001b[39mlower()\u001b[38;5;241m==\u001b[39m\u001b[38;5;124m\"\u001b[39m\u001b[38;5;124mvol\u001b[39m\u001b[38;5;124m\"\u001b[39m):\n\u001b[0;32m      5\u001b[0m         \u001b[38;5;28mprint\u001b[39m(vol_hemisphere(\u001b[38;5;241m8\u001b[39m))\n",
      "\u001b[1;31mNameError\u001b[0m: name 'csa_hemisphere' is not defined"
     ]
    }
   ],
   "source": [
    "def findCurvedArea_Volume_of_hemisphere(name):\n",
    "    if(name.lower()==\"csa\"):\n",
    "        print(csa_hemisphere(7))\n",
    "    elif(name.lower()==\"vol\"):\n",
    "        print(vol_hemisphere(8))\n",
    "        \n",
    "findCurvedArea_Volume_of_hemisphere(\"csa\")\n",
    "findCurvedArea_Volume_of_hemisphere(\"vol\")"
   ]
  }
 ],
 "metadata": {
  "kernelspec": {
   "display_name": "base",
   "language": "python",
   "name": "python3"
  },
  "language_info": {
   "codemirror_mode": {
    "name": "ipython",
    "version": 3
   },
   "file_extension": ".py",
   "mimetype": "text/x-python",
   "name": "python",
   "nbconvert_exporter": "python",
   "pygments_lexer": "ipython3",
   "version": "3.11.5"
  }
 },
 "nbformat": 4,
 "nbformat_minor": 2
}
