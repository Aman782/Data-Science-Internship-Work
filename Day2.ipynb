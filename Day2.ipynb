{
 "cells": [
  {
   "cell_type": "markdown",
   "metadata": {},
   "source": [
    "Tuple"
   ]
  },
  {
   "cell_type": "code",
   "execution_count": 1,
   "metadata": {},
   "outputs": [],
   "source": [
    "t = (0, 1, 2, 3, 4, 5, 6, 7, 8, 9)"
   ]
  },
  {
   "cell_type": "code",
   "execution_count": 2,
   "metadata": {},
   "outputs": [
    {
     "data": {
      "text/plain": [
       "tuple"
      ]
     },
     "execution_count": 2,
     "metadata": {},
     "output_type": "execute_result"
    }
   ],
   "source": [
    "type(t)"
   ]
  },
  {
   "cell_type": "code",
   "execution_count": 3,
   "metadata": {},
   "outputs": [
    {
     "data": {
      "text/plain": [
       "5.22"
      ]
     },
     "execution_count": 3,
     "metadata": {},
     "output_type": "execute_result"
    }
   ],
   "source": [
    "#finding the avg of the list\n",
    "f = [1, 4, 7, 8, 9, 6, 5, 3, 4]\n",
    "\n",
    "round(sum(f)/len(f), 2)"
   ]
  },
  {
   "cell_type": "markdown",
   "metadata": {},
   "source": [
    "Dictionary"
   ]
  },
  {
   "cell_type": "code",
   "execution_count": 4,
   "metadata": {},
   "outputs": [
    {
     "name": "stdout",
     "output_type": "stream",
     "text": [
      "{'name': ['a', 'b', 'c', 'd'], 'age': [25, 26, 24, 28]}\n"
     ]
    },
    {
     "data": {
      "text/plain": [
       "dict"
      ]
     },
     "execution_count": 4,
     "metadata": {},
     "output_type": "execute_result"
    }
   ],
   "source": [
    "s = {\"name\":[\"a\", \"b\", \"c\", \"d\"],\n",
    "     \"age\":[25, 26, 24, 28]}\n",
    "print(s)\n",
    "type(s)"
   ]
  },
  {
   "cell_type": "code",
   "execution_count": 5,
   "metadata": {},
   "outputs": [
    {
     "data": {
      "text/plain": [
       "dict_keys(['name', 'age'])"
      ]
     },
     "execution_count": 5,
     "metadata": {},
     "output_type": "execute_result"
    }
   ],
   "source": [
    "s.keys()"
   ]
  },
  {
   "cell_type": "code",
   "execution_count": 6,
   "metadata": {},
   "outputs": [
    {
     "data": {
      "text/plain": [
       "dict_values([['a', 'b', 'c', 'd'], [25, 26, 24, 28]])"
      ]
     },
     "execution_count": 6,
     "metadata": {},
     "output_type": "execute_result"
    }
   ],
   "source": [
    "s.values()"
   ]
  },
  {
   "cell_type": "code",
   "execution_count": 7,
   "metadata": {},
   "outputs": [
    {
     "data": {
      "text/plain": [
       "['a', 'b', 'c', 'd']"
      ]
     },
     "execution_count": 7,
     "metadata": {},
     "output_type": "execute_result"
    }
   ],
   "source": [
    "s[\"name\"]"
   ]
  },
  {
   "cell_type": "code",
   "execution_count": 8,
   "metadata": {},
   "outputs": [
    {
     "data": {
      "text/plain": [
       "['a', 'b']"
      ]
     },
     "execution_count": 8,
     "metadata": {},
     "output_type": "execute_result"
    }
   ],
   "source": [
    "s[\"name\"][0:2]"
   ]
  },
  {
   "cell_type": "code",
   "execution_count": 9,
   "metadata": {},
   "outputs": [
    {
     "name": "stdout",
     "output_type": "stream",
     "text": [
      "{'name': ['a', 'b', 'M', 'd'], 'age': [25, 26, 24, 28]}\n"
     ]
    }
   ],
   "source": [
    "#replacing the name \"C\" with \"M\"\n",
    "\n",
    "s[\"name\"][2] = \"M\"\n",
    "print(s)"
   ]
  },
  {
   "cell_type": "code",
   "execution_count": 10,
   "metadata": {},
   "outputs": [
    {
     "data": {
      "text/plain": [
       "dict_keys"
      ]
     },
     "execution_count": 10,
     "metadata": {},
     "output_type": "execute_result"
    }
   ],
   "source": [
    "tempList = s.keys()\n",
    "\n",
    "type(tempList)"
   ]
  },
  {
   "cell_type": "code",
   "execution_count": 11,
   "metadata": {},
   "outputs": [
    {
     "name": "stdout",
     "output_type": "stream",
     "text": [
      "{'age': [25, 26, 24, 28], 'Fullname': ['a', 'b', 'M', 'd']}\n"
     ]
    }
   ],
   "source": [
    "# Home Work Task\n",
    "# Changing the key 'name' into 'Fullname'\n",
    "s[\"Fullname\"] = s.pop(\"name\")\n",
    "\n",
    "print(s)"
   ]
  },
  {
   "cell_type": "code",
   "execution_count": 12,
   "metadata": {},
   "outputs": [
    {
     "name": "stdout",
     "output_type": "stream",
     "text": [
      "yes\n"
     ]
    }
   ],
   "source": [
    "#conditional statements\n",
    "x = 153\n",
    "if(x%3==0):\n",
    "    print(\"yes\")\n",
    "else:\n",
    "    print(\"no\")"
   ]
  },
  {
   "cell_type": "code",
   "execution_count": 13,
   "metadata": {},
   "outputs": [
    {
     "name": "stdout",
     "output_type": "stream",
     "text": [
      "smaller\n"
     ]
    }
   ],
   "source": [
    "# x is less than or more than 1000\n",
    "x = 895\n",
    "\n",
    "if(x>1000):\n",
    "    print(\"greater\")\n",
    "elif (x<1000):\n",
    "    print(\"smaller\")\n",
    "else:\n",
    "    print(\"equals\")"
   ]
  },
  {
   "cell_type": "code",
   "execution_count": 14,
   "metadata": {},
   "outputs": [
    {
     "name": "stdout",
     "output_type": "stream",
     "text": [
      "It is greater than 500 & less than 1000\n"
     ]
    }
   ],
   "source": [
    "y = 895\n",
    "\n",
    "if(x>500 and x<1000):\n",
    "    print(\"It is greater than 500 & less than 1000\")\n",
    "elif (x>1000):\n",
    "    print(\"It is greater than 1000\")\n",
    "elif (x<500):\n",
    "    print(\"It is less than 500\")\n",
    "else:\n",
    "    print(\"It is greater than 1000\")"
   ]
  },
  {
   "cell_type": "code",
   "execution_count": 15,
   "metadata": {},
   "outputs": [
    {
     "name": "stdout",
     "output_type": "stream",
     "text": [
      "odd\n"
     ]
    }
   ],
   "source": [
    "x = 5\n",
    "if(x%2==0):\n",
    "    print(\"even\")\n",
    "else:\n",
    "    print(\"odd\")"
   ]
  },
  {
   "cell_type": "code",
   "execution_count": 16,
   "metadata": {},
   "outputs": [
    {
     "name": "stdout",
     "output_type": "stream",
     "text": [
      "25\n"
     ]
    }
   ],
   "source": [
    "x = 5\n",
    "if(x%2==0):\n",
    "    print(x**3)\n",
    "else:\n",
    "    print(x**2)"
   ]
  },
  {
   "cell_type": "code",
   "execution_count": 17,
   "metadata": {},
   "outputs": [
    {
     "data": {
      "text/plain": [
       "140733583627176"
      ]
     },
     "execution_count": 17,
     "metadata": {},
     "output_type": "execute_result"
    }
   ],
   "source": [
    "id(x)"
   ]
  },
  {
   "cell_type": "code",
   "execution_count": 18,
   "metadata": {},
   "outputs": [
    {
     "name": "stdout",
     "output_type": "stream",
     "text": [
      "Variable   Type         Data/Info\n",
      "---------------------------------\n",
      "f          list         n=9\n",
      "s          dict         n=2\n",
      "t          tuple        n=10\n",
      "tempList   dict_keys    dict_keys(['age', 'Fullname'])\n",
      "x          int          5\n",
      "y          int          895\n"
     ]
    }
   ],
   "source": [
    "%whos"
   ]
  },
  {
   "cell_type": "code",
   "execution_count": 19,
   "metadata": {},
   "outputs": [
    {
     "name": "stdout",
     "output_type": "stream",
     "text": [
      "57512456\n"
     ]
    }
   ],
   "source": [
    "import math\n",
    "x = 386\n",
    "if(x%2==0 and x>1000):\n",
    "    print(x**2)\n",
    "elif(x%2==0 and x<1000):\n",
    "    print(x**3)\n",
    "elif(x%2!=0 and x<1000):\n",
    "    print(x**(1/3))\n",
    "elif(x%2!=0 and x>1000):\n",
    "    print(math.sqrt(x))\n",
    "else:\n",
    "    print(\"none\")"
   ]
  },
  {
   "cell_type": "markdown",
   "metadata": {},
   "source": [
    "Python loop statements"
   ]
  },
  {
   "cell_type": "code",
   "execution_count": 20,
   "metadata": {},
   "outputs": [
    {
     "name": "stdout",
     "output_type": "stream",
     "text": [
      "0\n",
      "1\n",
      "2\n",
      "3\n",
      "4\n",
      "5\n",
      "6\n"
     ]
    }
   ],
   "source": [
    "l = [0, 1, 2, 3, 4, 5, 6]\n",
    "for i in l:\n",
    "    print(i)"
   ]
  },
  {
   "cell_type": "code",
   "execution_count": 22,
   "metadata": {},
   "outputs": [
    {
     "name": "stdout",
     "output_type": "stream",
     "text": [
      "78\n",
      "6\n",
      "6\n",
      "456\n",
      "96\n",
      "6\n",
      "6\n"
     ]
    }
   ],
   "source": [
    "#print those values which divided by both 2 and 3\n",
    "h = [4, 78, 9, 6, 3, 5, 4, 2, 23, 6, 456, 86, 96, 6, 6, 9]\n",
    "for i in h:\n",
    "    if(i%2==0 and i%3==0):\n",
    "        print(i)"
   ]
  },
  {
   "cell_type": "code",
   "execution_count": 24,
   "metadata": {},
   "outputs": [
    {
     "name": "stdout",
     "output_type": "stream",
     "text": [
      "2\n",
      "15\n",
      "8\n",
      "13\n"
     ]
    }
   ],
   "source": [
    "#print elements between 0 and 30\n",
    "list = [2, 15, 60, 32, 8, 91, 13]\n",
    "for i in list:\n",
    "    if(i>0 and i<30):\n",
    "        print(i)"
   ]
  },
  {
   "cell_type": "code",
   "execution_count": 26,
   "metadata": {},
   "outputs": [
    {
     "name": "stdout",
     "output_type": "stream",
     "text": [
      "hello\n",
      "harry\n",
      "meet\n",
      "me\n",
      "at\n",
      "the\n",
      "shop\n"
     ]
    }
   ],
   "source": [
    "s = \"hello harry meet me at the shop\"\n",
    "for i in s.split():\n",
    "    print(i)"
   ]
  },
  {
   "cell_type": "code",
   "execution_count": 27,
   "metadata": {},
   "outputs": [
    {
     "name": "stdout",
     "output_type": "stream",
     "text": [
      "hello\n",
      "harry\n"
     ]
    }
   ],
   "source": [
    "#print those words that starts with \"h\"\n",
    "s = \"hello harry meet me at the shop\"\n",
    "for i in s.split():\n",
    "    if(i.startswith(\"h\")):\n",
    "     print(i)"
   ]
  },
  {
   "cell_type": "code",
   "execution_count": 28,
   "metadata": {},
   "outputs": [
    {
     "name": "stdout",
     "output_type": "stream",
     "text": [
      "meet\n",
      "at\n"
     ]
    }
   ],
   "source": [
    "#print those words that ends with \"t\"\n",
    "for i in s.split():\n",
    "    if(i.endswith('t')):\n",
    "        print(i)"
   ]
  },
  {
   "cell_type": "code",
   "execution_count": 30,
   "metadata": {},
   "outputs": [
    {
     "name": "stdout",
     "output_type": "stream",
     "text": [
      "abhiniza\n",
      "aastha\n"
     ]
    }
   ],
   "source": [
    "# print names that starts with \"a\" and ends with \"a\"\n",
    "s = \"amit rohan abhiniza aastha robin pankaj harry ron san reema\"\n",
    "for i in s.split():\n",
    "    if(i.startswith(\"a\") and i.endswith(\"a\")):\n",
    "        print(i)"
   ]
  },
  {
   "cell_type": "code",
   "execution_count": 31,
   "metadata": {},
   "outputs": [
    {
     "name": "stdout",
     "output_type": "stream",
     "text": [
      "rohan\n",
      "abhiniza\n",
      "aastha\n",
      "robin\n",
      "pankaj\n",
      "harry\n",
      "reema\n"
     ]
    }
   ],
   "source": [
    "# print those names where length is more than 4 \n",
    "for i in s.split():\n",
    "    if(len(i)>4):\n",
    "        print(i)"
   ]
  },
  {
   "cell_type": "code",
   "execution_count": 34,
   "metadata": {},
   "outputs": [
    {
     "name": "stdout",
     "output_type": "stream",
     "text": [
      "amit\n",
      "om\n",
      "aastha\n",
      "eshita\n",
      "udit\n",
      "udaya\n"
     ]
    }
   ],
   "source": [
    "v = \"aeiou\"\n",
    "s = \"amit rohan om aastha eshita pankaj udit ron udaya reema\"\n",
    "for i in s.split():\n",
    "    if(i[0] in v):\n",
    "        print(i)"
   ]
  },
  {
   "cell_type": "code",
   "execution_count": 35,
   "metadata": {},
   "outputs": [
    {
     "name": "stdout",
     "output_type": "stream",
     "text": [
      "[1, 3, 5, 7, 9, 11, 13, 15, 17, 19, 21, 23, 25, 27, 29]\n",
      "[0, 2, 4, 6, 8, 10, 12, 14, 16, 18, 20, 22, 24, 26, 28, 30]\n"
     ]
    }
   ],
   "source": [
    "# create 2 empty lists odd and even \n",
    "# add elements in lists odd(oddlist) and even(evenList) in range 0 to 30\n",
    "\n",
    "oddList = []\n",
    "evenList = []\n",
    "\n",
    "for i in range(0, 31):\n",
    "    if((i & 1)==0):\n",
    "        evenList.append(i)\n",
    "    else:\n",
    "        oddList.append(i)\n",
    "        \n",
    "print(oddList)\n",
    "print(evenList)"
   ]
  },
  {
   "cell_type": "code",
   "execution_count": 37,
   "metadata": {},
   "outputs": [
    {
     "name": "stdout",
     "output_type": "stream",
     "text": [
      "15\n",
      "25\n",
      "35\n",
      "45\n",
      "55\n",
      "65\n",
      "75\n",
      "85\n",
      "95\n"
     ]
    }
   ],
   "source": [
    "# use range(0, 100) and print those number where 2nd digit is 5\n",
    "\n",
    "for i in range(0, 101):\n",
    "    if(i==5):\n",
    "      continue\n",
    "    if(i%10==5):\n",
    "        print(i)"
   ]
  },
  {
   "cell_type": "code",
   "execution_count": 39,
   "metadata": {},
   "outputs": [
    {
     "name": "stdout",
     "output_type": "stream",
     "text": [
      "[1, 9, 25, 49, 81, 121, 169, 225, 289, 361, 441, 529, 625, 729, 841, 961, 1089, 1225, 1369, 1521, 1681, 1849, 2025, 2209, 2401]\n",
      "[0, 8, 64, 216, 512, 1000, 1728, 2744, 4096, 5832, 8000, 10648, 13824, 17576, 21952, 27000, 32768, 39304, 46656, 54872, 64000, 74088, 85184, 97336, 110592, 125000]\n"
     ]
    }
   ],
   "source": [
    "# if number is odd then calculate square and add it in square list\n",
    "# if number is even then calculate cube and add it in cube list\n",
    "# range (0, 50)\n",
    "\n",
    "sqList =[]\n",
    "cubeList = []\n",
    "\n",
    "for i in range(0, 51):\n",
    "    if((i & 1)!=0):\n",
    "        sqList.append(i**2)\n",
    "    else:\n",
    "        cubeList.append(i**3)\n",
    "\n",
    "print(sqList)\n",
    "print(cubeList)"
   ]
  }
 ],
 "metadata": {
  "kernelspec": {
   "display_name": "base",
   "language": "python",
   "name": "python3"
  },
  "language_info": {
   "codemirror_mode": {
    "name": "ipython",
    "version": 3
   },
   "file_extension": ".py",
   "mimetype": "text/x-python",
   "name": "python",
   "nbconvert_exporter": "python",
   "pygments_lexer": "ipython3",
   "version": "3.11.5"
  }
 },
 "nbformat": 4,
 "nbformat_minor": 2
}
