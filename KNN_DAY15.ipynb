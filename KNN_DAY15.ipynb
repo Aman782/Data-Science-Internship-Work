{
 "cells": [
  {
   "cell_type": "code",
   "execution_count": null,
   "id": "18767a0a-db04-4b45-bc9f-a2d080a79240",
   "metadata": {},
   "outputs": [],
   "source": [
    "import pandas as pd\n",
    "import numpy as np\n",
    "import matplotlib.pyplot as plt\n",
    "from sklearn.linear_model import LinearRegression, LogisticRegression\n",
    "from sklearn.model_selection import train_test_split\n",
    "from sklearn.tree import DecisionTreeClassifier\n",
    "from sklearn.ensemble import RandomForestClassifier\n",
    "from sklearn import metrics\n",
    "from sklearn.naive_bayes import GaussianNB, MultinomialNB, BernoulliNB\n",
    "from sklearn.neighbors import KNeighborsClassifier\n",
    "import seaborn as sns\n",
    "\n",
    "import warnings\n",
    "warnings.filterwarnings(\"ignore\")"
   ]
  },
  {
   "cell_type": "code",
   "execution_count": null,
   "id": "9ed5cf0e-41fe-446a-b44d-ae018ddd5c0c",
   "metadata": {},
   "outputs": [],
   "source": [
    "df = pd.read_csv('diabetes.csv')"
   ]
  },
  {
   "cell_type": "code",
   "execution_count": null,
   "id": "7839c9e3-1ba2-4ff9-9341-955db7db44ea",
   "metadata": {},
   "outputs": [],
   "source": [
    "df.head()"
   ]
  },
  {
   "cell_type": "code",
   "execution_count": null,
   "id": "1dd33342-4bfd-4005-be69-658619fd38b2",
   "metadata": {},
   "outputs": [],
   "source": [
    "df.columns\n"
   ]
  },
  {
   "cell_type": "code",
   "execution_count": null,
   "id": "8e918448-5303-487d-8d4e-cba1a5c88ec5",
   "metadata": {},
   "outputs": [],
   "source": [
    "df.info()"
   ]
  },
  {
   "cell_type": "code",
   "execution_count": null,
   "id": "4a2c3e2e-6a12-4ffd-8604-537272af8ca6",
   "metadata": {},
   "outputs": [],
   "source": [
    "df.duplicated().sum()"
   ]
  },
  {
   "cell_type": "code",
   "execution_count": null,
   "id": "78eda739-568f-465a-b681-fe90ea72eed2",
   "metadata": {},
   "outputs": [],
   "source": [
    "def outliers(x):\n",
    "    y = x.select_dtypes(include=[int, float])\n",
    "    for i in y:\n",
    "        sns.boxplot(x=df[i])\n",
    "        plt.title(i)\n",
    "        plt.show()"
   ]
  },
  {
   "cell_type": "code",
   "execution_count": null,
   "id": "bdb73d3a-3b12-4e6f-9000-4519c331b98e",
   "metadata": {},
   "outputs": [],
   "source": [
    "outliers(df)"
   ]
  },
  {
   "cell_type": "code",
   "execution_count": null,
   "id": "306b2e2e-a3bb-497f-bf13-ba80b1310345",
   "metadata": {},
   "outputs": [],
   "source": [
    "def cal_uf_lf(q1, q3):\n",
    "    IQR = q3-q1\n",
    "    lf = q1-(IQR*1.5)\n",
    "    uf = q3+(IQR*1.5)\n",
    "    print(\"lf-->\", lf, \"uf-->\", uf)\n",
    "    return [lf, uf]"
   ]
  },
  {
   "cell_type": "code",
   "execution_count": null,
   "id": "447b07fd-13a6-47dc-ad92-794cef1c0b8a",
   "metadata": {},
   "outputs": [],
   "source": [
    "df.describe()"
   ]
  },
  {
   "cell_type": "code",
   "execution_count": null,
   "id": "605f102c-1e2d-47a2-9ad3-218f93e6b09b",
   "metadata": {},
   "outputs": [],
   "source": [
    "[lf, uf] = cal_uf_lf(1.000000, 6.000000)"
   ]
  },
  {
   "cell_type": "code",
   "execution_count": null,
   "id": "06472fc9-8747-4203-8c25-11a514d5296d",
   "metadata": {},
   "outputs": [],
   "source": [
    "df['Pregnancies'] = np.where(df['Pregnancies']>uf, uf, df['Pregnancies'])\n",
    "df['Pregnancies'] = np.where(df['Pregnancies']<lf, lf, df['Pregnancies'])"
   ]
  },
  {
   "cell_type": "code",
   "execution_count": null,
   "id": "013fdfd2-be42-4c01-ab5c-e36b1c35a251",
   "metadata": {},
   "outputs": [],
   "source": [
    "plt.boxplot(df['Pregnancies'])\n",
    "plt.show()"
   ]
  },
  {
   "cell_type": "code",
   "execution_count": null,
   "id": "dfd0243a-3dba-40cb-b597-260a92ba26a8",
   "metadata": {},
   "outputs": [],
   "source": [
    "[lf, uf] = cal_uf_lf(99.000000, 140.250000)"
   ]
  },
  {
   "cell_type": "code",
   "execution_count": null,
   "id": "d6ffefed-cad5-40b0-aceb-134d53287850",
   "metadata": {},
   "outputs": [],
   "source": [
    "[lf, uf] = cal_uf_lf(62.000000, 80.0000000)"
   ]
  },
  {
   "cell_type": "code",
   "execution_count": null,
   "id": "2bfff1eb-c9b3-4d83-8da4-f5bb9e84ba56",
   "metadata": {},
   "outputs": [],
   "source": [
    "df['BloodPressure'] = np.where(df['BloodPressure']>uf, uf, df['BloodPressure'])\n",
    "df['BloodPressure'] = np.where(df['BloodPressure']<lf, lf, df['BloodPressure'])"
   ]
  },
  {
   "cell_type": "code",
   "execution_count": null,
   "id": "093fefe9-024a-4ac8-b5fd-f0fec68d48f1",
   "metadata": {},
   "outputs": [],
   "source": [
    "plt.boxplot(df['BloodPressure'])"
   ]
  },
  {
   "cell_type": "code",
   "execution_count": null,
   "id": "66e25e43-abd6-49cf-9db9-997b43b7ce89",
   "metadata": {},
   "outputs": [],
   "source": [
    "[lf, uf] = cal_uf_lf(0.000000, 32.000000)"
   ]
  },
  {
   "cell_type": "code",
   "execution_count": null,
   "id": "cd9353fd-0354-4098-8287-97b18ddbb537",
   "metadata": {},
   "outputs": [],
   "source": [
    "df['SkinThickness'] = np.where(df['SkinThickness']>uf, uf, df['SkinThickness'])\n",
    "df['SkinThickness'] = np.where(df['SkinThickness']<lf, lf, df['SkinThickness'])"
   ]
  },
  {
   "cell_type": "code",
   "execution_count": null,
   "id": "60088781-538c-4be1-8339-ff6826606f6f",
   "metadata": {},
   "outputs": [],
   "source": [
    "plt.boxplot(df['SkinThickness'])"
   ]
  },
  {
   "cell_type": "code",
   "execution_count": null,
   "id": "4fa075e1-df89-4fee-acb0-7f09382760e2",
   "metadata": {},
   "outputs": [],
   "source": [
    "[lf, uf] = cal_uf_lf(0.000000, 127.250000)"
   ]
  },
  {
   "cell_type": "code",
   "execution_count": null,
   "id": "69b4db94-91c1-4c8d-a46e-2a59e47bd6af",
   "metadata": {},
   "outputs": [],
   "source": [
    "df['Insulin'] = np.where(df['Insulin']>uf, uf, df['Insulin'])\n",
    "df['Insulin'] = np.where(df['Insulin']<lf, lf, df['Insulin'])"
   ]
  },
  {
   "cell_type": "code",
   "execution_count": null,
   "id": "8729e439-949b-409a-80a0-0952ed86e890",
   "metadata": {},
   "outputs": [],
   "source": [
    "plt.boxplot(df['Insulin'])"
   ]
  },
  {
   "cell_type": "code",
   "execution_count": null,
   "id": "0ac4c7af-51e3-4855-842b-b7c3f544c81d",
   "metadata": {},
   "outputs": [],
   "source": [
    "[lf, uf] = cal_uf_lf(27.300000, 36.600000)"
   ]
  },
  {
   "cell_type": "code",
   "execution_count": null,
   "id": "2e1e991d-2d96-4bea-809b-bb6a87ee3827",
   "metadata": {},
   "outputs": [],
   "source": [
    "df['BMI'] = np.where(df['BMI']>uf, uf, df['BMI'])\n",
    "df['BMI'] = np.where(df['BMI']<lf, lf, df['BMI'])"
   ]
  },
  {
   "cell_type": "code",
   "execution_count": null,
   "id": "0fdaa3f9-22fa-4740-9213-80d347bf6004",
   "metadata": {},
   "outputs": [],
   "source": [
    "plt.boxplot(df['BMI'])\n",
    "plt.show()"
   ]
  },
  {
   "cell_type": "code",
   "execution_count": null,
   "id": "e20ba367-ca76-4390-8262-799b888c2de5",
   "metadata": {},
   "outputs": [],
   "source": [
    "df.describe()"
   ]
  },
  {
   "cell_type": "code",
   "execution_count": null,
   "id": "97c8d13c-1cb5-4766-9167-d850d45d6b7e",
   "metadata": {},
   "outputs": [],
   "source": [
    "[lf, uf]  =  cal_uf_lf(0.243750,0.626250)"
   ]
  },
  {
   "cell_type": "code",
   "execution_count": null,
   "id": "7f30a601-3f85-4b50-b5ef-bce0018e4181",
   "metadata": {},
   "outputs": [],
   "source": [
    "df['DiabetesPedigreeFunction'] = np.where(df['DiabetesPedigreeFunction']>uf, uf, df['DiabetesPedigreeFunction'])\n",
    "df['DiabetesPedigreeFunction'] = np.where(df['DiabetesPedigreeFunction']<lf, lf, df['DiabetesPedigreeFunction'])"
   ]
  },
  {
   "cell_type": "code",
   "execution_count": null,
   "id": "9d7f5d90-f783-401d-899e-b8a79260072d",
   "metadata": {},
   "outputs": [],
   "source": [
    "plt.boxplot(df['DiabetesPedigreeFunction'])"
   ]
  },
  {
   "cell_type": "code",
   "execution_count": null,
   "id": "fb74b0f4-061c-4554-b5c2-2a469d9fb992",
   "metadata": {},
   "outputs": [],
   "source": [
    "[lf, uf] = cal_uf_lf(24.000000, 41.000000)"
   ]
  },
  {
   "cell_type": "code",
   "execution_count": null,
   "id": "bf3a79e9-a427-4f9d-96f3-ef40d41cd3a9",
   "metadata": {},
   "outputs": [],
   "source": [
    "df['Age'] = np.where(df['Age']>uf, uf, df['Age'])\n",
    "df['Age'] = np.where(df['Age']<lf, lf, df['Age'])"
   ]
  },
  {
   "cell_type": "code",
   "execution_count": null,
   "id": "66417a48-f9f8-43d5-9005-4bf659270af3",
   "metadata": {},
   "outputs": [],
   "source": [
    "plt.boxplot(df['Age'])"
   ]
  },
  {
   "cell_type": "code",
   "execution_count": null,
   "id": "e277fee3-654b-44cb-a5e5-3d2e5a739ba0",
   "metadata": {},
   "outputs": [],
   "source": [
    "[lf, uf] = cal_uf_lf(0.000000, 1.000000)"
   ]
  },
  {
   "cell_type": "code",
   "execution_count": null,
   "id": "b3912288-063e-404a-9a75-5fe33861e230",
   "metadata": {},
   "outputs": [],
   "source": [
    "df['Outcome'] = np.where(df['Outcome']>uf, uf, df['Outcome'])\n",
    "df['Outcome'] = np.where(df['Outcome']<lf, lf, df['Outcome'])"
   ]
  },
  {
   "cell_type": "code",
   "execution_count": null,
   "id": "09d2308b-7c68-4bfc-af56-0fdc683be2a7",
   "metadata": {},
   "outputs": [],
   "source": [
    "plt.boxplot(df['Outcome'])\n",
    "plt.show()"
   ]
  },
  {
   "cell_type": "code",
   "execution_count": null,
   "id": "20cafe0a-c616-4fec-bac2-053c661368c8",
   "metadata": {},
   "outputs": [],
   "source": [
    "y  = df['Outcome']\n",
    "x = df.drop(columns='Outcome')"
   ]
  },
  {
   "cell_type": "code",
   "execution_count": null,
   "id": "9f058abf-be38-4dc5-b6d9-120870cd6864",
   "metadata": {},
   "outputs": [],
   "source": [
    "x_train, x_test, y_train, y_test = train_test_split(x,y, test_size=0.2, random_state=88)"
   ]
  },
  {
   "cell_type": "code",
   "execution_count": null,
   "id": "976bbb96-329e-483c-8d1b-cfe8ff6be574",
   "metadata": {},
   "outputs": [],
   "source": [
    "log_model = LogisticRegression()"
   ]
  },
  {
   "cell_type": "code",
   "execution_count": null,
   "id": "3951f473-5659-4772-b6fb-69c95388c7e7",
   "metadata": {},
   "outputs": [],
   "source": [
    "log_model.fit(x_train, y_train)"
   ]
  },
  {
   "cell_type": "code",
   "execution_count": null,
   "id": "73623670-2912-463f-8bbd-1ca83e4afeb7",
   "metadata": {},
   "outputs": [],
   "source": [
    "print(\"Train accuracy:\", log_model.score(x_train, y_train))\n",
    "print(\"Test accuracy:\", log_model.score(x_test, y_test))"
   ]
  },
  {
   "cell_type": "code",
   "execution_count": null,
   "id": "b624b362-b73d-42f3-bc1e-0e0f4510b453",
   "metadata": {},
   "outputs": [],
   "source": [
    "knn = KNeighborsClassifier(n_neighbors=3)"
   ]
  },
  {
   "cell_type": "code",
   "execution_count": null,
   "id": "9cfd37c0-68a4-46d0-add1-6cef2eca129d",
   "metadata": {},
   "outputs": [],
   "source": [
    "knn.fit(x_train, y_train)"
   ]
  },
  {
   "cell_type": "code",
   "execution_count": null,
   "id": "085a3f74-e8c1-438c-8cbd-429446684bb4",
   "metadata": {},
   "outputs": [],
   "source": [
    "print(\"Train accuracy:\", knn.score(x_train, y_train))\n",
    "print(\"Test accuracy:\", knn.score(x_test, y_test))"
   ]
  },
  {
   "cell_type": "code",
   "execution_count": null,
   "id": "50350fe9-723e-4202-822e-3f12199addc7",
   "metadata": {},
   "outputs": [],
   "source": []
  },
  {
   "cell_type": "code",
   "execution_count": null,
   "id": "52aaa054-a281-4622-9ef2-cc8b4e9cf059",
   "metadata": {},
   "outputs": [],
   "source": [
    "k = []\n",
    "tr = []\n",
    "te = []\n",
    "\n",
    "for i in range(3, 20, 2):\n",
    "    knn = KNeighborsClassifier(n_neighbors=i)\n",
    "    knn.fit(x_train, y_train)\n",
    "    print(\"KNeighborsClassifier:\", i)\n",
    "    k.append(i)\n",
    "\n",
    "    print(\"Train accuracy:\", knn.score(x_train, y_train))\n",
    "    tr.append(round(knn.score(x_train, y_train),2))\n",
    "    print(\"Test accuracy:\", knn.score(x_test, y_test))\n",
    "    te.append(round(knn.score(x_test, y_test),2))\n",
    "\n",
    "    print(\"**********************************\")"
   ]
  },
  {
   "cell_type": "code",
   "execution_count": null,
   "id": "5e792d2c-480d-4020-ba9b-af13c422110d",
   "metadata": {},
   "outputs": [],
   "source": [
    "print(tr)\n",
    "print(te)\n",
    "print(k)\n",
    "\n",
    "\n",
    "\n",
    "\n"
   ]
  },
  {
   "cell_type": "code",
   "execution_count": null,
   "id": "319f85ed-4c24-4f1a-962a-4a08a0be23f0",
   "metadata": {},
   "outputs": [],
   "source": [
    "plt.figure(figsize=(15, 5))\n",
    "plt.plot(k, tr, label=\"train\")\n",
    "plt.plot(k, tr, \"go--\")\n",
    "\n",
    "plt.plot(k, te, label=\"test\")\n",
    "plt.plot(k, te, \"bo--\")\n",
    "\n",
    "for x,y in zip(k, tr):\n",
    "    plt.text(x, y, y)\n",
    "\n",
    "for x,y in zip(k, te):\n",
    "   plt.text(x, y, y)\n",
    "\n",
    "plt.xticks(k)\n",
    "plt.legend()\n",
    "plt.show()"
   ]
  },
  {
   "cell_type": "code",
   "execution_count": null,
   "id": "8db465f7-94e7-4fee-a2c7-ebd3b69e7a6d",
   "metadata": {},
   "outputs": [],
   "source": [
    "print(metrics.classification_report(y_train, knn.predict(x_train)))"
   ]
  },
  {
   "cell_type": "code",
   "execution_count": null,
   "id": "21ed3e36-cd6d-473c-9547-c9993b0b0aa0",
   "metadata": {},
   "outputs": [],
   "source": [
    "print(metrics.classification_report(y_test, knn.predict(x_test)))"
   ]
  },
  {
   "cell_type": "code",
   "execution_count": null,
   "id": "ef57fb21-921d-49b6-97d8-443da7c7ed1f",
   "metadata": {},
   "outputs": [],
   "source": [
    "f = {'Pregnancies':[6, 1], 'Glucose':[148, 85], 'BloodPressure':[72, 66], 'SkinThickness':[35, 29], 'Insulin':[0, 0], 'BMI':[33.6, 26.6], 'DiabetesPedigreeFunction':[.627, .351], 'Age':[50, 31]}"
   ]
  },
  {
   "cell_type": "code",
   "execution_count": null,
   "id": "e9fe56a2-320a-4994-886b-9355129506e8",
   "metadata": {},
   "outputs": [],
   "source": [
    "ff = pd.DataFrame(f)"
   ]
  },
  {
   "cell_type": "code",
   "execution_count": null,
   "id": "a582cd8e-7cb8-401a-b1bb-f4f296073fb0",
   "metadata": {},
   "outputs": [],
   "source": [
    "knn.predict(ff)"
   ]
  },
  {
   "cell_type": "code",
   "execution_count": null,
   "id": "246e3dec-3da2-49fa-90a4-7aaaaca0dafe",
   "metadata": {},
   "outputs": [],
   "source": [
    "df"
   ]
  },
  {
   "cell_type": "code",
   "execution_count": null,
   "id": "2cffda7e-5b1c-4b15-86cf-12c30a866cb8",
   "metadata": {},
   "outputs": [],
   "source": []
  }
 ],
 "metadata": {
  "kernelspec": {
   "display_name": "Python 3 (ipykernel)",
   "language": "python",
   "name": "python3"
  },
  "language_info": {
   "codemirror_mode": {
    "name": "ipython",
    "version": 3
   },
   "file_extension": ".py",
   "mimetype": "text/x-python",
   "name": "python",
   "nbconvert_exporter": "python",
   "pygments_lexer": "ipython3",
   "version": "3.11.5"
  }
 },
 "nbformat": 4,
 "nbformat_minor": 5
}
